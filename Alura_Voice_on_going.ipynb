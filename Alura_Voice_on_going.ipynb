{
  "cells": [
    {
      "cell_type": "markdown",
      "metadata": {
        "id": "a296dec2-aead-4b1e-bcd3-543013f1faf4"
      },
      "source": [
        "# Alura Voz - Telecommunication Operator Company"
      ],
      "id": "a296dec2-aead-4b1e-bcd3-543013f1faf4"
    },
    {
      "cell_type": "markdown",
      "source": [
        "This a Challenger we work on Alura Voz, a telecom operator company that needs helps from data analyst and scientist team to support sales team to build customer loyalty"
      ],
      "metadata": {
        "id": "8GVJT-QyxyKL"
      },
      "id": "8GVJT-QyxyKL"
    },
    {
      "cell_type": "markdown",
      "metadata": {
        "id": "9234dadc-09db-4a10-ac23-2ff1bb2035c8"
      },
      "source": [
        "## Context:\n",
        "- In a initial meeting with company's sales team the importance of reducing the Customer Evasion Rate, known as Churn Rate. The Churn Rate indicates which and how many customers stop doing business with a company over a given period of time.\n",
        "- In this file I'll focus on techniques of cleaning data and how to deal with them.\n",
        "- In general, this dataset is a JSON file with many inconsistences, the idea of this file is to generated a clean csv file ready for an exploratory analysis.\n",
        "- On Exploratory Analysis, we'll explore what causing evasion by relating variables and see which conclusions we are able to do based on data.\n",
        "\n",
        "- Check out the original source if you are interested in using this data for other purposes on:\n",
        "(https://www.kaggle.com/datasets/blastchar/telco-customer-churn)"
      ],
      "id": "9234dadc-09db-4a10-ac23-2ff1bb2035c8"
    },
    {
      "cell_type": "markdown",
      "metadata": {
        "id": "8f91be3e-ee1d-4375-bbe9-91507e06f447"
      },
      "source": [
        "## Dataset Description:\n",
        "\n",
        "We'll work on the data within Dados/Telco-Customer-Churn.json \n",
        "\n",
        "Each row corresponds to an individual customer at Telecom database.\n",
        "\n",
        "The columns are:\n",
        "- **customerID**: identification Number of each individual customer as kwown as Customer ID;\n",
        "- **Churn**: to identify which customer stop doing business with the company;\n",
        "- **gender**: gender (Male or Female);\n",
        "- **SeniorCitizen**: to know which customer has an age above or equal to 65 years old;\n",
        "- **Partner**: to identify which customer has a partner;\n",
        "- **Dependents**: whether or not the customer has dependents;\n",
        "- **tenure**: months of contract with a customer;\n",
        "- **PhoneService**: phone subscription service;\n",
        "- **MultipleLines**: multiple lines of phone subscription;\n",
        "- **InternetService**: internet service provider subscription;\n",
        "- **OnlineSecurity**: online security aditional subscription;\n",
        "- **OnlineBackup**: online backup aditional subscription;\n",
        "- **DeviceProtection**: device protection aditional subscription;\n",
        "- **TechSupport**: tech support subscription to decrease waiting time;\n",
        "- **StreamingTV**: streaming TV subscription;\n",
        "- **StreamingMovies**: streaming movies subscription;\n",
        "- **Contract**: contract type\n",
        "- **PaperlessBilling**: if client prefer to receive his bills online; \n",
        "- **PaymentMethod**: payment method\n",
        "- **Charges.Monthly**: total charges of all services per month;\n",
        "- **Charges.Total**: total charges"
      ],
      "id": "8f91be3e-ee1d-4375-bbe9-91507e06f447"
    },
    {
      "cell_type": "markdown",
      "metadata": {
        "id": "2062b57c-feff-44c5-b635-6382fcd5fa5b"
      },
      "source": [
        "## Objective: \n",
        "   - Examine/clean the dataset\n",
        "   - Explore dataset distributions of single numerical and categorical features via statistics and plots\n",
        "   - Explore relationships of multiple features via statistics and plots\n",
        "   - Apply machine learning models and create metrics to evaluate ML performance\n",
        "\n",
        "We are going to explore dataset to find answers for situation describe on context."
      ],
      "id": "2062b57c-feff-44c5-b635-6382fcd5fa5b"
    },
    {
      "cell_type": "markdown",
      "metadata": {
        "id": "714c20a8-827a-4618-aae3-1a9e7dead501"
      },
      "source": [
        "## 1. Import libraries"
      ],
      "id": "714c20a8-827a-4618-aae3-1a9e7dead501"
    },
    {
      "cell_type": "code",
      "execution_count": null,
      "metadata": {
        "id": "97454464-402c-467e-a305-bafe275e6246"
      },
      "outputs": [],
      "source": [
        "import pandas as pd\n",
        "import numpy as np"
      ],
      "id": "97454464-402c-467e-a305-bafe275e6246"
    },
    {
      "cell_type": "code",
      "execution_count": null,
      "metadata": {
        "id": "0753d751-f27a-4085-b54d-923316a586b3"
      },
      "outputs": [],
      "source": [
        "data = pd.read_json('/content/Telco-Customer-Churn.json')"
      ],
      "id": "0753d751-f27a-4085-b54d-923316a586b3"
    },
    {
      "cell_type": "code",
      "execution_count": null,
      "metadata": {
        "id": "2615e8b5-fecf-4c17-9129-90bf916dd2ce"
      },
      "outputs": [],
      "source": [
        "data.head()"
      ],
      "id": "2615e8b5-fecf-4c17-9129-90bf916dd2ce"
    },
    {
      "cell_type": "code",
      "source": [
        "data.shape"
      ],
      "metadata": {
        "id": "tD5rDYlRHmf2"
      },
      "id": "tD5rDYlRHmf2",
      "execution_count": null,
      "outputs": []
    },
    {
      "cell_type": "markdown",
      "metadata": {
        "id": "5U6lTcy2nMOh"
      },
      "source": [
        "Let's take a look on which info are inside of each column to have an idea of what is going on"
      ],
      "id": "5U6lTcy2nMOh"
    },
    {
      "cell_type": "code",
      "execution_count": null,
      "metadata": {
        "id": "i-MSj2yanPjA"
      },
      "outputs": [],
      "source": [
        "data.customer[0]"
      ],
      "id": "i-MSj2yanPjA"
    },
    {
      "cell_type": "code",
      "execution_count": null,
      "metadata": {
        "id": "SsFxgtNwnT80"
      },
      "outputs": [],
      "source": [
        "data.phone[0]"
      ],
      "id": "SsFxgtNwnT80"
    },
    {
      "cell_type": "code",
      "execution_count": null,
      "metadata": {
        "id": "mnBILUxunUKE"
      },
      "outputs": [],
      "source": [
        "data.internet[0]"
      ],
      "id": "mnBILUxunUKE"
    },
    {
      "cell_type": "code",
      "execution_count": null,
      "metadata": {
        "id": "VhiAInT2nURq"
      },
      "outputs": [],
      "source": [
        "data.account[0]"
      ],
      "id": "VhiAInT2nURq"
    },
    {
      "cell_type": "markdown",
      "metadata": {
        "id": "AN8QatG0lRCC"
      },
      "source": [
        "By looking at the summary of the first row of column, we noticed that columns **\"customer'**, **'phone'**, **'internet'** and **'account'** are dictionaries and there many information in a single cell, that difficult our analytics work, so let's breakdown each cell into a new dataframe to do some analysis\n",
        "\n"
      ],
      "id": "AN8QatG0lRCC"
    },
    {
      "cell_type": "code",
      "execution_count": null,
      "metadata": {
        "id": "-QqnKoCQlXUR"
      },
      "outputs": [],
      "source": [
        "data_customer = pd.json_normalize(data.customer)\n",
        "data_customer.head()"
      ],
      "id": "-QqnKoCQlXUR"
    },
    {
      "cell_type": "code",
      "execution_count": null,
      "metadata": {
        "id": "mXntNDGIlarx"
      },
      "outputs": [],
      "source": [
        "data_phone = pd.json_normalize(data.phone)\n",
        "data_phone.head()"
      ],
      "id": "mXntNDGIlarx"
    },
    {
      "cell_type": "code",
      "execution_count": null,
      "metadata": {
        "id": "-FIyRNr-s9UJ"
      },
      "outputs": [],
      "source": [
        "data_internet = pd.json_normalize(data.internet)\n",
        "data_internet.head()"
      ],
      "id": "-FIyRNr-s9UJ"
    },
    {
      "cell_type": "code",
      "execution_count": null,
      "metadata": {
        "id": "W-cp2Qx1yZRh"
      },
      "outputs": [],
      "source": [
        "data_account = pd.json_normalize(data.account, sep='') #notice that doc were removed from column title\n",
        "data_account.head()"
      ],
      "id": "W-cp2Qx1yZRh"
    },
    {
      "cell_type": "markdown",
      "metadata": {
        "id": "fgHP4vvbpGtO"
      },
      "source": [
        "## 2. Join Dataframes and Understand Datatypes"
      ],
      "id": "fgHP4vvbpGtO"
    },
    {
      "cell_type": "markdown",
      "metadata": {
        "id": "bANbb3jb_HRn"
      },
      "source": [
        "Now we want to join all of these dataframe to a single one so we can move on with our analysis. But before we need adjust our original dataframe so we can join clean data."
      ],
      "id": "bANbb3jb_HRn"
    },
    {
      "cell_type": "code",
      "execution_count": null,
      "metadata": {
        "id": "Tcd5NmJAxHzu"
      },
      "outputs": [],
      "source": [
        "data = data.drop(['customer','phone','internet','account'], axis=1)"
      ],
      "id": "Tcd5NmJAxHzu"
    },
    {
      "cell_type": "code",
      "execution_count": null,
      "metadata": {
        "id": "KIYU4RHQlo9Y"
      },
      "outputs": [],
      "source": [
        "df = pd.concat([data,data_customer, data_phone, data_internet, data_account], axis=1)"
      ],
      "id": "KIYU4RHQlo9Y"
    },
    {
      "cell_type": "code",
      "execution_count": null,
      "metadata": {
        "id": "PHfD6hFenCLg"
      },
      "outputs": [],
      "source": [
        "df.head()"
      ],
      "id": "PHfD6hFenCLg"
    },
    {
      "cell_type": "code",
      "source": [
        "df.columns"
      ],
      "metadata": {
        "id": "tPUMhJjiuQcN"
      },
      "id": "tPUMhJjiuQcN",
      "execution_count": null,
      "outputs": []
    },
    {
      "cell_type": "markdown",
      "source": [
        "We noticed that customerID and gender aren't in the same format as the rest of columns name, so let's rename them."
      ],
      "metadata": {
        "id": "JGU1kUd41-wm"
      },
      "id": "JGU1kUd41-wm"
    },
    {
      "cell_type": "code",
      "source": [
        "df = df.rename({'customerID':'CustomerID','gender':'Gender','tenure':'Tenure'}, axis=1)\n",
        "data.columns"
      ],
      "metadata": {
        "id": "KHxACyjpwBFW"
      },
      "id": "KHxACyjpwBFW",
      "execution_count": null,
      "outputs": []
    },
    {
      "cell_type": "code",
      "execution_count": null,
      "metadata": {
        "id": "Q-GcuV-8nDSu"
      },
      "outputs": [],
      "source": [
        "df.dtypes"
      ],
      "id": "Q-GcuV-8nDSu"
    },
    {
      "cell_type": "code",
      "source": [
        "quali = []\n",
        "quanti = []\n",
        "\n",
        "for i in df.dtypes.index:\n",
        "    if df.dtypes[i] == 'object':\n",
        "        quali.append(i)\n",
        "    else:\n",
        "        quanti.append(i)\n",
        "\n",
        "print('Quantitative Columns: ', quanti)\n",
        "print('Qualitative Columns: ', quali)"
      ],
      "metadata": {
        "id": "HvGx689PHjln"
      },
      "id": "HvGx689PHjln",
      "execution_count": null,
      "outputs": []
    },
    {
      "cell_type": "markdown",
      "source": [
        "###Data Types:\n",
        "Noticed that on line above, SeniorCitizen are counted as Quantitative, that's because of \"0\" and \"1\", we'll clean this data.\n",
        "\n",
        "*   Quantitative:\n",
        "    Tenure, ChargesMonthly, ChargesTotal\n",
        "*   Qualitative:\n",
        "    All the rest\n",
        " "
      ],
      "metadata": {
        "id": "9AmdZEOjvoZi"
      },
      "id": "9AmdZEOjvoZi"
    },
    {
      "cell_type": "markdown",
      "metadata": {
        "id": "4AwFIU07poez"
      },
      "source": [
        "## 3. Data Cleaning"
      ],
      "id": "4AwFIU07poez"
    },
    {
      "cell_type": "markdown",
      "metadata": {
        "id": "_MOiRJ81pt7i"
      },
      "source": [
        "Let's continue, clean dataframe and solve possible inconsistences. First we'll summarize info on each columns"
      ],
      "id": "_MOiRJ81pt7i"
    },
    {
      "cell_type": "code",
      "source": [
        "database = df"
      ],
      "metadata": {
        "id": "yerGV6sVKAL_"
      },
      "id": "yerGV6sVKAL_",
      "execution_count": null,
      "outputs": []
    },
    {
      "cell_type": "code",
      "source": [
        "database.nunique()"
      ],
      "metadata": {
        "id": "yTGvOKSXAC-I"
      },
      "id": "yTGvOKSXAC-I",
      "execution_count": null,
      "outputs": []
    },
    {
      "cell_type": "code",
      "execution_count": null,
      "metadata": {
        "id": "sjER0TRwpr7b"
      },
      "outputs": [],
      "source": [
        "for columns in database.columns:\n",
        "  print('------------------------------------------------------------')\n",
        "  print(database[columns].value_counts().sort_index())"
      ],
      "id": "sjER0TRwpr7b"
    },
    {
      "cell_type": "markdown",
      "source": [
        "A few key things we notice:\n",
        "*   Churn has a total of 224 empty cells, which means cell without \"0\", \"NAN\" or spaces\n",
        "*   In SeniorCitizen, \"0\" means client is below 65 years old, 1 means equal or above 65, let's adjust to \"Yes\" and \"No\" so it looks like a categorical variable;\n",
        "*  Tenure, \"0\" means new clients that didn't reach one month of contract\n",
        "*  ChargesTotal has 11 null values, which is the same as tenure \"0\". That happens because ChargesTotal = (tenure * ChargesMonthly), so new customers has total charge =  0. Also, is necessary to adjust dtype to float because it's a monetary value.\n",
        "\n",
        "Let's work on these topics.\n"
      ],
      "metadata": {
        "id": "5uXqgCwon3Mk"
      },
      "id": "5uXqgCwon3Mk"
    },
    {
      "cell_type": "code",
      "source": [
        "database['Churn'].value_counts()"
      ],
      "metadata": {
        "id": "E2S4T85WSXm8"
      },
      "id": "E2S4T85WSXm8",
      "execution_count": null,
      "outputs": []
    },
    {
      "cell_type": "markdown",
      "metadata": {
        "id": "Kb6sCb-HszDx"
      },
      "source": [
        "There are 224 nulls churn values in a range of 7267, that's mean 3.08% of my dataset, so is insignificant enough to be deleted"
      ],
      "id": "Kb6sCb-HszDx"
    },
    {
      "cell_type": "code",
      "source": [
        "database[database['Churn'] == ''].index.value_counts()"
      ],
      "metadata": {
        "id": "Fmkld83r9Oog",
        "colab": {
          "base_uri": "https://localhost:8080/"
        },
        "outputId": "967b5fe3-9b8e-4a38-cac9-6569e065afb1"
      },
      "id": "Fmkld83r9Oog",
      "execution_count": null,
      "outputs": [
        {
          "data": {
            "text/plain": [
              "30      1\n",
              "75      1\n",
              "4938    1\n",
              "4946    1\n",
              "4976    1\n",
              "       ..\n",
              "2989    1\n",
              "3053    1\n",
              "3060    1\n",
              "3076    1\n",
              "7247    1\n",
              "Length: 224, dtype: int64"
            ]
          },
          "execution_count": 243,
          "metadata": {},
          "output_type": "execute_result"
        }
      ]
    },
    {
      "cell_type": "code",
      "source": [
        "database.iloc[30]"
      ],
      "metadata": {
        "id": "9tpeaUyjV2Ky",
        "colab": {
          "base_uri": "https://localhost:8080/"
        },
        "outputId": "e68ff219-cef9-427d-95ad-e3f464a6e08e"
      },
      "id": "9tpeaUyjV2Ky",
      "execution_count": null,
      "outputs": [
        {
          "data": {
            "text/plain": [
              "CustomerID                         0047-ZHDTW\n",
              "Churn                                        \n",
              "Gender                                 Female\n",
              "SeniorCitizen                               0\n",
              "Partner                                    No\n",
              "Dependents                                 No\n",
              "Tenure                                     11\n",
              "PhoneService                              Yes\n",
              "MultipleLines                             Yes\n",
              "InternetService                   Fiber optic\n",
              "OnlineSecurity                            Yes\n",
              "OnlineBackup                               No\n",
              "DeviceProtection                           No\n",
              "TechSupport                                No\n",
              "StreamingTV                                No\n",
              "StreamingMovies                            No\n",
              "Contract                       Month-to-month\n",
              "PaperlessBilling                          Yes\n",
              "PaymentMethod       Bank transfer (automatic)\n",
              "ChargesMonthly                           79.0\n",
              "ChargesTotal                            929.3\n",
              "Name: 30, dtype: object"
            ]
          },
          "execution_count": 244,
          "metadata": {},
          "output_type": "execute_result"
        }
      ]
    },
    {
      "cell_type": "code",
      "source": [
        "index = database[database['Churn'] == ''].index\n",
        "database.drop(index, inplace = True)"
      ],
      "metadata": {
        "id": "WCRydLzrV2Uf"
      },
      "id": "WCRydLzrV2Uf",
      "execution_count": null,
      "outputs": []
    },
    {
      "cell_type": "code",
      "source": [
        "database['Churn'].value_counts()"
      ],
      "metadata": {
        "id": "UGXCGAfLBf7Z",
        "colab": {
          "base_uri": "https://localhost:8080/"
        },
        "outputId": "9fee5bf8-aa2c-4d78-dfd2-fdef167bd632"
      },
      "id": "UGXCGAfLBf7Z",
      "execution_count": null,
      "outputs": [
        {
          "data": {
            "text/plain": [
              "No     5174\n",
              "Yes    1869\n",
              "Name: Churn, dtype: int64"
            ]
          },
          "execution_count": 246,
          "metadata": {},
          "output_type": "execute_result"
        }
      ]
    },
    {
      "cell_type": "markdown",
      "source": [
        "Replacing boolean SeniorCitizen column to dictionary"
      ],
      "metadata": {
        "id": "724B-2C7F5oc"
      },
      "id": "724B-2C7F5oc"
    },
    {
      "cell_type": "code",
      "source": [
        "database['SeniorCitizen'] = database['SeniorCitizen'].replace({0:'No', 1:'Yes'})\n"
      ],
      "metadata": {
        "id": "FYz-4GqgGIAB"
      },
      "id": "FYz-4GqgGIAB",
      "execution_count": null,
      "outputs": []
    },
    {
      "cell_type": "code",
      "source": [
        "database['SeniorCitizen']"
      ],
      "metadata": {
        "id": "l6oAWwrjOka8",
        "colab": {
          "base_uri": "https://localhost:8080/"
        },
        "outputId": "b780b21b-35f4-41dd-f8bf-c025464f900a"
      },
      "id": "l6oAWwrjOka8",
      "execution_count": null,
      "outputs": [
        {
          "data": {
            "text/plain": [
              "0        No\n",
              "1        No\n",
              "2        No\n",
              "3       Yes\n",
              "4       Yes\n",
              "       ... \n",
              "7262     No\n",
              "7263     No\n",
              "7264     No\n",
              "7265     No\n",
              "7266     No\n",
              "Name: SeniorCitizen, Length: 7043, dtype: object"
            ]
          },
          "execution_count": 248,
          "metadata": {},
          "output_type": "execute_result"
        }
      ]
    },
    {
      "cell_type": "markdown",
      "source": [
        "Let's replace blank space at total charges columns by 0"
      ],
      "metadata": {
        "id": "Nr2sozDkF60A"
      },
      "id": "Nr2sozDkF60A"
    },
    {
      "cell_type": "code",
      "execution_count": null,
      "metadata": {
        "id": "5YN-UQ4AyH2_",
        "colab": {
          "base_uri": "https://localhost:8080/",
          "height": 649
        },
        "outputId": "12ee02f8-8758-45ca-c36a-364327beabf5"
      },
      "outputs": [
        {
          "data": {
            "text/html": [
              "\n",
              "  <div id=\"df-38bac663-9440-4f8f-b366-1747430277d0\">\n",
              "    <div class=\"colab-df-container\">\n",
              "      <div>\n",
              "<style scoped>\n",
              "    .dataframe tbody tr th:only-of-type {\n",
              "        vertical-align: middle;\n",
              "    }\n",
              "\n",
              "    .dataframe tbody tr th {\n",
              "        vertical-align: top;\n",
              "    }\n",
              "\n",
              "    .dataframe thead th {\n",
              "        text-align: right;\n",
              "    }\n",
              "</style>\n",
              "<table border=\"1\" class=\"dataframe\">\n",
              "  <thead>\n",
              "    <tr style=\"text-align: right;\">\n",
              "      <th></th>\n",
              "      <th>CustomerID</th>\n",
              "      <th>Churn</th>\n",
              "      <th>Gender</th>\n",
              "      <th>SeniorCitizen</th>\n",
              "      <th>Partner</th>\n",
              "      <th>Dependents</th>\n",
              "      <th>Tenure</th>\n",
              "      <th>PhoneService</th>\n",
              "      <th>MultipleLines</th>\n",
              "      <th>InternetService</th>\n",
              "      <th>OnlineSecurity</th>\n",
              "      <th>OnlineBackup</th>\n",
              "      <th>DeviceProtection</th>\n",
              "      <th>TechSupport</th>\n",
              "      <th>StreamingTV</th>\n",
              "      <th>StreamingMovies</th>\n",
              "      <th>Contract</th>\n",
              "      <th>PaperlessBilling</th>\n",
              "      <th>PaymentMethod</th>\n",
              "      <th>ChargesMonthly</th>\n",
              "      <th>ChargesTotal</th>\n",
              "    </tr>\n",
              "  </thead>\n",
              "  <tbody>\n",
              "    <tr>\n",
              "      <th>975</th>\n",
              "      <td>1371-DWPAZ</td>\n",
              "      <td>No</td>\n",
              "      <td>Female</td>\n",
              "      <td>No</td>\n",
              "      <td>Yes</td>\n",
              "      <td>Yes</td>\n",
              "      <td>0</td>\n",
              "      <td>No</td>\n",
              "      <td>No phone service</td>\n",
              "      <td>DSL</td>\n",
              "      <td>Yes</td>\n",
              "      <td>Yes</td>\n",
              "      <td>Yes</td>\n",
              "      <td>Yes</td>\n",
              "      <td>Yes</td>\n",
              "      <td>No</td>\n",
              "      <td>Two year</td>\n",
              "      <td>No</td>\n",
              "      <td>Credit card (automatic)</td>\n",
              "      <td>56.05</td>\n",
              "      <td></td>\n",
              "    </tr>\n",
              "    <tr>\n",
              "      <th>1775</th>\n",
              "      <td>2520-SGTTA</td>\n",
              "      <td>No</td>\n",
              "      <td>Female</td>\n",
              "      <td>No</td>\n",
              "      <td>Yes</td>\n",
              "      <td>Yes</td>\n",
              "      <td>0</td>\n",
              "      <td>Yes</td>\n",
              "      <td>No</td>\n",
              "      <td>No</td>\n",
              "      <td>No internet service</td>\n",
              "      <td>No internet service</td>\n",
              "      <td>No internet service</td>\n",
              "      <td>No internet service</td>\n",
              "      <td>No internet service</td>\n",
              "      <td>No internet service</td>\n",
              "      <td>Two year</td>\n",
              "      <td>No</td>\n",
              "      <td>Mailed check</td>\n",
              "      <td>20.00</td>\n",
              "      <td></td>\n",
              "    </tr>\n",
              "    <tr>\n",
              "      <th>1955</th>\n",
              "      <td>2775-SEFEE</td>\n",
              "      <td>No</td>\n",
              "      <td>Male</td>\n",
              "      <td>No</td>\n",
              "      <td>No</td>\n",
              "      <td>Yes</td>\n",
              "      <td>0</td>\n",
              "      <td>Yes</td>\n",
              "      <td>Yes</td>\n",
              "      <td>DSL</td>\n",
              "      <td>Yes</td>\n",
              "      <td>Yes</td>\n",
              "      <td>No</td>\n",
              "      <td>Yes</td>\n",
              "      <td>No</td>\n",
              "      <td>No</td>\n",
              "      <td>Two year</td>\n",
              "      <td>Yes</td>\n",
              "      <td>Bank transfer (automatic)</td>\n",
              "      <td>61.90</td>\n",
              "      <td></td>\n",
              "    </tr>\n",
              "    <tr>\n",
              "      <th>2075</th>\n",
              "      <td>2923-ARZLG</td>\n",
              "      <td>No</td>\n",
              "      <td>Male</td>\n",
              "      <td>No</td>\n",
              "      <td>Yes</td>\n",
              "      <td>Yes</td>\n",
              "      <td>0</td>\n",
              "      <td>Yes</td>\n",
              "      <td>No</td>\n",
              "      <td>No</td>\n",
              "      <td>No internet service</td>\n",
              "      <td>No internet service</td>\n",
              "      <td>No internet service</td>\n",
              "      <td>No internet service</td>\n",
              "      <td>No internet service</td>\n",
              "      <td>No internet service</td>\n",
              "      <td>One year</td>\n",
              "      <td>Yes</td>\n",
              "      <td>Mailed check</td>\n",
              "      <td>19.70</td>\n",
              "      <td></td>\n",
              "    </tr>\n",
              "    <tr>\n",
              "      <th>2232</th>\n",
              "      <td>3115-CZMZD</td>\n",
              "      <td>No</td>\n",
              "      <td>Male</td>\n",
              "      <td>No</td>\n",
              "      <td>No</td>\n",
              "      <td>Yes</td>\n",
              "      <td>0</td>\n",
              "      <td>Yes</td>\n",
              "      <td>No</td>\n",
              "      <td>No</td>\n",
              "      <td>No internet service</td>\n",
              "      <td>No internet service</td>\n",
              "      <td>No internet service</td>\n",
              "      <td>No internet service</td>\n",
              "      <td>No internet service</td>\n",
              "      <td>No internet service</td>\n",
              "      <td>Two year</td>\n",
              "      <td>No</td>\n",
              "      <td>Mailed check</td>\n",
              "      <td>20.25</td>\n",
              "      <td></td>\n",
              "    </tr>\n",
              "    <tr>\n",
              "      <th>2308</th>\n",
              "      <td>3213-VVOLG</td>\n",
              "      <td>No</td>\n",
              "      <td>Male</td>\n",
              "      <td>No</td>\n",
              "      <td>Yes</td>\n",
              "      <td>Yes</td>\n",
              "      <td>0</td>\n",
              "      <td>Yes</td>\n",
              "      <td>Yes</td>\n",
              "      <td>No</td>\n",
              "      <td>No internet service</td>\n",
              "      <td>No internet service</td>\n",
              "      <td>No internet service</td>\n",
              "      <td>No internet service</td>\n",
              "      <td>No internet service</td>\n",
              "      <td>No internet service</td>\n",
              "      <td>Two year</td>\n",
              "      <td>No</td>\n",
              "      <td>Mailed check</td>\n",
              "      <td>25.35</td>\n",
              "      <td></td>\n",
              "    </tr>\n",
              "    <tr>\n",
              "      <th>2930</th>\n",
              "      <td>4075-WKNIU</td>\n",
              "      <td>No</td>\n",
              "      <td>Female</td>\n",
              "      <td>No</td>\n",
              "      <td>Yes</td>\n",
              "      <td>Yes</td>\n",
              "      <td>0</td>\n",
              "      <td>Yes</td>\n",
              "      <td>Yes</td>\n",
              "      <td>DSL</td>\n",
              "      <td>No</td>\n",
              "      <td>Yes</td>\n",
              "      <td>Yes</td>\n",
              "      <td>Yes</td>\n",
              "      <td>Yes</td>\n",
              "      <td>No</td>\n",
              "      <td>Two year</td>\n",
              "      <td>No</td>\n",
              "      <td>Mailed check</td>\n",
              "      <td>73.35</td>\n",
              "      <td></td>\n",
              "    </tr>\n",
              "    <tr>\n",
              "      <th>3134</th>\n",
              "      <td>4367-NUYAO</td>\n",
              "      <td>No</td>\n",
              "      <td>Male</td>\n",
              "      <td>No</td>\n",
              "      <td>Yes</td>\n",
              "      <td>Yes</td>\n",
              "      <td>0</td>\n",
              "      <td>Yes</td>\n",
              "      <td>Yes</td>\n",
              "      <td>No</td>\n",
              "      <td>No internet service</td>\n",
              "      <td>No internet service</td>\n",
              "      <td>No internet service</td>\n",
              "      <td>No internet service</td>\n",
              "      <td>No internet service</td>\n",
              "      <td>No internet service</td>\n",
              "      <td>Two year</td>\n",
              "      <td>No</td>\n",
              "      <td>Mailed check</td>\n",
              "      <td>25.75</td>\n",
              "      <td></td>\n",
              "    </tr>\n",
              "    <tr>\n",
              "      <th>3203</th>\n",
              "      <td>4472-LVYGI</td>\n",
              "      <td>No</td>\n",
              "      <td>Female</td>\n",
              "      <td>No</td>\n",
              "      <td>Yes</td>\n",
              "      <td>Yes</td>\n",
              "      <td>0</td>\n",
              "      <td>No</td>\n",
              "      <td>No phone service</td>\n",
              "      <td>DSL</td>\n",
              "      <td>Yes</td>\n",
              "      <td>No</td>\n",
              "      <td>Yes</td>\n",
              "      <td>Yes</td>\n",
              "      <td>Yes</td>\n",
              "      <td>No</td>\n",
              "      <td>Two year</td>\n",
              "      <td>Yes</td>\n",
              "      <td>Bank transfer (automatic)</td>\n",
              "      <td>52.55</td>\n",
              "      <td></td>\n",
              "    </tr>\n",
              "    <tr>\n",
              "      <th>4169</th>\n",
              "      <td>5709-LVOEQ</td>\n",
              "      <td>No</td>\n",
              "      <td>Female</td>\n",
              "      <td>No</td>\n",
              "      <td>Yes</td>\n",
              "      <td>Yes</td>\n",
              "      <td>0</td>\n",
              "      <td>Yes</td>\n",
              "      <td>No</td>\n",
              "      <td>DSL</td>\n",
              "      <td>Yes</td>\n",
              "      <td>Yes</td>\n",
              "      <td>Yes</td>\n",
              "      <td>No</td>\n",
              "      <td>Yes</td>\n",
              "      <td>Yes</td>\n",
              "      <td>Two year</td>\n",
              "      <td>No</td>\n",
              "      <td>Mailed check</td>\n",
              "      <td>80.85</td>\n",
              "      <td></td>\n",
              "    </tr>\n",
              "    <tr>\n",
              "      <th>5599</th>\n",
              "      <td>7644-OMVMY</td>\n",
              "      <td>No</td>\n",
              "      <td>Male</td>\n",
              "      <td>No</td>\n",
              "      <td>Yes</td>\n",
              "      <td>Yes</td>\n",
              "      <td>0</td>\n",
              "      <td>Yes</td>\n",
              "      <td>No</td>\n",
              "      <td>No</td>\n",
              "      <td>No internet service</td>\n",
              "      <td>No internet service</td>\n",
              "      <td>No internet service</td>\n",
              "      <td>No internet service</td>\n",
              "      <td>No internet service</td>\n",
              "      <td>No internet service</td>\n",
              "      <td>Two year</td>\n",
              "      <td>No</td>\n",
              "      <td>Mailed check</td>\n",
              "      <td>19.85</td>\n",
              "      <td></td>\n",
              "    </tr>\n",
              "  </tbody>\n",
              "</table>\n",
              "</div>\n",
              "      <button class=\"colab-df-convert\" onclick=\"convertToInteractive('df-38bac663-9440-4f8f-b366-1747430277d0')\"\n",
              "              title=\"Convert this dataframe to an interactive table.\"\n",
              "              style=\"display:none;\">\n",
              "        \n",
              "  <svg xmlns=\"http://www.w3.org/2000/svg\" height=\"24px\"viewBox=\"0 0 24 24\"\n",
              "       width=\"24px\">\n",
              "    <path d=\"M0 0h24v24H0V0z\" fill=\"none\"/>\n",
              "    <path d=\"M18.56 5.44l.94 2.06.94-2.06 2.06-.94-2.06-.94-.94-2.06-.94 2.06-2.06.94zm-11 1L8.5 8.5l.94-2.06 2.06-.94-2.06-.94L8.5 2.5l-.94 2.06-2.06.94zm10 10l.94 2.06.94-2.06 2.06-.94-2.06-.94-.94-2.06-.94 2.06-2.06.94z\"/><path d=\"M17.41 7.96l-1.37-1.37c-.4-.4-.92-.59-1.43-.59-.52 0-1.04.2-1.43.59L10.3 9.45l-7.72 7.72c-.78.78-.78 2.05 0 2.83L4 21.41c.39.39.9.59 1.41.59.51 0 1.02-.2 1.41-.59l7.78-7.78 2.81-2.81c.8-.78.8-2.07 0-2.86zM5.41 20L4 18.59l7.72-7.72 1.47 1.35L5.41 20z\"/>\n",
              "  </svg>\n",
              "      </button>\n",
              "      \n",
              "  <style>\n",
              "    .colab-df-container {\n",
              "      display:flex;\n",
              "      flex-wrap:wrap;\n",
              "      gap: 12px;\n",
              "    }\n",
              "\n",
              "    .colab-df-convert {\n",
              "      background-color: #E8F0FE;\n",
              "      border: none;\n",
              "      border-radius: 50%;\n",
              "      cursor: pointer;\n",
              "      display: none;\n",
              "      fill: #1967D2;\n",
              "      height: 32px;\n",
              "      padding: 0 0 0 0;\n",
              "      width: 32px;\n",
              "    }\n",
              "\n",
              "    .colab-df-convert:hover {\n",
              "      background-color: #E2EBFA;\n",
              "      box-shadow: 0px 1px 2px rgba(60, 64, 67, 0.3), 0px 1px 3px 1px rgba(60, 64, 67, 0.15);\n",
              "      fill: #174EA6;\n",
              "    }\n",
              "\n",
              "    [theme=dark] .colab-df-convert {\n",
              "      background-color: #3B4455;\n",
              "      fill: #D2E3FC;\n",
              "    }\n",
              "\n",
              "    [theme=dark] .colab-df-convert:hover {\n",
              "      background-color: #434B5C;\n",
              "      box-shadow: 0px 1px 3px 1px rgba(0, 0, 0, 0.15);\n",
              "      filter: drop-shadow(0px 1px 2px rgba(0, 0, 0, 0.3));\n",
              "      fill: #FFFFFF;\n",
              "    }\n",
              "  </style>\n",
              "\n",
              "      <script>\n",
              "        const buttonEl =\n",
              "          document.querySelector('#df-38bac663-9440-4f8f-b366-1747430277d0 button.colab-df-convert');\n",
              "        buttonEl.style.display =\n",
              "          google.colab.kernel.accessAllowed ? 'block' : 'none';\n",
              "\n",
              "        async function convertToInteractive(key) {\n",
              "          const element = document.querySelector('#df-38bac663-9440-4f8f-b366-1747430277d0');\n",
              "          const dataTable =\n",
              "            await google.colab.kernel.invokeFunction('convertToInteractive',\n",
              "                                                     [key], {});\n",
              "          if (!dataTable) return;\n",
              "\n",
              "          const docLinkHtml = 'Like what you see? Visit the ' +\n",
              "            '<a target=\"_blank\" href=https://colab.research.google.com/notebooks/data_table.ipynb>data table notebook</a>'\n",
              "            + ' to learn more about interactive tables.';\n",
              "          element.innerHTML = '';\n",
              "          dataTable['output_type'] = 'display_data';\n",
              "          await google.colab.output.renderOutput(dataTable, element);\n",
              "          const docLink = document.createElement('div');\n",
              "          docLink.innerHTML = docLinkHtml;\n",
              "          element.appendChild(docLink);\n",
              "        }\n",
              "      </script>\n",
              "    </div>\n",
              "  </div>\n",
              "  "
            ],
            "text/plain": [
              "      CustomerID Churn  Gender SeniorCitizen Partner Dependents  Tenure  \\\n",
              "975   1371-DWPAZ    No  Female            No     Yes        Yes       0   \n",
              "1775  2520-SGTTA    No  Female            No     Yes        Yes       0   \n",
              "1955  2775-SEFEE    No    Male            No      No        Yes       0   \n",
              "2075  2923-ARZLG    No    Male            No     Yes        Yes       0   \n",
              "2232  3115-CZMZD    No    Male            No      No        Yes       0   \n",
              "2308  3213-VVOLG    No    Male            No     Yes        Yes       0   \n",
              "2930  4075-WKNIU    No  Female            No     Yes        Yes       0   \n",
              "3134  4367-NUYAO    No    Male            No     Yes        Yes       0   \n",
              "3203  4472-LVYGI    No  Female            No     Yes        Yes       0   \n",
              "4169  5709-LVOEQ    No  Female            No     Yes        Yes       0   \n",
              "5599  7644-OMVMY    No    Male            No     Yes        Yes       0   \n",
              "\n",
              "     PhoneService     MultipleLines InternetService       OnlineSecurity  \\\n",
              "975            No  No phone service             DSL                  Yes   \n",
              "1775          Yes                No              No  No internet service   \n",
              "1955          Yes               Yes             DSL                  Yes   \n",
              "2075          Yes                No              No  No internet service   \n",
              "2232          Yes                No              No  No internet service   \n",
              "2308          Yes               Yes              No  No internet service   \n",
              "2930          Yes               Yes             DSL                   No   \n",
              "3134          Yes               Yes              No  No internet service   \n",
              "3203           No  No phone service             DSL                  Yes   \n",
              "4169          Yes                No             DSL                  Yes   \n",
              "5599          Yes                No              No  No internet service   \n",
              "\n",
              "             OnlineBackup     DeviceProtection          TechSupport  \\\n",
              "975                   Yes                  Yes                  Yes   \n",
              "1775  No internet service  No internet service  No internet service   \n",
              "1955                  Yes                   No                  Yes   \n",
              "2075  No internet service  No internet service  No internet service   \n",
              "2232  No internet service  No internet service  No internet service   \n",
              "2308  No internet service  No internet service  No internet service   \n",
              "2930                  Yes                  Yes                  Yes   \n",
              "3134  No internet service  No internet service  No internet service   \n",
              "3203                   No                  Yes                  Yes   \n",
              "4169                  Yes                  Yes                   No   \n",
              "5599  No internet service  No internet service  No internet service   \n",
              "\n",
              "              StreamingTV      StreamingMovies  Contract PaperlessBilling  \\\n",
              "975                   Yes                   No  Two year               No   \n",
              "1775  No internet service  No internet service  Two year               No   \n",
              "1955                   No                   No  Two year              Yes   \n",
              "2075  No internet service  No internet service  One year              Yes   \n",
              "2232  No internet service  No internet service  Two year               No   \n",
              "2308  No internet service  No internet service  Two year               No   \n",
              "2930                  Yes                   No  Two year               No   \n",
              "3134  No internet service  No internet service  Two year               No   \n",
              "3203                  Yes                   No  Two year              Yes   \n",
              "4169                  Yes                  Yes  Two year               No   \n",
              "5599  No internet service  No internet service  Two year               No   \n",
              "\n",
              "                  PaymentMethod  ChargesMonthly ChargesTotal  \n",
              "975     Credit card (automatic)           56.05               \n",
              "1775               Mailed check           20.00               \n",
              "1955  Bank transfer (automatic)           61.90               \n",
              "2075               Mailed check           19.70               \n",
              "2232               Mailed check           20.25               \n",
              "2308               Mailed check           25.35               \n",
              "2930               Mailed check           73.35               \n",
              "3134               Mailed check           25.75               \n",
              "3203  Bank transfer (automatic)           52.55               \n",
              "4169               Mailed check           80.85               \n",
              "5599               Mailed check           19.85               "
            ]
          },
          "execution_count": 249,
          "metadata": {},
          "output_type": "execute_result"
        }
      ],
      "source": [
        "database[database['ChargesTotal'] == ' ']"
      ],
      "id": "5YN-UQ4AyH2_"
    },
    {
      "cell_type": "code",
      "source": [
        "database.loc[database['ChargesTotal'] == ' ', 'ChargesTotal'] = '0'"
      ],
      "metadata": {
        "id": "TPXrGI8O3eP-"
      },
      "id": "TPXrGI8O3eP-",
      "execution_count": null,
      "outputs": []
    },
    {
      "cell_type": "code",
      "source": [
        "database['ChargesTotal'].value_counts().sort_index()"
      ],
      "metadata": {
        "id": "4iAHgP-65jPU",
        "colab": {
          "base_uri": "https://localhost:8080/"
        },
        "outputId": "bf263d2b-0f70-406b-c777-61910b857efd"
      },
      "id": "4iAHgP-65jPU",
      "execution_count": null,
      "outputs": [
        {
          "data": {
            "text/plain": [
              "0         11\n",
              "100.2      1\n",
              "100.25     1\n",
              "100.35     1\n",
              "100.4      1\n",
              "          ..\n",
              "997.75     1\n",
              "998.1      1\n",
              "999.45     1\n",
              "999.8      1\n",
              "999.9      1\n",
              "Name: ChargesTotal, Length: 6531, dtype: int64"
            ]
          },
          "execution_count": 251,
          "metadata": {},
          "output_type": "execute_result"
        }
      ]
    },
    {
      "cell_type": "code",
      "execution_count": null,
      "metadata": {
        "id": "PuX24tATxTbV"
      },
      "outputs": [],
      "source": [
        "database['ChargesTotal'] = database['ChargesTotal'].astype('float64')"
      ],
      "id": "PuX24tATxTbV"
    },
    {
      "cell_type": "code",
      "source": [
        "database.info()"
      ],
      "metadata": {
        "id": "Xo33wpkSccXr",
        "colab": {
          "base_uri": "https://localhost:8080/"
        },
        "outputId": "ad1cf6c8-ab25-47fc-bc88-3e70b2f8a8a0"
      },
      "id": "Xo33wpkSccXr",
      "execution_count": null,
      "outputs": [
        {
          "metadata": {
            "tags": null
          },
          "name": "stdout",
          "output_type": "stream",
          "text": [
            "<class 'pandas.core.frame.DataFrame'>\n",
            "Int64Index: 7043 entries, 0 to 7266\n",
            "Data columns (total 21 columns):\n",
            " #   Column            Non-Null Count  Dtype  \n",
            "---  ------            --------------  -----  \n",
            " 0   CustomerID        7043 non-null   object \n",
            " 1   Churn             7043 non-null   object \n",
            " 2   Gender            7043 non-null   object \n",
            " 3   SeniorCitizen     7043 non-null   object \n",
            " 4   Partner           7043 non-null   object \n",
            " 5   Dependents        7043 non-null   object \n",
            " 6   Tenure            7043 non-null   int64  \n",
            " 7   PhoneService      7043 non-null   object \n",
            " 8   MultipleLines     7043 non-null   object \n",
            " 9   InternetService   7043 non-null   object \n",
            " 10  OnlineSecurity    7043 non-null   object \n",
            " 11  OnlineBackup      7043 non-null   object \n",
            " 12  DeviceProtection  7043 non-null   object \n",
            " 13  TechSupport       7043 non-null   object \n",
            " 14  StreamingTV       7043 non-null   object \n",
            " 15  StreamingMovies   7043 non-null   object \n",
            " 16  Contract          7043 non-null   object \n",
            " 17  PaperlessBilling  7043 non-null   object \n",
            " 18  PaymentMethod     7043 non-null   object \n",
            " 19  ChargesMonthly    7043 non-null   float64\n",
            " 20  ChargesTotal      7043 non-null   float64\n",
            "dtypes: float64(2), int64(1), object(18)\n",
            "memory usage: 1.2+ MB\n"
          ]
        }
      ]
    },
    {
      "cell_type": "markdown",
      "source": [
        "### Creating Daily Charges and alocated it"
      ],
      "metadata": {
        "id": "rmpKKEzuAHlJ"
      },
      "id": "rmpKKEzuAHlJ"
    },
    {
      "cell_type": "markdown",
      "source": [
        "To improve our analysis, we'll create a new column with daily charges, which will basically ChargesTotal/30 days. Also, I'll alocated this column to index 19, before monthly charges to make our dataset more clean"
      ],
      "metadata": {
        "id": "bQC9aMOpcfvg"
      },
      "id": "bQC9aMOpcfvg"
    },
    {
      "cell_type": "code",
      "source": [
        "database['ChargesDaily'] = round(database['ChargesMonthly']/30,2)"
      ],
      "metadata": {
        "id": "vCejNZiedJk9"
      },
      "id": "vCejNZiedJk9",
      "execution_count": null,
      "outputs": []
    },
    {
      "cell_type": "code",
      "source": [
        "ChargesDaily = database.pop('ChargesDaily')"
      ],
      "metadata": {
        "id": "ltyriTzzAUIK"
      },
      "id": "ltyriTzzAUIK",
      "execution_count": null,
      "outputs": []
    },
    {
      "cell_type": "code",
      "source": [
        "database.insert(19,'ChargesDaily', ChargesDaily)"
      ],
      "metadata": {
        "id": "bVHoj70wI3zY"
      },
      "id": "bVHoj70wI3zY",
      "execution_count": null,
      "outputs": []
    },
    {
      "cell_type": "code",
      "source": [
        "database.head()"
      ],
      "metadata": {
        "id": "XNK0EOGoJKXN",
        "colab": {
          "base_uri": "https://localhost:8080/",
          "height": 357
        },
        "outputId": "8cf0c83a-239f-4672-c8f2-8a64fa4520b2"
      },
      "id": "XNK0EOGoJKXN",
      "execution_count": null,
      "outputs": [
        {
          "data": {
            "text/html": [
              "\n",
              "  <div id=\"df-20bcb784-61fb-410c-bb15-602fa51c4211\">\n",
              "    <div class=\"colab-df-container\">\n",
              "      <div>\n",
              "<style scoped>\n",
              "    .dataframe tbody tr th:only-of-type {\n",
              "        vertical-align: middle;\n",
              "    }\n",
              "\n",
              "    .dataframe tbody tr th {\n",
              "        vertical-align: top;\n",
              "    }\n",
              "\n",
              "    .dataframe thead th {\n",
              "        text-align: right;\n",
              "    }\n",
              "</style>\n",
              "<table border=\"1\" class=\"dataframe\">\n",
              "  <thead>\n",
              "    <tr style=\"text-align: right;\">\n",
              "      <th></th>\n",
              "      <th>CustomerID</th>\n",
              "      <th>Churn</th>\n",
              "      <th>Gender</th>\n",
              "      <th>SeniorCitizen</th>\n",
              "      <th>Partner</th>\n",
              "      <th>Dependents</th>\n",
              "      <th>Tenure</th>\n",
              "      <th>PhoneService</th>\n",
              "      <th>MultipleLines</th>\n",
              "      <th>InternetService</th>\n",
              "      <th>OnlineSecurity</th>\n",
              "      <th>OnlineBackup</th>\n",
              "      <th>DeviceProtection</th>\n",
              "      <th>TechSupport</th>\n",
              "      <th>StreamingTV</th>\n",
              "      <th>StreamingMovies</th>\n",
              "      <th>Contract</th>\n",
              "      <th>PaperlessBilling</th>\n",
              "      <th>PaymentMethod</th>\n",
              "      <th>ChargesDaily</th>\n",
              "      <th>ChargesMonthly</th>\n",
              "      <th>ChargesTotal</th>\n",
              "    </tr>\n",
              "  </thead>\n",
              "  <tbody>\n",
              "    <tr>\n",
              "      <th>0</th>\n",
              "      <td>0002-ORFBO</td>\n",
              "      <td>No</td>\n",
              "      <td>Female</td>\n",
              "      <td>No</td>\n",
              "      <td>Yes</td>\n",
              "      <td>Yes</td>\n",
              "      <td>9</td>\n",
              "      <td>Yes</td>\n",
              "      <td>No</td>\n",
              "      <td>DSL</td>\n",
              "      <td>No</td>\n",
              "      <td>Yes</td>\n",
              "      <td>No</td>\n",
              "      <td>Yes</td>\n",
              "      <td>Yes</td>\n",
              "      <td>No</td>\n",
              "      <td>One year</td>\n",
              "      <td>Yes</td>\n",
              "      <td>Mailed check</td>\n",
              "      <td>2.19</td>\n",
              "      <td>65.6</td>\n",
              "      <td>593.30</td>\n",
              "    </tr>\n",
              "    <tr>\n",
              "      <th>1</th>\n",
              "      <td>0003-MKNFE</td>\n",
              "      <td>No</td>\n",
              "      <td>Male</td>\n",
              "      <td>No</td>\n",
              "      <td>No</td>\n",
              "      <td>No</td>\n",
              "      <td>9</td>\n",
              "      <td>Yes</td>\n",
              "      <td>Yes</td>\n",
              "      <td>DSL</td>\n",
              "      <td>No</td>\n",
              "      <td>No</td>\n",
              "      <td>No</td>\n",
              "      <td>No</td>\n",
              "      <td>No</td>\n",
              "      <td>Yes</td>\n",
              "      <td>Month-to-month</td>\n",
              "      <td>No</td>\n",
              "      <td>Mailed check</td>\n",
              "      <td>2.00</td>\n",
              "      <td>59.9</td>\n",
              "      <td>542.40</td>\n",
              "    </tr>\n",
              "    <tr>\n",
              "      <th>2</th>\n",
              "      <td>0004-TLHLJ</td>\n",
              "      <td>Yes</td>\n",
              "      <td>Male</td>\n",
              "      <td>No</td>\n",
              "      <td>No</td>\n",
              "      <td>No</td>\n",
              "      <td>4</td>\n",
              "      <td>Yes</td>\n",
              "      <td>No</td>\n",
              "      <td>Fiber optic</td>\n",
              "      <td>No</td>\n",
              "      <td>No</td>\n",
              "      <td>Yes</td>\n",
              "      <td>No</td>\n",
              "      <td>No</td>\n",
              "      <td>No</td>\n",
              "      <td>Month-to-month</td>\n",
              "      <td>Yes</td>\n",
              "      <td>Electronic check</td>\n",
              "      <td>2.46</td>\n",
              "      <td>73.9</td>\n",
              "      <td>280.85</td>\n",
              "    </tr>\n",
              "    <tr>\n",
              "      <th>3</th>\n",
              "      <td>0011-IGKFF</td>\n",
              "      <td>Yes</td>\n",
              "      <td>Male</td>\n",
              "      <td>Yes</td>\n",
              "      <td>Yes</td>\n",
              "      <td>No</td>\n",
              "      <td>13</td>\n",
              "      <td>Yes</td>\n",
              "      <td>No</td>\n",
              "      <td>Fiber optic</td>\n",
              "      <td>No</td>\n",
              "      <td>Yes</td>\n",
              "      <td>Yes</td>\n",
              "      <td>No</td>\n",
              "      <td>Yes</td>\n",
              "      <td>Yes</td>\n",
              "      <td>Month-to-month</td>\n",
              "      <td>Yes</td>\n",
              "      <td>Electronic check</td>\n",
              "      <td>3.27</td>\n",
              "      <td>98.0</td>\n",
              "      <td>1237.85</td>\n",
              "    </tr>\n",
              "    <tr>\n",
              "      <th>4</th>\n",
              "      <td>0013-EXCHZ</td>\n",
              "      <td>Yes</td>\n",
              "      <td>Female</td>\n",
              "      <td>Yes</td>\n",
              "      <td>Yes</td>\n",
              "      <td>No</td>\n",
              "      <td>3</td>\n",
              "      <td>Yes</td>\n",
              "      <td>No</td>\n",
              "      <td>Fiber optic</td>\n",
              "      <td>No</td>\n",
              "      <td>No</td>\n",
              "      <td>No</td>\n",
              "      <td>Yes</td>\n",
              "      <td>Yes</td>\n",
              "      <td>No</td>\n",
              "      <td>Month-to-month</td>\n",
              "      <td>Yes</td>\n",
              "      <td>Mailed check</td>\n",
              "      <td>2.80</td>\n",
              "      <td>83.9</td>\n",
              "      <td>267.40</td>\n",
              "    </tr>\n",
              "  </tbody>\n",
              "</table>\n",
              "</div>\n",
              "      <button class=\"colab-df-convert\" onclick=\"convertToInteractive('df-20bcb784-61fb-410c-bb15-602fa51c4211')\"\n",
              "              title=\"Convert this dataframe to an interactive table.\"\n",
              "              style=\"display:none;\">\n",
              "        \n",
              "  <svg xmlns=\"http://www.w3.org/2000/svg\" height=\"24px\"viewBox=\"0 0 24 24\"\n",
              "       width=\"24px\">\n",
              "    <path d=\"M0 0h24v24H0V0z\" fill=\"none\"/>\n",
              "    <path d=\"M18.56 5.44l.94 2.06.94-2.06 2.06-.94-2.06-.94-.94-2.06-.94 2.06-2.06.94zm-11 1L8.5 8.5l.94-2.06 2.06-.94-2.06-.94L8.5 2.5l-.94 2.06-2.06.94zm10 10l.94 2.06.94-2.06 2.06-.94-2.06-.94-.94-2.06-.94 2.06-2.06.94z\"/><path d=\"M17.41 7.96l-1.37-1.37c-.4-.4-.92-.59-1.43-.59-.52 0-1.04.2-1.43.59L10.3 9.45l-7.72 7.72c-.78.78-.78 2.05 0 2.83L4 21.41c.39.39.9.59 1.41.59.51 0 1.02-.2 1.41-.59l7.78-7.78 2.81-2.81c.8-.78.8-2.07 0-2.86zM5.41 20L4 18.59l7.72-7.72 1.47 1.35L5.41 20z\"/>\n",
              "  </svg>\n",
              "      </button>\n",
              "      \n",
              "  <style>\n",
              "    .colab-df-container {\n",
              "      display:flex;\n",
              "      flex-wrap:wrap;\n",
              "      gap: 12px;\n",
              "    }\n",
              "\n",
              "    .colab-df-convert {\n",
              "      background-color: #E8F0FE;\n",
              "      border: none;\n",
              "      border-radius: 50%;\n",
              "      cursor: pointer;\n",
              "      display: none;\n",
              "      fill: #1967D2;\n",
              "      height: 32px;\n",
              "      padding: 0 0 0 0;\n",
              "      width: 32px;\n",
              "    }\n",
              "\n",
              "    .colab-df-convert:hover {\n",
              "      background-color: #E2EBFA;\n",
              "      box-shadow: 0px 1px 2px rgba(60, 64, 67, 0.3), 0px 1px 3px 1px rgba(60, 64, 67, 0.15);\n",
              "      fill: #174EA6;\n",
              "    }\n",
              "\n",
              "    [theme=dark] .colab-df-convert {\n",
              "      background-color: #3B4455;\n",
              "      fill: #D2E3FC;\n",
              "    }\n",
              "\n",
              "    [theme=dark] .colab-df-convert:hover {\n",
              "      background-color: #434B5C;\n",
              "      box-shadow: 0px 1px 3px 1px rgba(0, 0, 0, 0.15);\n",
              "      filter: drop-shadow(0px 1px 2px rgba(0, 0, 0, 0.3));\n",
              "      fill: #FFFFFF;\n",
              "    }\n",
              "  </style>\n",
              "\n",
              "      <script>\n",
              "        const buttonEl =\n",
              "          document.querySelector('#df-20bcb784-61fb-410c-bb15-602fa51c4211 button.colab-df-convert');\n",
              "        buttonEl.style.display =\n",
              "          google.colab.kernel.accessAllowed ? 'block' : 'none';\n",
              "\n",
              "        async function convertToInteractive(key) {\n",
              "          const element = document.querySelector('#df-20bcb784-61fb-410c-bb15-602fa51c4211');\n",
              "          const dataTable =\n",
              "            await google.colab.kernel.invokeFunction('convertToInteractive',\n",
              "                                                     [key], {});\n",
              "          if (!dataTable) return;\n",
              "\n",
              "          const docLinkHtml = 'Like what you see? Visit the ' +\n",
              "            '<a target=\"_blank\" href=https://colab.research.google.com/notebooks/data_table.ipynb>data table notebook</a>'\n",
              "            + ' to learn more about interactive tables.';\n",
              "          element.innerHTML = '';\n",
              "          dataTable['output_type'] = 'display_data';\n",
              "          await google.colab.output.renderOutput(dataTable, element);\n",
              "          const docLink = document.createElement('div');\n",
              "          docLink.innerHTML = docLinkHtml;\n",
              "          element.appendChild(docLink);\n",
              "        }\n",
              "      </script>\n",
              "    </div>\n",
              "  </div>\n",
              "  "
            ],
            "text/plain": [
              "   CustomerID Churn  Gender SeniorCitizen Partner Dependents  Tenure  \\\n",
              "0  0002-ORFBO    No  Female            No     Yes        Yes       9   \n",
              "1  0003-MKNFE    No    Male            No      No         No       9   \n",
              "2  0004-TLHLJ   Yes    Male            No      No         No       4   \n",
              "3  0011-IGKFF   Yes    Male           Yes     Yes         No      13   \n",
              "4  0013-EXCHZ   Yes  Female           Yes     Yes         No       3   \n",
              "\n",
              "  PhoneService MultipleLines InternetService OnlineSecurity OnlineBackup  \\\n",
              "0          Yes            No             DSL             No          Yes   \n",
              "1          Yes           Yes             DSL             No           No   \n",
              "2          Yes            No     Fiber optic             No           No   \n",
              "3          Yes            No     Fiber optic             No          Yes   \n",
              "4          Yes            No     Fiber optic             No           No   \n",
              "\n",
              "  DeviceProtection TechSupport StreamingTV StreamingMovies        Contract  \\\n",
              "0               No         Yes         Yes              No        One year   \n",
              "1               No          No          No             Yes  Month-to-month   \n",
              "2              Yes          No          No              No  Month-to-month   \n",
              "3              Yes          No         Yes             Yes  Month-to-month   \n",
              "4               No         Yes         Yes              No  Month-to-month   \n",
              "\n",
              "  PaperlessBilling     PaymentMethod  ChargesDaily  ChargesMonthly  \\\n",
              "0              Yes      Mailed check          2.19            65.6   \n",
              "1               No      Mailed check          2.00            59.9   \n",
              "2              Yes  Electronic check          2.46            73.9   \n",
              "3              Yes  Electronic check          3.27            98.0   \n",
              "4              Yes      Mailed check          2.80            83.9   \n",
              "\n",
              "   ChargesTotal  \n",
              "0        593.30  \n",
              "1        542.40  \n",
              "2        280.85  \n",
              "3       1237.85  \n",
              "4        267.40  "
            ]
          },
          "execution_count": 257,
          "metadata": {},
          "output_type": "execute_result"
        }
      ]
    },
    {
      "cell_type": "markdown",
      "source": [
        "With our database cleaned, let's export and do an Exploratory Data Analysis"
      ],
      "metadata": {
        "id": "4zpXCjoFJkWY"
      },
      "id": "4zpXCjoFJkWY"
    },
    {
      "cell_type": "code",
      "source": [
        "database.to_csv('Alura_Voz_data_cleaned.csv', index=False)"
      ],
      "metadata": {
        "id": "FP7VAXMNAWJp"
      },
      "id": "FP7VAXMNAWJp",
      "execution_count": null,
      "outputs": []
    },
    {
      "cell_type": "markdown",
      "source": [
        "## 4. Exploratory Analysis"
      ],
      "metadata": {
        "id": "FBVoyQZGZgux"
      },
      "id": "FBVoyQZGZgux"
    },
    {
      "cell_type": "markdown",
      "source": [
        "Let's do some visual analysis of evasion rate (churn) using seaborn"
      ],
      "metadata": {
        "id": "Pu1GYCt-biAW"
      },
      "id": "Pu1GYCt-biAW"
    },
    {
      "cell_type": "markdown",
      "source": [
        "Importing seaborn and matplotlib library"
      ],
      "metadata": {
        "id": "xBwkq8VWfmPV"
      },
      "id": "xBwkq8VWfmPV"
    },
    {
      "cell_type": "code",
      "source": [
        "import seaborn as sns\n",
        "import matplotlib.pyplot as plt"
      ],
      "metadata": {
        "id": "pX3dJoegZkzu"
      },
      "id": "pX3dJoegZkzu",
      "execution_count": null,
      "outputs": []
    },
    {
      "cell_type": "code",
      "source": [
        "df = pd.read_csv('/content/Alura_Voz_data_cleaned.csv')"
      ],
      "metadata": {
        "id": "r5i1R1hte3sM"
      },
      "id": "r5i1R1hte3sM",
      "execution_count": null,
      "outputs": []
    },
    {
      "cell_type": "code",
      "source": [
        "df.columns"
      ],
      "metadata": {
        "id": "GoYm7N9cg3JF",
        "colab": {
          "base_uri": "https://localhost:8080/"
        },
        "outputId": "65665635-1055-4ce7-d84f-7d2fda334e7e"
      },
      "id": "GoYm7N9cg3JF",
      "execution_count": null,
      "outputs": [
        {
          "data": {
            "text/plain": [
              "Index(['CustomerID', 'Churn', 'Gender', 'SeniorCitizen', 'Partner',\n",
              "       'Dependents', 'Tenure', 'PhoneService', 'MultipleLines',\n",
              "       'InternetService', 'OnlineSecurity', 'OnlineBackup', 'DeviceProtection',\n",
              "       'TechSupport', 'StreamingTV', 'StreamingMovies', 'Contract',\n",
              "       'PaperlessBilling', 'PaymentMethod', 'ChargesDaily', 'ChargesMonthly',\n",
              "       'ChargesTotal'],\n",
              "      dtype='object')"
            ]
          },
          "execution_count": 261,
          "metadata": {},
          "output_type": "execute_result"
        }
      ]
    },
    {
      "cell_type": "code",
      "source": [
        "df.head(3)"
      ],
      "metadata": {
        "id": "TWwjpEQScKwX",
        "colab": {
          "base_uri": "https://localhost:8080/",
          "height": 259
        },
        "outputId": "f287d758-ffde-48fd-8faf-dfea395a6b42"
      },
      "id": "TWwjpEQScKwX",
      "execution_count": null,
      "outputs": [
        {
          "data": {
            "text/html": [
              "\n",
              "  <div id=\"df-7599afd2-2222-45c2-9f96-62540760c6ce\">\n",
              "    <div class=\"colab-df-container\">\n",
              "      <div>\n",
              "<style scoped>\n",
              "    .dataframe tbody tr th:only-of-type {\n",
              "        vertical-align: middle;\n",
              "    }\n",
              "\n",
              "    .dataframe tbody tr th {\n",
              "        vertical-align: top;\n",
              "    }\n",
              "\n",
              "    .dataframe thead th {\n",
              "        text-align: right;\n",
              "    }\n",
              "</style>\n",
              "<table border=\"1\" class=\"dataframe\">\n",
              "  <thead>\n",
              "    <tr style=\"text-align: right;\">\n",
              "      <th></th>\n",
              "      <th>CustomerID</th>\n",
              "      <th>Churn</th>\n",
              "      <th>Gender</th>\n",
              "      <th>SeniorCitizen</th>\n",
              "      <th>Partner</th>\n",
              "      <th>Dependents</th>\n",
              "      <th>Tenure</th>\n",
              "      <th>PhoneService</th>\n",
              "      <th>MultipleLines</th>\n",
              "      <th>InternetService</th>\n",
              "      <th>OnlineSecurity</th>\n",
              "      <th>OnlineBackup</th>\n",
              "      <th>DeviceProtection</th>\n",
              "      <th>TechSupport</th>\n",
              "      <th>StreamingTV</th>\n",
              "      <th>StreamingMovies</th>\n",
              "      <th>Contract</th>\n",
              "      <th>PaperlessBilling</th>\n",
              "      <th>PaymentMethod</th>\n",
              "      <th>ChargesDaily</th>\n",
              "      <th>ChargesMonthly</th>\n",
              "      <th>ChargesTotal</th>\n",
              "    </tr>\n",
              "  </thead>\n",
              "  <tbody>\n",
              "    <tr>\n",
              "      <th>0</th>\n",
              "      <td>0002-ORFBO</td>\n",
              "      <td>No</td>\n",
              "      <td>Female</td>\n",
              "      <td>No</td>\n",
              "      <td>Yes</td>\n",
              "      <td>Yes</td>\n",
              "      <td>9</td>\n",
              "      <td>Yes</td>\n",
              "      <td>No</td>\n",
              "      <td>DSL</td>\n",
              "      <td>No</td>\n",
              "      <td>Yes</td>\n",
              "      <td>No</td>\n",
              "      <td>Yes</td>\n",
              "      <td>Yes</td>\n",
              "      <td>No</td>\n",
              "      <td>One year</td>\n",
              "      <td>Yes</td>\n",
              "      <td>Mailed check</td>\n",
              "      <td>2.19</td>\n",
              "      <td>65.6</td>\n",
              "      <td>593.30</td>\n",
              "    </tr>\n",
              "    <tr>\n",
              "      <th>1</th>\n",
              "      <td>0003-MKNFE</td>\n",
              "      <td>No</td>\n",
              "      <td>Male</td>\n",
              "      <td>No</td>\n",
              "      <td>No</td>\n",
              "      <td>No</td>\n",
              "      <td>9</td>\n",
              "      <td>Yes</td>\n",
              "      <td>Yes</td>\n",
              "      <td>DSL</td>\n",
              "      <td>No</td>\n",
              "      <td>No</td>\n",
              "      <td>No</td>\n",
              "      <td>No</td>\n",
              "      <td>No</td>\n",
              "      <td>Yes</td>\n",
              "      <td>Month-to-month</td>\n",
              "      <td>No</td>\n",
              "      <td>Mailed check</td>\n",
              "      <td>2.00</td>\n",
              "      <td>59.9</td>\n",
              "      <td>542.40</td>\n",
              "    </tr>\n",
              "    <tr>\n",
              "      <th>2</th>\n",
              "      <td>0004-TLHLJ</td>\n",
              "      <td>Yes</td>\n",
              "      <td>Male</td>\n",
              "      <td>No</td>\n",
              "      <td>No</td>\n",
              "      <td>No</td>\n",
              "      <td>4</td>\n",
              "      <td>Yes</td>\n",
              "      <td>No</td>\n",
              "      <td>Fiber optic</td>\n",
              "      <td>No</td>\n",
              "      <td>No</td>\n",
              "      <td>Yes</td>\n",
              "      <td>No</td>\n",
              "      <td>No</td>\n",
              "      <td>No</td>\n",
              "      <td>Month-to-month</td>\n",
              "      <td>Yes</td>\n",
              "      <td>Electronic check</td>\n",
              "      <td>2.46</td>\n",
              "      <td>73.9</td>\n",
              "      <td>280.85</td>\n",
              "    </tr>\n",
              "  </tbody>\n",
              "</table>\n",
              "</div>\n",
              "      <button class=\"colab-df-convert\" onclick=\"convertToInteractive('df-7599afd2-2222-45c2-9f96-62540760c6ce')\"\n",
              "              title=\"Convert this dataframe to an interactive table.\"\n",
              "              style=\"display:none;\">\n",
              "        \n",
              "  <svg xmlns=\"http://www.w3.org/2000/svg\" height=\"24px\"viewBox=\"0 0 24 24\"\n",
              "       width=\"24px\">\n",
              "    <path d=\"M0 0h24v24H0V0z\" fill=\"none\"/>\n",
              "    <path d=\"M18.56 5.44l.94 2.06.94-2.06 2.06-.94-2.06-.94-.94-2.06-.94 2.06-2.06.94zm-11 1L8.5 8.5l.94-2.06 2.06-.94-2.06-.94L8.5 2.5l-.94 2.06-2.06.94zm10 10l.94 2.06.94-2.06 2.06-.94-2.06-.94-.94-2.06-.94 2.06-2.06.94z\"/><path d=\"M17.41 7.96l-1.37-1.37c-.4-.4-.92-.59-1.43-.59-.52 0-1.04.2-1.43.59L10.3 9.45l-7.72 7.72c-.78.78-.78 2.05 0 2.83L4 21.41c.39.39.9.59 1.41.59.51 0 1.02-.2 1.41-.59l7.78-7.78 2.81-2.81c.8-.78.8-2.07 0-2.86zM5.41 20L4 18.59l7.72-7.72 1.47 1.35L5.41 20z\"/>\n",
              "  </svg>\n",
              "      </button>\n",
              "      \n",
              "  <style>\n",
              "    .colab-df-container {\n",
              "      display:flex;\n",
              "      flex-wrap:wrap;\n",
              "      gap: 12px;\n",
              "    }\n",
              "\n",
              "    .colab-df-convert {\n",
              "      background-color: #E8F0FE;\n",
              "      border: none;\n",
              "      border-radius: 50%;\n",
              "      cursor: pointer;\n",
              "      display: none;\n",
              "      fill: #1967D2;\n",
              "      height: 32px;\n",
              "      padding: 0 0 0 0;\n",
              "      width: 32px;\n",
              "    }\n",
              "\n",
              "    .colab-df-convert:hover {\n",
              "      background-color: #E2EBFA;\n",
              "      box-shadow: 0px 1px 2px rgba(60, 64, 67, 0.3), 0px 1px 3px 1px rgba(60, 64, 67, 0.15);\n",
              "      fill: #174EA6;\n",
              "    }\n",
              "\n",
              "    [theme=dark] .colab-df-convert {\n",
              "      background-color: #3B4455;\n",
              "      fill: #D2E3FC;\n",
              "    }\n",
              "\n",
              "    [theme=dark] .colab-df-convert:hover {\n",
              "      background-color: #434B5C;\n",
              "      box-shadow: 0px 1px 3px 1px rgba(0, 0, 0, 0.15);\n",
              "      filter: drop-shadow(0px 1px 2px rgba(0, 0, 0, 0.3));\n",
              "      fill: #FFFFFF;\n",
              "    }\n",
              "  </style>\n",
              "\n",
              "      <script>\n",
              "        const buttonEl =\n",
              "          document.querySelector('#df-7599afd2-2222-45c2-9f96-62540760c6ce button.colab-df-convert');\n",
              "        buttonEl.style.display =\n",
              "          google.colab.kernel.accessAllowed ? 'block' : 'none';\n",
              "\n",
              "        async function convertToInteractive(key) {\n",
              "          const element = document.querySelector('#df-7599afd2-2222-45c2-9f96-62540760c6ce');\n",
              "          const dataTable =\n",
              "            await google.colab.kernel.invokeFunction('convertToInteractive',\n",
              "                                                     [key], {});\n",
              "          if (!dataTable) return;\n",
              "\n",
              "          const docLinkHtml = 'Like what you see? Visit the ' +\n",
              "            '<a target=\"_blank\" href=https://colab.research.google.com/notebooks/data_table.ipynb>data table notebook</a>'\n",
              "            + ' to learn more about interactive tables.';\n",
              "          element.innerHTML = '';\n",
              "          dataTable['output_type'] = 'display_data';\n",
              "          await google.colab.output.renderOutput(dataTable, element);\n",
              "          const docLink = document.createElement('div');\n",
              "          docLink.innerHTML = docLinkHtml;\n",
              "          element.appendChild(docLink);\n",
              "        }\n",
              "      </script>\n",
              "    </div>\n",
              "  </div>\n",
              "  "
            ],
            "text/plain": [
              "   CustomerID Churn  Gender SeniorCitizen Partner Dependents  Tenure  \\\n",
              "0  0002-ORFBO    No  Female            No     Yes        Yes       9   \n",
              "1  0003-MKNFE    No    Male            No      No         No       9   \n",
              "2  0004-TLHLJ   Yes    Male            No      No         No       4   \n",
              "\n",
              "  PhoneService MultipleLines InternetService OnlineSecurity OnlineBackup  \\\n",
              "0          Yes            No             DSL             No          Yes   \n",
              "1          Yes           Yes             DSL             No           No   \n",
              "2          Yes            No     Fiber optic             No           No   \n",
              "\n",
              "  DeviceProtection TechSupport StreamingTV StreamingMovies        Contract  \\\n",
              "0               No         Yes         Yes              No        One year   \n",
              "1               No          No          No             Yes  Month-to-month   \n",
              "2              Yes          No          No              No  Month-to-month   \n",
              "\n",
              "  PaperlessBilling     PaymentMethod  ChargesDaily  ChargesMonthly  \\\n",
              "0              Yes      Mailed check          2.19            65.6   \n",
              "1               No      Mailed check          2.00            59.9   \n",
              "2              Yes  Electronic check          2.46            73.9   \n",
              "\n",
              "   ChargesTotal  \n",
              "0        593.30  \n",
              "1        542.40  \n",
              "2        280.85  "
            ]
          },
          "execution_count": 262,
          "metadata": {},
          "output_type": "execute_result"
        }
      ]
    },
    {
      "cell_type": "markdown",
      "source": [
        "### Analysing Churn variable"
      ],
      "metadata": {
        "id": "6vg2LxqEzV9N"
      },
      "id": "6vg2LxqEzV9N"
    },
    {
      "cell_type": "code",
      "source": [
        "df['Churn'].describe()"
      ],
      "metadata": {
        "id": "ZL3Pio9mhgg9",
        "colab": {
          "base_uri": "https://localhost:8080/"
        },
        "outputId": "861bce38-82b0-40b1-9d70-1f0bcf7cca9a"
      },
      "id": "ZL3Pio9mhgg9",
      "execution_count": null,
      "outputs": [
        {
          "data": {
            "text/plain": [
              "count     7043\n",
              "unique       2\n",
              "top         No\n",
              "freq      5174\n",
              "Name: Churn, dtype: object"
            ]
          },
          "execution_count": 263,
          "metadata": {},
          "output_type": "execute_result"
        }
      ]
    },
    {
      "cell_type": "code",
      "source": [
        "activated = (df['Churn'] == 'No').sum()\n",
        "out = (df['Churn'] == 'Yes').sum()\n",
        "percent_act = round(activated/len(df['Churn'])*100,2)\n",
        "percent_out = round(out/len(df['Churn'])*100,2)\n",
        "print(f'There are a total of {activated} activated clients'\n",
        "      f' and a total of {out} leave the service')\n",
        "print (f'to have an idea of the proportion, {percent_act}% are activated clients and {percent_out}% leave the service.')"
      ],
      "metadata": {
        "id": "06iEyeF70oxW",
        "colab": {
          "base_uri": "https://localhost:8080/"
        },
        "outputId": "09853b99-ec41-49a9-a563-a6fb441dbbde"
      },
      "id": "06iEyeF70oxW",
      "execution_count": null,
      "outputs": [
        {
          "metadata": {
            "tags": null
          },
          "name": "stdout",
          "output_type": "stream",
          "text": [
            "There are a total of 5174 activated clients and a total of 1869 leave the service\n",
            "to have an idea of the proportion, 73.46% are activated clients and 26.54% leave the service.\n"
          ]
        }
      ]
    },
    {
      "cell_type": "code",
      "source": [
        "plt.figure(figsize=(7,4))\n",
        "df['Churn'].value_counts().plot(\n",
        "    kind='pie', \n",
        "    autopct='%.2f%%', \n",
        "    labels = ['activated','leave services'],\n",
        "    startangle=90).set_title('Activated Clients Relation').fontdict={'verticalaligment':'bottom'}"
      ],
      "metadata": {
        "id": "2Lt8kdSOthv_",
        "colab": {
          "base_uri": "https://localhost:8080/",
          "height": 264
        },
        "outputId": "7576a018-9781-4bdb-bbdb-fe11bb1f788b"
      },
      "id": "2Lt8kdSOthv_",
      "execution_count": null,
      "outputs": [
        {
          "data": {
            "image/png": "[encoded data removed]",
            "text/plain": [
              "<Figure size 504x288 with 1 Axes>"
            ]
          },
          "metadata": {},
          "output_type": "display_data"
        }
      ]
    },
    {
      "cell_type": "markdown",
      "source": [
        "But how long customer are leaving the services?"
      ],
      "metadata": {
        "id": "52TgWzplzAlO"
      },
      "id": "52TgWzplzAlO"
    },
    {
      "cell_type": "code",
      "source": [
        "sns.boxplot(data = df, x='Tenure', y='Churn').set(title='Tenure per Churn')"
      ],
      "metadata": {
        "id": "wv5KAJJcOH9E",
        "colab": {
          "base_uri": "https://localhost:8080/",
          "height": 312
        },
        "outputId": "e9c5122f-b634-44f7-e949-9ec40c87b964"
      },
      "id": "wv5KAJJcOH9E",
      "execution_count": null,
      "outputs": [
        {
          "data": {
            "text/plain": [
              "[Text(0.5, 1.0, 'Tenure per Churn')]"
            ]
          },
          "execution_count": 266,
          "metadata": {},
          "output_type": "execute_result"
        },
        {
          "data": {
            "image/png": "[encoded data removed]",
            "text/plain": [
              "<Figure size 432x288 with 1 Axes>"
            ]
          },
          "metadata": {},
          "output_type": "display_data"
        }
      ]
    },
    {
      "cell_type": "code",
      "source": [
        "plot = sns.displot(data=df, x='Tenure', col='Churn', hue='Churn')\n",
        "x_ticks = np.arange(0, 75, 5)\n",
        "plt.xticks(x_ticks)\n",
        "plot"
      ],
      "metadata": {
        "id": "CUKUQqxQSfZU"
      },
      "id": "CUKUQqxQSfZU",
      "execution_count": null,
      "outputs": []
    },
    {
      "cell_type": "markdown",
      "source": [
        "We can noticed that  more than a half of new customers leave the services before 5 months of services."
      ],
      "metadata": {
        "id": "XftWpjBw1Gxq"
      },
      "id": "XftWpjBw1Gxq"
    },
    {
      "cell_type": "markdown",
      "source": [
        "### Analyze Churn with other Variables"
      ],
      "metadata": {
        "id": "QyOLg-rzHUkj"
      },
      "id": "QyOLg-rzHUkj"
    },
    {
      "cell_type": "code",
      "source": [
        "dfdrop=df.drop(columns=['CustomerID','Tenure','ChargesDaily','ChargesMonthly','ChargesTotal'])\n",
        "\n",
        "for col in dfdrop:\n",
        "  p = sns.catplot(data=dfdrop, x='Churn', col=col, kind='count')\n"
      ],
      "metadata": {
        "id": "Ttw1n3vz1MZx",
        "colab": {
          "base_uri": "https://localhost:8080/",
          "height": 1000
        },
        "outputId": "f77c780c-b657-44e2-d940-c6a27ce56488"
      },
      "id": "Ttw1n3vz1MZx",
      "execution_count": null,
      "outputs": [
        {
          "data": {
            "image/png": "[encoded data removed]",
            "text/plain": [
              "<Figure size 720x360 with 2 Axes>"
            ]
          },
          "metadata": {},
          "output_type": "display_data"
        },
        {
          "data": {
            "image/png": "[encoded data removed]",
            "text/plain": [
              "<Figure size 720x360 with 2 Axes>"
            ]
          },
          "metadata": {},
          "output_type": "display_data"
        },
        {
          "data": {
            "image/png": "[encoded data removed]",
            "text/plain": [
              "<Figure size 720x360 with 2 Axes>"
            ]
          },
          "metadata": {},
          "output_type": "display_data"
        },
        {
          "data": {
            "image/png": "[encoded data removed]",
            "text/plain": [
              "<Figure size 720x360 with 2 Axes>"
            ]
          },
          "metadata": {},
          "output_type": "display_data"
        },
        {
          "data": {
            "image/png": "[encoded data removed]",
            "text/plain": [
              "<Figure size 720x360 with 2 Axes>"
            ]
          },
          "metadata": {},
          "output_type": "display_data"
        },
        {
          "data": {
            "image/png": "[encoded data removed]",
            "text/plain": [
              "<Figure size 720x360 with 2 Axes>"
            ]
          },
          "metadata": {},
          "output_type": "display_data"
        },
        {
          "data": {
            "image/png": "[encoded data removed]",
            "text/plain": [
              "<Figure size 1080x360 with 3 Axes>"
            ]
          },
          "metadata": {},
          "output_type": "display_data"
        },
        {
          "data": {
            "image/png": "[encoded data removed]",
            "text/plain": [
              "<Figure size 1080x360 with 3 Axes>"
            ]
          },
          "metadata": {},
          "output_type": "display_data"
        },
        {
          "data": {
            "image/png": "[encoded data removed]",
            "text/plain": [
              "<Figure size 1080x360 with 3 Axes>"
            ]
          },
          "metadata": {},
          "output_type": "display_data"
        },
        {
          "data": {
            "image/png": "[encoded data removed]",
            "text/plain": [
              "<Figure size 1080x360 with 3 Axes>"
            ]
          },
          "metadata": {},
          "output_type": "display_data"
        },
        {
          "data": {
            "image/png": "[encoded data removed]",
            "text/plain": [
              "<Figure size 1080x360 with 3 Axes>"
            ]
          },
          "metadata": {},
          "output_type": "display_data"
        },
        {
          "data": {
            "image/png": "[encoded data removed]",
            "text/plain": [
              "<Figure size 1080x360 with 3 Axes>"
            ]
          },
          "metadata": {},
          "output_type": "display_data"
        },
        {
          "data": {
            "image/png": "[encoded data removed]",
            "text/plain": [
              "<Figure size 1080x360 with 3 Axes>"
            ]
          },
          "metadata": {},
          "output_type": "display_data"
        },
        {
          "data": {
            "image/png": "[encoded data removed]",
            "text/plain": [
              "<Figure size 1080x360 with 3 Axes>"
            ]
          },
          "metadata": {},
          "output_type": "display_data"
        },
        {
          "data": {
            "image/png": "[encoded data removed]",
            "text/plain": [
              "<Figure size 1080x360 with 3 Axes>"
            ]
          },
          "metadata": {},
          "output_type": "display_data"
        },
        {
          "data": {
            "image/png": "[encoded data removed]",
            "text/plain": [
              "<Figure size 720x360 with 2 Axes>"
            ]
          },
          "metadata": {},
          "output_type": "display_data"
        },
        {
          "data": {
            "image/png": "[encoded data removed]",
            "text/plain": [
              "<Figure size 1440x360 with 4 Axes>"
            ]
          },
          "metadata": {},
          "output_type": "display_data"
        }
      ]
    },
    {
      "cell_type": "markdown",
      "source": [
        "Let's also check outliers on quantitative variables"
      ],
      "metadata": {
        "id": "KxvINgYIRgs5"
      },
      "id": "KxvINgYIRgs5"
    },
    {
      "cell_type": "code",
      "source": [
        "fig, axs = plt.subplots(1,3,figsize=(12,8))\n",
        "\n",
        "axs[0].set_title('Tenure')\n",
        "axs[0].boxplot(df.Tenure)\n",
        "\n",
        "axs[1].set_title('ChargesMonthly')\n",
        "axs[1].boxplot(df.ChargesMonthly)\n",
        "\n",
        "axs[2].set_title('ChargesTotal')\n",
        "axs[2].boxplot(df.ChargesTotal)"
      ],
      "metadata": {
        "id": "Mw_PLxcERgV9",
        "colab": {
          "base_uri": "https://localhost:8080/",
          "height": 638
        },
        "outputId": "590e11a8-c049-4b7c-b883-2c39d47a6314"
      },
      "id": "Mw_PLxcERgV9",
      "execution_count": null,
      "outputs": [
        {
          "data": {
            "text/plain": [
              "{'whiskers': [<matplotlib.lines.Line2D at 0x7f7b6702d7d0>,\n",
              "  <matplotlib.lines.Line2D at 0x7f7b67033510>],\n",
              " 'caps': [<matplotlib.lines.Line2D at 0x7f7b670360d0>,\n",
              "  <matplotlib.lines.Line2D at 0x7f7b6703a990>],\n",
              " 'boxes': [<matplotlib.lines.Line2D at 0x7f7b67029090>],\n",
              " 'medians': [<matplotlib.lines.Line2D at 0x7f7b6703d490>],\n",
              " 'fliers': [<matplotlib.lines.Line2D at 0x7f7b67041d90>],\n",
              " 'means': []}"
            ]
          },
          "execution_count": 269,
          "metadata": {},
          "output_type": "execute_result"
        },
        {
          "data": {
            "image/png": "[encoded data removed]",
            "text/plain": [
              "<Figure size 864x576 with 3 Axes>"
            ]
          },
          "metadata": {},
          "output_type": "display_data"
        }
      ]
    },
    {
      "cell_type": "markdown",
      "source": [
        "Follow insights obtained from this analysis:\n",
        "the profile of customers with highers churners are:\n",
        "1. New clients, that's might happens due free trial period;\n",
        "2. No senior citizens and with no depents;\n",
        "3. Customers with fiber optic services\n",
        "4. Customers without: online security, online backup, device protection, tech support services;\n",
        "5. Month to month and eletronic check as payment method. In this case, if we created a contract term or some benefit for renewed contract customers this might change.\n",
        "\n"
      ],
      "metadata": {
        "id": "NHLusH8HC2bT"
      },
      "id": "NHLusH8HC2bT"
    },
    {
      "cell_type": "markdown",
      "source": [
        "## 5. Machine Learning Models"
      ],
      "metadata": {
        "id": "vXEBSB8_NNLP"
      },
      "id": "vXEBSB8_NNLP"
    },
    {
      "cell_type": "markdown",
      "source": [
        "At this point we know what are the insights obtained from this data analysis. Now Alura Voz needs us to create a machine learning model to predict client churn.\n",
        "For that purpose, let's prepare our dataset to train and test ML methods."
      ],
      "metadata": {
        "id": "yTXKaNcyJvYJ"
      },
      "id": "yTXKaNcyJvYJ"
    },
    {
      "cell_type": "code",
      "source": [
        "pd.set_option('.max_columns', 22)\n",
        "df.head()"
      ],
      "metadata": {
        "colab": {
          "base_uri": "https://localhost:8080/",
          "height": 357
        },
        "id": "gaZ0sU97WZOS",
        "outputId": "117d151d-4ae0-4c24-ebe7-67dfa25c07dd"
      },
      "id": "gaZ0sU97WZOS",
      "execution_count": null,
      "outputs": [
        {
          "data": {
            "text/html": [
              "\n",
              "  <div id=\"df-8132324c-8af4-4b32-8866-0945a713f5d4\">\n",
              "    <div class=\"colab-df-container\">\n",
              "      <div>\n",
              "<style scoped>\n",
              "    .dataframe tbody tr th:only-of-type {\n",
              "        vertical-align: middle;\n",
              "    }\n",
              "\n",
              "    .dataframe tbody tr th {\n",
              "        vertical-align: top;\n",
              "    }\n",
              "\n",
              "    .dataframe thead th {\n",
              "        text-align: right;\n",
              "    }\n",
              "</style>\n",
              "<table border=\"1\" class=\"dataframe\">\n",
              "  <thead>\n",
              "    <tr style=\"text-align: right;\">\n",
              "      <th></th>\n",
              "      <th>CustomerID</th>\n",
              "      <th>Churn</th>\n",
              "      <th>Gender</th>\n",
              "      <th>SeniorCitizen</th>\n",
              "      <th>Partner</th>\n",
              "      <th>Dependents</th>\n",
              "      <th>Tenure</th>\n",
              "      <th>PhoneService</th>\n",
              "      <th>MultipleLines</th>\n",
              "      <th>InternetService</th>\n",
              "      <th>OnlineSecurity</th>\n",
              "      <th>OnlineBackup</th>\n",
              "      <th>DeviceProtection</th>\n",
              "      <th>TechSupport</th>\n",
              "      <th>StreamingTV</th>\n",
              "      <th>StreamingMovies</th>\n",
              "      <th>Contract</th>\n",
              "      <th>PaperlessBilling</th>\n",
              "      <th>PaymentMethod</th>\n",
              "      <th>ChargesDaily</th>\n",
              "      <th>ChargesMonthly</th>\n",
              "      <th>ChargesTotal</th>\n",
              "    </tr>\n",
              "  </thead>\n",
              "  <tbody>\n",
              "    <tr>\n",
              "      <th>0</th>\n",
              "      <td>0002-ORFBO</td>\n",
              "      <td>No</td>\n",
              "      <td>Female</td>\n",
              "      <td>No</td>\n",
              "      <td>Yes</td>\n",
              "      <td>Yes</td>\n",
              "      <td>9</td>\n",
              "      <td>Yes</td>\n",
              "      <td>No</td>\n",
              "      <td>DSL</td>\n",
              "      <td>No</td>\n",
              "      <td>Yes</td>\n",
              "      <td>No</td>\n",
              "      <td>Yes</td>\n",
              "      <td>Yes</td>\n",
              "      <td>No</td>\n",
              "      <td>One year</td>\n",
              "      <td>Yes</td>\n",
              "      <td>Mailed check</td>\n",
              "      <td>2.19</td>\n",
              "      <td>65.6</td>\n",
              "      <td>593.30</td>\n",
              "    </tr>\n",
              "    <tr>\n",
              "      <th>1</th>\n",
              "      <td>0003-MKNFE</td>\n",
              "      <td>No</td>\n",
              "      <td>Male</td>\n",
              "      <td>No</td>\n",
              "      <td>No</td>\n",
              "      <td>No</td>\n",
              "      <td>9</td>\n",
              "      <td>Yes</td>\n",
              "      <td>Yes</td>\n",
              "      <td>DSL</td>\n",
              "      <td>No</td>\n",
              "      <td>No</td>\n",
              "      <td>No</td>\n",
              "      <td>No</td>\n",
              "      <td>No</td>\n",
              "      <td>Yes</td>\n",
              "      <td>Month-to-month</td>\n",
              "      <td>No</td>\n",
              "      <td>Mailed check</td>\n",
              "      <td>2.00</td>\n",
              "      <td>59.9</td>\n",
              "      <td>542.40</td>\n",
              "    </tr>\n",
              "    <tr>\n",
              "      <th>2</th>\n",
              "      <td>0004-TLHLJ</td>\n",
              "      <td>Yes</td>\n",
              "      <td>Male</td>\n",
              "      <td>No</td>\n",
              "      <td>No</td>\n",
              "      <td>No</td>\n",
              "      <td>4</td>\n",
              "      <td>Yes</td>\n",
              "      <td>No</td>\n",
              "      <td>Fiber optic</td>\n",
              "      <td>No</td>\n",
              "      <td>No</td>\n",
              "      <td>Yes</td>\n",
              "      <td>No</td>\n",
              "      <td>No</td>\n",
              "      <td>No</td>\n",
              "      <td>Month-to-month</td>\n",
              "      <td>Yes</td>\n",
              "      <td>Electronic check</td>\n",
              "      <td>2.46</td>\n",
              "      <td>73.9</td>\n",
              "      <td>280.85</td>\n",
              "    </tr>\n",
              "    <tr>\n",
              "      <th>3</th>\n",
              "      <td>0011-IGKFF</td>\n",
              "      <td>Yes</td>\n",
              "      <td>Male</td>\n",
              "      <td>Yes</td>\n",
              "      <td>Yes</td>\n",
              "      <td>No</td>\n",
              "      <td>13</td>\n",
              "      <td>Yes</td>\n",
              "      <td>No</td>\n",
              "      <td>Fiber optic</td>\n",
              "      <td>No</td>\n",
              "      <td>Yes</td>\n",
              "      <td>Yes</td>\n",
              "      <td>No</td>\n",
              "      <td>Yes</td>\n",
              "      <td>Yes</td>\n",
              "      <td>Month-to-month</td>\n",
              "      <td>Yes</td>\n",
              "      <td>Electronic check</td>\n",
              "      <td>3.27</td>\n",
              "      <td>98.0</td>\n",
              "      <td>1237.85</td>\n",
              "    </tr>\n",
              "    <tr>\n",
              "      <th>4</th>\n",
              "      <td>0013-EXCHZ</td>\n",
              "      <td>Yes</td>\n",
              "      <td>Female</td>\n",
              "      <td>Yes</td>\n",
              "      <td>Yes</td>\n",
              "      <td>No</td>\n",
              "      <td>3</td>\n",
              "      <td>Yes</td>\n",
              "      <td>No</td>\n",
              "      <td>Fiber optic</td>\n",
              "      <td>No</td>\n",
              "      <td>No</td>\n",
              "      <td>No</td>\n",
              "      <td>Yes</td>\n",
              "      <td>Yes</td>\n",
              "      <td>No</td>\n",
              "      <td>Month-to-month</td>\n",
              "      <td>Yes</td>\n",
              "      <td>Mailed check</td>\n",
              "      <td>2.80</td>\n",
              "      <td>83.9</td>\n",
              "      <td>267.40</td>\n",
              "    </tr>\n",
              "  </tbody>\n",
              "</table>\n",
              "</div>\n",
              "      <button class=\"colab-df-convert\" onclick=\"convertToInteractive('df-8132324c-8af4-4b32-8866-0945a713f5d4')\"\n",
              "              title=\"Convert this dataframe to an interactive table.\"\n",
              "              style=\"display:none;\">\n",
              "        \n",
              "  <svg xmlns=\"http://www.w3.org/2000/svg\" height=\"24px\"viewBox=\"0 0 24 24\"\n",
              "       width=\"24px\">\n",
              "    <path d=\"M0 0h24v24H0V0z\" fill=\"none\"/>\n",
              "    <path d=\"M18.56 5.44l.94 2.06.94-2.06 2.06-.94-2.06-.94-.94-2.06-.94 2.06-2.06.94zm-11 1L8.5 8.5l.94-2.06 2.06-.94-2.06-.94L8.5 2.5l-.94 2.06-2.06.94zm10 10l.94 2.06.94-2.06 2.06-.94-2.06-.94-.94-2.06-.94 2.06-2.06.94z\"/><path d=\"M17.41 7.96l-1.37-1.37c-.4-.4-.92-.59-1.43-.59-.52 0-1.04.2-1.43.59L10.3 9.45l-7.72 7.72c-.78.78-.78 2.05 0 2.83L4 21.41c.39.39.9.59 1.41.59.51 0 1.02-.2 1.41-.59l7.78-7.78 2.81-2.81c.8-.78.8-2.07 0-2.86zM5.41 20L4 18.59l7.72-7.72 1.47 1.35L5.41 20z\"/>\n",
              "  </svg>\n",
              "      </button>\n",
              "      \n",
              "  <style>\n",
              "    .colab-df-container {\n",
              "      display:flex;\n",
              "      flex-wrap:wrap;\n",
              "      gap: 12px;\n",
              "    }\n",
              "\n",
              "    .colab-df-convert {\n",
              "      background-color: #E8F0FE;\n",
              "      border: none;\n",
              "      border-radius: 50%;\n",
              "      cursor: pointer;\n",
              "      display: none;\n",
              "      fill: #1967D2;\n",
              "      height: 32px;\n",
              "      padding: 0 0 0 0;\n",
              "      width: 32px;\n",
              "    }\n",
              "\n",
              "    .colab-df-convert:hover {\n",
              "      background-color: #E2EBFA;\n",
              "      box-shadow: 0px 1px 2px rgba(60, 64, 67, 0.3), 0px 1px 3px 1px rgba(60, 64, 67, 0.15);\n",
              "      fill: #174EA6;\n",
              "    }\n",
              "\n",
              "    [theme=dark] .colab-df-convert {\n",
              "      background-color: #3B4455;\n",
              "      fill: #D2E3FC;\n",
              "    }\n",
              "\n",
              "    [theme=dark] .colab-df-convert:hover {\n",
              "      background-color: #434B5C;\n",
              "      box-shadow: 0px 1px 3px 1px rgba(0, 0, 0, 0.15);\n",
              "      filter: drop-shadow(0px 1px 2px rgba(0, 0, 0, 0.3));\n",
              "      fill: #FFFFFF;\n",
              "    }\n",
              "  </style>\n",
              "\n",
              "      <script>\n",
              "        const buttonEl =\n",
              "          document.querySelector('#df-8132324c-8af4-4b32-8866-0945a713f5d4 button.colab-df-convert');\n",
              "        buttonEl.style.display =\n",
              "          google.colab.kernel.accessAllowed ? 'block' : 'none';\n",
              "\n",
              "        async function convertToInteractive(key) {\n",
              "          const element = document.querySelector('#df-8132324c-8af4-4b32-8866-0945a713f5d4');\n",
              "          const dataTable =\n",
              "            await google.colab.kernel.invokeFunction('convertToInteractive',\n",
              "                                                     [key], {});\n",
              "          if (!dataTable) return;\n",
              "\n",
              "          const docLinkHtml = 'Like what you see? Visit the ' +\n",
              "            '<a target=\"_blank\" href=https://colab.research.google.com/notebooks/data_table.ipynb>data table notebook</a>'\n",
              "            + ' to learn more about interactive tables.';\n",
              "          element.innerHTML = '';\n",
              "          dataTable['output_type'] = 'display_data';\n",
              "          await google.colab.output.renderOutput(dataTable, element);\n",
              "          const docLink = document.createElement('div');\n",
              "          docLink.innerHTML = docLinkHtml;\n",
              "          element.appendChild(docLink);\n",
              "        }\n",
              "      </script>\n",
              "    </div>\n",
              "  </div>\n",
              "  "
            ],
            "text/plain": [
              "   CustomerID Churn  Gender SeniorCitizen Partner Dependents  Tenure  \\\n",
              "0  0002-ORFBO    No  Female            No     Yes        Yes       9   \n",
              "1  0003-MKNFE    No    Male            No      No         No       9   \n",
              "2  0004-TLHLJ   Yes    Male            No      No         No       4   \n",
              "3  0011-IGKFF   Yes    Male           Yes     Yes         No      13   \n",
              "4  0013-EXCHZ   Yes  Female           Yes     Yes         No       3   \n",
              "\n",
              "  PhoneService MultipleLines InternetService OnlineSecurity OnlineBackup  \\\n",
              "0          Yes            No             DSL             No          Yes   \n",
              "1          Yes           Yes             DSL             No           No   \n",
              "2          Yes            No     Fiber optic             No           No   \n",
              "3          Yes            No     Fiber optic             No          Yes   \n",
              "4          Yes            No     Fiber optic             No           No   \n",
              "\n",
              "  DeviceProtection TechSupport StreamingTV StreamingMovies        Contract  \\\n",
              "0               No         Yes         Yes              No        One year   \n",
              "1               No          No          No             Yes  Month-to-month   \n",
              "2              Yes          No          No              No  Month-to-month   \n",
              "3              Yes          No         Yes             Yes  Month-to-month   \n",
              "4               No         Yes         Yes              No  Month-to-month   \n",
              "\n",
              "  PaperlessBilling     PaymentMethod  ChargesDaily  ChargesMonthly  \\\n",
              "0              Yes      Mailed check          2.19            65.6   \n",
              "1               No      Mailed check          2.00            59.9   \n",
              "2              Yes  Electronic check          2.46            73.9   \n",
              "3              Yes  Electronic check          3.27            98.0   \n",
              "4              Yes      Mailed check          2.80            83.9   \n",
              "\n",
              "   ChargesTotal  \n",
              "0        593.30  \n",
              "1        542.40  \n",
              "2        280.85  \n",
              "3       1237.85  \n",
              "4        267.40  "
            ]
          },
          "execution_count": 270,
          "metadata": {},
          "output_type": "execute_result"
        }
      ]
    },
    {
      "cell_type": "markdown",
      "source": [
        "### Enconding Dataset"
      ],
      "metadata": {
        "id": "iQcbNaBbaxjf"
      },
      "id": "iQcbNaBbaxjf"
    },
    {
      "cell_type": "markdown",
      "source": [
        "To encoding our dataset we'll use two approaches: LabelEnconder and One-hot Enconding. Label enconding will be use on column \"Contract\" because it's a ordinal variable. The others columns due the number of categorical features, one-hot encoding can be effectively applied.\n",
        "Noticed that CustomerID will be deleted for being a primary-key and not being useful for our model "
      ],
      "metadata": {
        "id": "f1Vgqgc4ZI7y"
      },
      "id": "f1Vgqgc4ZI7y"
    },
    {
      "cell_type": "markdown",
      "source": [
        "#### Label Enconding"
      ],
      "metadata": {
        "id": "D9dc2DSXhKrT"
      },
      "id": "D9dc2DSXhKrT"
    },
    {
      "cell_type": "code",
      "source": [
        "df.drop(columns='CustomerID', inplace=True)"
      ],
      "metadata": {
        "id": "QKvbgaAwg8f9"
      },
      "id": "QKvbgaAwg8f9",
      "execution_count": null,
      "outputs": []
    },
    {
      "cell_type": "code",
      "source": [
        "cols = df.dtypes.reset_index().rename(columns={'index':'column',0:'type'})\n",
        "cont_col= cols[cols.column == 'Contract']\n",
        "cont_col"
      ],
      "metadata": {
        "colab": {
          "base_uri": "https://localhost:8080/",
          "height": 81
        },
        "id": "zEN0xOgGrYHV",
        "outputId": "373384ea-430b-48ad-94d6-b3867a288646"
      },
      "id": "zEN0xOgGrYHV",
      "execution_count": null,
      "outputs": [
        {
          "data": {
            "text/html": [
              "\n",
              "  <div id=\"df-12a2583b-02d1-4f7e-9ba7-e549aaa66a1d\">\n",
              "    <div class=\"colab-df-container\">\n",
              "      <div>\n",
              "<style scoped>\n",
              "    .dataframe tbody tr th:only-of-type {\n",
              "        vertical-align: middle;\n",
              "    }\n",
              "\n",
              "    .dataframe tbody tr th {\n",
              "        vertical-align: top;\n",
              "    }\n",
              "\n",
              "    .dataframe thead th {\n",
              "        text-align: right;\n",
              "    }\n",
              "</style>\n",
              "<table border=\"1\" class=\"dataframe\">\n",
              "  <thead>\n",
              "    <tr style=\"text-align: right;\">\n",
              "      <th></th>\n",
              "      <th>column</th>\n",
              "      <th>type</th>\n",
              "    </tr>\n",
              "  </thead>\n",
              "  <tbody>\n",
              "    <tr>\n",
              "      <th>15</th>\n",
              "      <td>Contract</td>\n",
              "      <td>object</td>\n",
              "    </tr>\n",
              "  </tbody>\n",
              "</table>\n",
              "</div>\n",
              "      <button class=\"colab-df-convert\" onclick=\"convertToInteractive('df-12a2583b-02d1-4f7e-9ba7-e549aaa66a1d')\"\n",
              "              title=\"Convert this dataframe to an interactive table.\"\n",
              "              style=\"display:none;\">\n",
              "        \n",
              "  <svg xmlns=\"http://www.w3.org/2000/svg\" height=\"24px\"viewBox=\"0 0 24 24\"\n",
              "       width=\"24px\">\n",
              "    <path d=\"M0 0h24v24H0V0z\" fill=\"none\"/>\n",
              "    <path d=\"M18.56 5.44l.94 2.06.94-2.06 2.06-.94-2.06-.94-.94-2.06-.94 2.06-2.06.94zm-11 1L8.5 8.5l.94-2.06 2.06-.94-2.06-.94L8.5 2.5l-.94 2.06-2.06.94zm10 10l.94 2.06.94-2.06 2.06-.94-2.06-.94-.94-2.06-.94 2.06-2.06.94z\"/><path d=\"M17.41 7.96l-1.37-1.37c-.4-.4-.92-.59-1.43-.59-.52 0-1.04.2-1.43.59L10.3 9.45l-7.72 7.72c-.78.78-.78 2.05 0 2.83L4 21.41c.39.39.9.59 1.41.59.51 0 1.02-.2 1.41-.59l7.78-7.78 2.81-2.81c.8-.78.8-2.07 0-2.86zM5.41 20L4 18.59l7.72-7.72 1.47 1.35L5.41 20z\"/>\n",
              "  </svg>\n",
              "      </button>\n",
              "      \n",
              "  <style>\n",
              "    .colab-df-container {\n",
              "      display:flex;\n",
              "      flex-wrap:wrap;\n",
              "      gap: 12px;\n",
              "    }\n",
              "\n",
              "    .colab-df-convert {\n",
              "      background-color: #E8F0FE;\n",
              "      border: none;\n",
              "      border-radius: 50%;\n",
              "      cursor: pointer;\n",
              "      display: none;\n",
              "      fill: #1967D2;\n",
              "      height: 32px;\n",
              "      padding: 0 0 0 0;\n",
              "      width: 32px;\n",
              "    }\n",
              "\n",
              "    .colab-df-convert:hover {\n",
              "      background-color: #E2EBFA;\n",
              "      box-shadow: 0px 1px 2px rgba(60, 64, 67, 0.3), 0px 1px 3px 1px rgba(60, 64, 67, 0.15);\n",
              "      fill: #174EA6;\n",
              "    }\n",
              "\n",
              "    [theme=dark] .colab-df-convert {\n",
              "      background-color: #3B4455;\n",
              "      fill: #D2E3FC;\n",
              "    }\n",
              "\n",
              "    [theme=dark] .colab-df-convert:hover {\n",
              "      background-color: #434B5C;\n",
              "      box-shadow: 0px 1px 3px 1px rgba(0, 0, 0, 0.15);\n",
              "      filter: drop-shadow(0px 1px 2px rgba(0, 0, 0, 0.3));\n",
              "      fill: #FFFFFF;\n",
              "    }\n",
              "  </style>\n",
              "\n",
              "      <script>\n",
              "        const buttonEl =\n",
              "          document.querySelector('#df-12a2583b-02d1-4f7e-9ba7-e549aaa66a1d button.colab-df-convert');\n",
              "        buttonEl.style.display =\n",
              "          google.colab.kernel.accessAllowed ? 'block' : 'none';\n",
              "\n",
              "        async function convertToInteractive(key) {\n",
              "          const element = document.querySelector('#df-12a2583b-02d1-4f7e-9ba7-e549aaa66a1d');\n",
              "          const dataTable =\n",
              "            await google.colab.kernel.invokeFunction('convertToInteractive',\n",
              "                                                     [key], {});\n",
              "          if (!dataTable) return;\n",
              "\n",
              "          const docLinkHtml = 'Like what you see? Visit the ' +\n",
              "            '<a target=\"_blank\" href=https://colab.research.google.com/notebooks/data_table.ipynb>data table notebook</a>'\n",
              "            + ' to learn more about interactive tables.';\n",
              "          element.innerHTML = '';\n",
              "          dataTable['output_type'] = 'display_data';\n",
              "          await google.colab.output.renderOutput(dataTable, element);\n",
              "          const docLink = document.createElement('div');\n",
              "          docLink.innerHTML = docLinkHtml;\n",
              "          element.appendChild(docLink);\n",
              "        }\n",
              "      </script>\n",
              "    </div>\n",
              "  </div>\n",
              "  "
            ],
            "text/plain": [
              "      column    type\n",
              "15  Contract  object"
            ]
          },
          "execution_count": 272,
          "metadata": {},
          "output_type": "execute_result"
        }
      ]
    },
    {
      "cell_type": "code",
      "source": [
        "from sklearn.preprocessing import LabelEncoder\n",
        "le = LabelEncoder()\n",
        "for i in cont_col.column:\n",
        "    df[str(i) + '_encoded'] = le.fit_transform(df[i])"
      ],
      "metadata": {
        "id": "QMxAI8gvrYKS"
      },
      "id": "QMxAI8gvrYKS",
      "execution_count": null,
      "outputs": []
    },
    {
      "cell_type": "code",
      "source": [
        "df = df.drop(columns='Contract', axis=1)\n",
        "df.head()"
      ],
      "metadata": {
        "colab": {
          "base_uri": "https://localhost:8080/",
          "height": 305
        },
        "id": "EAqCotAzrYNR",
        "outputId": "5f3e1472-7a5e-4a62-ca83-841a3f0730fe"
      },
      "id": "EAqCotAzrYNR",
      "execution_count": null,
      "outputs": [
        {
          "data": {
            "text/html": [
              "\n",
              "  <div id=\"df-712e94ae-19e9-4f89-af71-b5fec0e75886\">\n",
              "    <div class=\"colab-df-container\">\n",
              "      <div>\n",
              "<style scoped>\n",
              "    .dataframe tbody tr th:only-of-type {\n",
              "        vertical-align: middle;\n",
              "    }\n",
              "\n",
              "    .dataframe tbody tr th {\n",
              "        vertical-align: top;\n",
              "    }\n",
              "\n",
              "    .dataframe thead th {\n",
              "        text-align: right;\n",
              "    }\n",
              "</style>\n",
              "<table border=\"1\" class=\"dataframe\">\n",
              "  <thead>\n",
              "    <tr style=\"text-align: right;\">\n",
              "      <th></th>\n",
              "      <th>Churn</th>\n",
              "      <th>Gender</th>\n",
              "      <th>SeniorCitizen</th>\n",
              "      <th>Partner</th>\n",
              "      <th>Dependents</th>\n",
              "      <th>Tenure</th>\n",
              "      <th>PhoneService</th>\n",
              "      <th>MultipleLines</th>\n",
              "      <th>InternetService</th>\n",
              "      <th>OnlineSecurity</th>\n",
              "      <th>OnlineBackup</th>\n",
              "      <th>DeviceProtection</th>\n",
              "      <th>TechSupport</th>\n",
              "      <th>StreamingTV</th>\n",
              "      <th>StreamingMovies</th>\n",
              "      <th>PaperlessBilling</th>\n",
              "      <th>PaymentMethod</th>\n",
              "      <th>ChargesDaily</th>\n",
              "      <th>ChargesMonthly</th>\n",
              "      <th>ChargesTotal</th>\n",
              "      <th>Contract_encoded</th>\n",
              "    </tr>\n",
              "  </thead>\n",
              "  <tbody>\n",
              "    <tr>\n",
              "      <th>0</th>\n",
              "      <td>No</td>\n",
              "      <td>Female</td>\n",
              "      <td>No</td>\n",
              "      <td>Yes</td>\n",
              "      <td>Yes</td>\n",
              "      <td>9</td>\n",
              "      <td>Yes</td>\n",
              "      <td>No</td>\n",
              "      <td>DSL</td>\n",
              "      <td>No</td>\n",
              "      <td>Yes</td>\n",
              "      <td>No</td>\n",
              "      <td>Yes</td>\n",
              "      <td>Yes</td>\n",
              "      <td>No</td>\n",
              "      <td>Yes</td>\n",
              "      <td>Mailed check</td>\n",
              "      <td>2.19</td>\n",
              "      <td>65.6</td>\n",
              "      <td>593.30</td>\n",
              "      <td>1</td>\n",
              "    </tr>\n",
              "    <tr>\n",
              "      <th>1</th>\n",
              "      <td>No</td>\n",
              "      <td>Male</td>\n",
              "      <td>No</td>\n",
              "      <td>No</td>\n",
              "      <td>No</td>\n",
              "      <td>9</td>\n",
              "      <td>Yes</td>\n",
              "      <td>Yes</td>\n",
              "      <td>DSL</td>\n",
              "      <td>No</td>\n",
              "      <td>No</td>\n",
              "      <td>No</td>\n",
              "      <td>No</td>\n",
              "      <td>No</td>\n",
              "      <td>Yes</td>\n",
              "      <td>No</td>\n",
              "      <td>Mailed check</td>\n",
              "      <td>2.00</td>\n",
              "      <td>59.9</td>\n",
              "      <td>542.40</td>\n",
              "      <td>0</td>\n",
              "    </tr>\n",
              "    <tr>\n",
              "      <th>2</th>\n",
              "      <td>Yes</td>\n",
              "      <td>Male</td>\n",
              "      <td>No</td>\n",
              "      <td>No</td>\n",
              "      <td>No</td>\n",
              "      <td>4</td>\n",
              "      <td>Yes</td>\n",
              "      <td>No</td>\n",
              "      <td>Fiber optic</td>\n",
              "      <td>No</td>\n",
              "      <td>No</td>\n",
              "      <td>Yes</td>\n",
              "      <td>No</td>\n",
              "      <td>No</td>\n",
              "      <td>No</td>\n",
              "      <td>Yes</td>\n",
              "      <td>Electronic check</td>\n",
              "      <td>2.46</td>\n",
              "      <td>73.9</td>\n",
              "      <td>280.85</td>\n",
              "      <td>0</td>\n",
              "    </tr>\n",
              "    <tr>\n",
              "      <th>3</th>\n",
              "      <td>Yes</td>\n",
              "      <td>Male</td>\n",
              "      <td>Yes</td>\n",
              "      <td>Yes</td>\n",
              "      <td>No</td>\n",
              "      <td>13</td>\n",
              "      <td>Yes</td>\n",
              "      <td>No</td>\n",
              "      <td>Fiber optic</td>\n",
              "      <td>No</td>\n",
              "      <td>Yes</td>\n",
              "      <td>Yes</td>\n",
              "      <td>No</td>\n",
              "      <td>Yes</td>\n",
              "      <td>Yes</td>\n",
              "      <td>Yes</td>\n",
              "      <td>Electronic check</td>\n",
              "      <td>3.27</td>\n",
              "      <td>98.0</td>\n",
              "      <td>1237.85</td>\n",
              "      <td>0</td>\n",
              "    </tr>\n",
              "    <tr>\n",
              "      <th>4</th>\n",
              "      <td>Yes</td>\n",
              "      <td>Female</td>\n",
              "      <td>Yes</td>\n",
              "      <td>Yes</td>\n",
              "      <td>No</td>\n",
              "      <td>3</td>\n",
              "      <td>Yes</td>\n",
              "      <td>No</td>\n",
              "      <td>Fiber optic</td>\n",
              "      <td>No</td>\n",
              "      <td>No</td>\n",
              "      <td>No</td>\n",
              "      <td>Yes</td>\n",
              "      <td>Yes</td>\n",
              "      <td>No</td>\n",
              "      <td>Yes</td>\n",
              "      <td>Mailed check</td>\n",
              "      <td>2.80</td>\n",
              "      <td>83.9</td>\n",
              "      <td>267.40</td>\n",
              "      <td>0</td>\n",
              "    </tr>\n",
              "  </tbody>\n",
              "</table>\n",
              "</div>\n",
              "      <button class=\"colab-df-convert\" onclick=\"convertToInteractive('df-712e94ae-19e9-4f89-af71-b5fec0e75886')\"\n",
              "              title=\"Convert this dataframe to an interactive table.\"\n",
              "              style=\"display:none;\">\n",
              "        \n",
              "  <svg xmlns=\"http://www.w3.org/2000/svg\" height=\"24px\"viewBox=\"0 0 24 24\"\n",
              "       width=\"24px\">\n",
              "    <path d=\"M0 0h24v24H0V0z\" fill=\"none\"/>\n",
              "    <path d=\"M18.56 5.44l.94 2.06.94-2.06 2.06-.94-2.06-.94-.94-2.06-.94 2.06-2.06.94zm-11 1L8.5 8.5l.94-2.06 2.06-.94-2.06-.94L8.5 2.5l-.94 2.06-2.06.94zm10 10l.94 2.06.94-2.06 2.06-.94-2.06-.94-.94-2.06-.94 2.06-2.06.94z\"/><path d=\"M17.41 7.96l-1.37-1.37c-.4-.4-.92-.59-1.43-.59-.52 0-1.04.2-1.43.59L10.3 9.45l-7.72 7.72c-.78.78-.78 2.05 0 2.83L4 21.41c.39.39.9.59 1.41.59.51 0 1.02-.2 1.41-.59l7.78-7.78 2.81-2.81c.8-.78.8-2.07 0-2.86zM5.41 20L4 18.59l7.72-7.72 1.47 1.35L5.41 20z\"/>\n",
              "  </svg>\n",
              "      </button>\n",
              "      \n",
              "  <style>\n",
              "    .colab-df-container {\n",
              "      display:flex;\n",
              "      flex-wrap:wrap;\n",
              "      gap: 12px;\n",
              "    }\n",
              "\n",
              "    .colab-df-convert {\n",
              "      background-color: #E8F0FE;\n",
              "      border: none;\n",
              "      border-radius: 50%;\n",
              "      cursor: pointer;\n",
              "      display: none;\n",
              "      fill: #1967D2;\n",
              "      height: 32px;\n",
              "      padding: 0 0 0 0;\n",
              "      width: 32px;\n",
              "    }\n",
              "\n",
              "    .colab-df-convert:hover {\n",
              "      background-color: #E2EBFA;\n",
              "      box-shadow: 0px 1px 2px rgba(60, 64, 67, 0.3), 0px 1px 3px 1px rgba(60, 64, 67, 0.15);\n",
              "      fill: #174EA6;\n",
              "    }\n",
              "\n",
              "    [theme=dark] .colab-df-convert {\n",
              "      background-color: #3B4455;\n",
              "      fill: #D2E3FC;\n",
              "    }\n",
              "\n",
              "    [theme=dark] .colab-df-convert:hover {\n",
              "      background-color: #434B5C;\n",
              "      box-shadow: 0px 1px 3px 1px rgba(0, 0, 0, 0.15);\n",
              "      filter: drop-shadow(0px 1px 2px rgba(0, 0, 0, 0.3));\n",
              "      fill: #FFFFFF;\n",
              "    }\n",
              "  </style>\n",
              "\n",
              "      <script>\n",
              "        const buttonEl =\n",
              "          document.querySelector('#df-712e94ae-19e9-4f89-af71-b5fec0e75886 button.colab-df-convert');\n",
              "        buttonEl.style.display =\n",
              "          google.colab.kernel.accessAllowed ? 'block' : 'none';\n",
              "\n",
              "        async function convertToInteractive(key) {\n",
              "          const element = document.querySelector('#df-712e94ae-19e9-4f89-af71-b5fec0e75886');\n",
              "          const dataTable =\n",
              "            await google.colab.kernel.invokeFunction('convertToInteractive',\n",
              "                                                     [key], {});\n",
              "          if (!dataTable) return;\n",
              "\n",
              "          const docLinkHtml = 'Like what you see? Visit the ' +\n",
              "            '<a target=\"_blank\" href=https://colab.research.google.com/notebooks/data_table.ipynb>data table notebook</a>'\n",
              "            + ' to learn more about interactive tables.';\n",
              "          element.innerHTML = '';\n",
              "          dataTable['output_type'] = 'display_data';\n",
              "          await google.colab.output.renderOutput(dataTable, element);\n",
              "          const docLink = document.createElement('div');\n",
              "          docLink.innerHTML = docLinkHtml;\n",
              "          element.appendChild(docLink);\n",
              "        }\n",
              "      </script>\n",
              "    </div>\n",
              "  </div>\n",
              "  "
            ],
            "text/plain": [
              "  Churn  Gender SeniorCitizen Partner Dependents  Tenure PhoneService  \\\n",
              "0    No  Female            No     Yes        Yes       9          Yes   \n",
              "1    No    Male            No      No         No       9          Yes   \n",
              "2   Yes    Male            No      No         No       4          Yes   \n",
              "3   Yes    Male           Yes     Yes         No      13          Yes   \n",
              "4   Yes  Female           Yes     Yes         No       3          Yes   \n",
              "\n",
              "  MultipleLines InternetService OnlineSecurity OnlineBackup DeviceProtection  \\\n",
              "0            No             DSL             No          Yes               No   \n",
              "1           Yes             DSL             No           No               No   \n",
              "2            No     Fiber optic             No           No              Yes   \n",
              "3            No     Fiber optic             No          Yes              Yes   \n",
              "4            No     Fiber optic             No           No               No   \n",
              "\n",
              "  TechSupport StreamingTV StreamingMovies PaperlessBilling     PaymentMethod  \\\n",
              "0         Yes         Yes              No              Yes      Mailed check   \n",
              "1          No          No             Yes               No      Mailed check   \n",
              "2          No          No              No              Yes  Electronic check   \n",
              "3          No         Yes             Yes              Yes  Electronic check   \n",
              "4         Yes         Yes              No              Yes      Mailed check   \n",
              "\n",
              "   ChargesDaily  ChargesMonthly  ChargesTotal  Contract_encoded  \n",
              "0          2.19            65.6        593.30                 1  \n",
              "1          2.00            59.9        542.40                 0  \n",
              "2          2.46            73.9        280.85                 0  \n",
              "3          3.27            98.0       1237.85                 0  \n",
              "4          2.80            83.9        267.40                 0  "
            ]
          },
          "execution_count": 274,
          "metadata": {},
          "output_type": "execute_result"
        }
      ]
    },
    {
      "cell_type": "markdown",
      "source": [
        "#### One-hot Encoding"
      ],
      "metadata": {
        "id": "vWc-muIOopgT"
      },
      "id": "vWc-muIOopgT"
    },
    {
      "cell_type": "code",
      "source": [
        "to_replace_dic = {'Yes' : 1,\n",
        "              'No' : 0}\n",
        "df_modify = df[['Partner','Dependents','PhoneService','PaperlessBilling','Churn']].replace(to_replace_dic)\n",
        "df_modify.head()"
      ],
      "metadata": {
        "colab": {
          "base_uri": "https://localhost:8080/",
          "height": 206
        },
        "id": "1OQMdK16hN0j",
        "outputId": "f6ea9577-6999-4d83-9589-b3a46fa393a0"
      },
      "id": "1OQMdK16hN0j",
      "execution_count": null,
      "outputs": [
        {
          "data": {
            "text/html": [
              "\n",
              "  <div id=\"df-d7b6377b-4626-4431-aa8d-f04e92c2e66b\">\n",
              "    <div class=\"colab-df-container\">\n",
              "      <div>\n",
              "<style scoped>\n",
              "    .dataframe tbody tr th:only-of-type {\n",
              "        vertical-align: middle;\n",
              "    }\n",
              "\n",
              "    .dataframe tbody tr th {\n",
              "        vertical-align: top;\n",
              "    }\n",
              "\n",
              "    .dataframe thead th {\n",
              "        text-align: right;\n",
              "    }\n",
              "</style>\n",
              "<table border=\"1\" class=\"dataframe\">\n",
              "  <thead>\n",
              "    <tr style=\"text-align: right;\">\n",
              "      <th></th>\n",
              "      <th>Partner</th>\n",
              "      <th>Dependents</th>\n",
              "      <th>PhoneService</th>\n",
              "      <th>PaperlessBilling</th>\n",
              "      <th>Churn</th>\n",
              "    </tr>\n",
              "  </thead>\n",
              "  <tbody>\n",
              "    <tr>\n",
              "      <th>0</th>\n",
              "      <td>1</td>\n",
              "      <td>1</td>\n",
              "      <td>1</td>\n",
              "      <td>1</td>\n",
              "      <td>0</td>\n",
              "    </tr>\n",
              "    <tr>\n",
              "      <th>1</th>\n",
              "      <td>0</td>\n",
              "      <td>0</td>\n",
              "      <td>1</td>\n",
              "      <td>0</td>\n",
              "      <td>0</td>\n",
              "    </tr>\n",
              "    <tr>\n",
              "      <th>2</th>\n",
              "      <td>0</td>\n",
              "      <td>0</td>\n",
              "      <td>1</td>\n",
              "      <td>1</td>\n",
              "      <td>1</td>\n",
              "    </tr>\n",
              "    <tr>\n",
              "      <th>3</th>\n",
              "      <td>1</td>\n",
              "      <td>0</td>\n",
              "      <td>1</td>\n",
              "      <td>1</td>\n",
              "      <td>1</td>\n",
              "    </tr>\n",
              "    <tr>\n",
              "      <th>4</th>\n",
              "      <td>1</td>\n",
              "      <td>0</td>\n",
              "      <td>1</td>\n",
              "      <td>1</td>\n",
              "      <td>1</td>\n",
              "    </tr>\n",
              "  </tbody>\n",
              "</table>\n",
              "</div>\n",
              "      <button class=\"colab-df-convert\" onclick=\"convertToInteractive('df-d7b6377b-4626-4431-aa8d-f04e92c2e66b')\"\n",
              "              title=\"Convert this dataframe to an interactive table.\"\n",
              "              style=\"display:none;\">\n",
              "        \n",
              "  <svg xmlns=\"http://www.w3.org/2000/svg\" height=\"24px\"viewBox=\"0 0 24 24\"\n",
              "       width=\"24px\">\n",
              "    <path d=\"M0 0h24v24H0V0z\" fill=\"none\"/>\n",
              "    <path d=\"M18.56 5.44l.94 2.06.94-2.06 2.06-.94-2.06-.94-.94-2.06-.94 2.06-2.06.94zm-11 1L8.5 8.5l.94-2.06 2.06-.94-2.06-.94L8.5 2.5l-.94 2.06-2.06.94zm10 10l.94 2.06.94-2.06 2.06-.94-2.06-.94-.94-2.06-.94 2.06-2.06.94z\"/><path d=\"M17.41 7.96l-1.37-1.37c-.4-.4-.92-.59-1.43-.59-.52 0-1.04.2-1.43.59L10.3 9.45l-7.72 7.72c-.78.78-.78 2.05 0 2.83L4 21.41c.39.39.9.59 1.41.59.51 0 1.02-.2 1.41-.59l7.78-7.78 2.81-2.81c.8-.78.8-2.07 0-2.86zM5.41 20L4 18.59l7.72-7.72 1.47 1.35L5.41 20z\"/>\n",
              "  </svg>\n",
              "      </button>\n",
              "      \n",
              "  <style>\n",
              "    .colab-df-container {\n",
              "      display:flex;\n",
              "      flex-wrap:wrap;\n",
              "      gap: 12px;\n",
              "    }\n",
              "\n",
              "    .colab-df-convert {\n",
              "      background-color: #E8F0FE;\n",
              "      border: none;\n",
              "      border-radius: 50%;\n",
              "      cursor: pointer;\n",
              "      display: none;\n",
              "      fill: #1967D2;\n",
              "      height: 32px;\n",
              "      padding: 0 0 0 0;\n",
              "      width: 32px;\n",
              "    }\n",
              "\n",
              "    .colab-df-convert:hover {\n",
              "      background-color: #E2EBFA;\n",
              "      box-shadow: 0px 1px 2px rgba(60, 64, 67, 0.3), 0px 1px 3px 1px rgba(60, 64, 67, 0.15);\n",
              "      fill: #174EA6;\n",
              "    }\n",
              "\n",
              "    [theme=dark] .colab-df-convert {\n",
              "      background-color: #3B4455;\n",
              "      fill: #D2E3FC;\n",
              "    }\n",
              "\n",
              "    [theme=dark] .colab-df-convert:hover {\n",
              "      background-color: #434B5C;\n",
              "      box-shadow: 0px 1px 3px 1px rgba(0, 0, 0, 0.15);\n",
              "      filter: drop-shadow(0px 1px 2px rgba(0, 0, 0, 0.3));\n",
              "      fill: #FFFFFF;\n",
              "    }\n",
              "  </style>\n",
              "\n",
              "      <script>\n",
              "        const buttonEl =\n",
              "          document.querySelector('#df-d7b6377b-4626-4431-aa8d-f04e92c2e66b button.colab-df-convert');\n",
              "        buttonEl.style.display =\n",
              "          google.colab.kernel.accessAllowed ? 'block' : 'none';\n",
              "\n",
              "        async function convertToInteractive(key) {\n",
              "          const element = document.querySelector('#df-d7b6377b-4626-4431-aa8d-f04e92c2e66b');\n",
              "          const dataTable =\n",
              "            await google.colab.kernel.invokeFunction('convertToInteractive',\n",
              "                                                     [key], {});\n",
              "          if (!dataTable) return;\n",
              "\n",
              "          const docLinkHtml = 'Like what you see? Visit the ' +\n",
              "            '<a target=\"_blank\" href=https://colab.research.google.com/notebooks/data_table.ipynb>data table notebook</a>'\n",
              "            + ' to learn more about interactive tables.';\n",
              "          element.innerHTML = '';\n",
              "          dataTable['output_type'] = 'display_data';\n",
              "          await google.colab.output.renderOutput(dataTable, element);\n",
              "          const docLink = document.createElement('div');\n",
              "          docLink.innerHTML = docLinkHtml;\n",
              "          element.appendChild(docLink);\n",
              "        }\n",
              "      </script>\n",
              "    </div>\n",
              "  </div>\n",
              "  "
            ],
            "text/plain": [
              "   Partner  Dependents  PhoneService  PaperlessBilling  Churn\n",
              "0        1           1             1                 1      0\n",
              "1        0           0             1                 0      0\n",
              "2        0           0             1                 1      1\n",
              "3        1           0             1                 1      1\n",
              "4        1           0             1                 1      1"
            ]
          },
          "execution_count": 275,
          "metadata": {},
          "output_type": "execute_result"
        }
      ]
    },
    {
      "cell_type": "code",
      "source": [
        "dummies_df = pd.get_dummies(df.drop(['Partner','Dependents','PhoneService','PaperlessBilling','Churn'], axis=1))\n",
        "dummies_df.head()"
      ],
      "metadata": {
        "id": "IJkfqSJXYieC",
        "colab": {
          "base_uri": "https://localhost:8080/",
          "height": 334
        },
        "outputId": "a3af0d83-73de-4f5c-df20-c9c469bb1c7f"
      },
      "id": "IJkfqSJXYieC",
      "execution_count": null,
      "outputs": [
        {
          "data": {
            "text/html": [
              "\n",
              "  <div id=\"df-6e6f3d81-0c6a-4e48-9e24-2eff63ca5b2a\">\n",
              "    <div class=\"colab-df-container\">\n",
              "      <div>\n",
              "<style scoped>\n",
              "    .dataframe tbody tr th:only-of-type {\n",
              "        vertical-align: middle;\n",
              "    }\n",
              "\n",
              "    .dataframe tbody tr th {\n",
              "        vertical-align: top;\n",
              "    }\n",
              "\n",
              "    .dataframe thead th {\n",
              "        text-align: right;\n",
              "    }\n",
              "</style>\n",
              "<table border=\"1\" class=\"dataframe\">\n",
              "  <thead>\n",
              "    <tr style=\"text-align: right;\">\n",
              "      <th></th>\n",
              "      <th>Tenure</th>\n",
              "      <th>ChargesDaily</th>\n",
              "      <th>ChargesMonthly</th>\n",
              "      <th>ChargesTotal</th>\n",
              "      <th>Contract_encoded</th>\n",
              "      <th>Gender_Female</th>\n",
              "      <th>Gender_Male</th>\n",
              "      <th>SeniorCitizen_No</th>\n",
              "      <th>SeniorCitizen_Yes</th>\n",
              "      <th>MultipleLines_No</th>\n",
              "      <th>MultipleLines_No phone service</th>\n",
              "      <th>...</th>\n",
              "      <th>TechSupport_Yes</th>\n",
              "      <th>StreamingTV_No</th>\n",
              "      <th>StreamingTV_No internet service</th>\n",
              "      <th>StreamingTV_Yes</th>\n",
              "      <th>StreamingMovies_No</th>\n",
              "      <th>StreamingMovies_No internet service</th>\n",
              "      <th>StreamingMovies_Yes</th>\n",
              "      <th>PaymentMethod_Bank transfer (automatic)</th>\n",
              "      <th>PaymentMethod_Credit card (automatic)</th>\n",
              "      <th>PaymentMethod_Electronic check</th>\n",
              "      <th>PaymentMethod_Mailed check</th>\n",
              "    </tr>\n",
              "  </thead>\n",
              "  <tbody>\n",
              "    <tr>\n",
              "      <th>0</th>\n",
              "      <td>9</td>\n",
              "      <td>2.19</td>\n",
              "      <td>65.6</td>\n",
              "      <td>593.30</td>\n",
              "      <td>1</td>\n",
              "      <td>1</td>\n",
              "      <td>0</td>\n",
              "      <td>1</td>\n",
              "      <td>0</td>\n",
              "      <td>1</td>\n",
              "      <td>0</td>\n",
              "      <td>...</td>\n",
              "      <td>1</td>\n",
              "      <td>0</td>\n",
              "      <td>0</td>\n",
              "      <td>1</td>\n",
              "      <td>1</td>\n",
              "      <td>0</td>\n",
              "      <td>0</td>\n",
              "      <td>0</td>\n",
              "      <td>0</td>\n",
              "      <td>0</td>\n",
              "      <td>1</td>\n",
              "    </tr>\n",
              "    <tr>\n",
              "      <th>1</th>\n",
              "      <td>9</td>\n",
              "      <td>2.00</td>\n",
              "      <td>59.9</td>\n",
              "      <td>542.40</td>\n",
              "      <td>0</td>\n",
              "      <td>0</td>\n",
              "      <td>1</td>\n",
              "      <td>1</td>\n",
              "      <td>0</td>\n",
              "      <td>0</td>\n",
              "      <td>0</td>\n",
              "      <td>...</td>\n",
              "      <td>0</td>\n",
              "      <td>1</td>\n",
              "      <td>0</td>\n",
              "      <td>0</td>\n",
              "      <td>0</td>\n",
              "      <td>0</td>\n",
              "      <td>1</td>\n",
              "      <td>0</td>\n",
              "      <td>0</td>\n",
              "      <td>0</td>\n",
              "      <td>1</td>\n",
              "    </tr>\n",
              "    <tr>\n",
              "      <th>2</th>\n",
              "      <td>4</td>\n",
              "      <td>2.46</td>\n",
              "      <td>73.9</td>\n",
              "      <td>280.85</td>\n",
              "      <td>0</td>\n",
              "      <td>0</td>\n",
              "      <td>1</td>\n",
              "      <td>1</td>\n",
              "      <td>0</td>\n",
              "      <td>1</td>\n",
              "      <td>0</td>\n",
              "      <td>...</td>\n",
              "      <td>0</td>\n",
              "      <td>1</td>\n",
              "      <td>0</td>\n",
              "      <td>0</td>\n",
              "      <td>1</td>\n",
              "      <td>0</td>\n",
              "      <td>0</td>\n",
              "      <td>0</td>\n",
              "      <td>0</td>\n",
              "      <td>1</td>\n",
              "      <td>0</td>\n",
              "    </tr>\n",
              "    <tr>\n",
              "      <th>3</th>\n",
              "      <td>13</td>\n",
              "      <td>3.27</td>\n",
              "      <td>98.0</td>\n",
              "      <td>1237.85</td>\n",
              "      <td>0</td>\n",
              "      <td>0</td>\n",
              "      <td>1</td>\n",
              "      <td>0</td>\n",
              "      <td>1</td>\n",
              "      <td>1</td>\n",
              "      <td>0</td>\n",
              "      <td>...</td>\n",
              "      <td>0</td>\n",
              "      <td>0</td>\n",
              "      <td>0</td>\n",
              "      <td>1</td>\n",
              "      <td>0</td>\n",
              "      <td>0</td>\n",
              "      <td>1</td>\n",
              "      <td>0</td>\n",
              "      <td>0</td>\n",
              "      <td>1</td>\n",
              "      <td>0</td>\n",
              "    </tr>\n",
              "    <tr>\n",
              "      <th>4</th>\n",
              "      <td>3</td>\n",
              "      <td>2.80</td>\n",
              "      <td>83.9</td>\n",
              "      <td>267.40</td>\n",
              "      <td>0</td>\n",
              "      <td>1</td>\n",
              "      <td>0</td>\n",
              "      <td>0</td>\n",
              "      <td>1</td>\n",
              "      <td>1</td>\n",
              "      <td>0</td>\n",
              "      <td>...</td>\n",
              "      <td>1</td>\n",
              "      <td>0</td>\n",
              "      <td>0</td>\n",
              "      <td>1</td>\n",
              "      <td>1</td>\n",
              "      <td>0</td>\n",
              "      <td>0</td>\n",
              "      <td>0</td>\n",
              "      <td>0</td>\n",
              "      <td>0</td>\n",
              "      <td>1</td>\n",
              "    </tr>\n",
              "  </tbody>\n",
              "</table>\n",
              "<p>5 rows × 37 columns</p>\n",
              "</div>\n",
              "      <button class=\"colab-df-convert\" onclick=\"convertToInteractive('df-6e6f3d81-0c6a-4e48-9e24-2eff63ca5b2a')\"\n",
              "              title=\"Convert this dataframe to an interactive table.\"\n",
              "              style=\"display:none;\">\n",
              "        \n",
              "  <svg xmlns=\"http://www.w3.org/2000/svg\" height=\"24px\"viewBox=\"0 0 24 24\"\n",
              "       width=\"24px\">\n",
              "    <path d=\"M0 0h24v24H0V0z\" fill=\"none\"/>\n",
              "    <path d=\"M18.56 5.44l.94 2.06.94-2.06 2.06-.94-2.06-.94-.94-2.06-.94 2.06-2.06.94zm-11 1L8.5 8.5l.94-2.06 2.06-.94-2.06-.94L8.5 2.5l-.94 2.06-2.06.94zm10 10l.94 2.06.94-2.06 2.06-.94-2.06-.94-.94-2.06-.94 2.06-2.06.94z\"/><path d=\"M17.41 7.96l-1.37-1.37c-.4-.4-.92-.59-1.43-.59-.52 0-1.04.2-1.43.59L10.3 9.45l-7.72 7.72c-.78.78-.78 2.05 0 2.83L4 21.41c.39.39.9.59 1.41.59.51 0 1.02-.2 1.41-.59l7.78-7.78 2.81-2.81c.8-.78.8-2.07 0-2.86zM5.41 20L4 18.59l7.72-7.72 1.47 1.35L5.41 20z\"/>\n",
              "  </svg>\n",
              "      </button>\n",
              "      \n",
              "  <style>\n",
              "    .colab-df-container {\n",
              "      display:flex;\n",
              "      flex-wrap:wrap;\n",
              "      gap: 12px;\n",
              "    }\n",
              "\n",
              "    .colab-df-convert {\n",
              "      background-color: #E8F0FE;\n",
              "      border: none;\n",
              "      border-radius: 50%;\n",
              "      cursor: pointer;\n",
              "      display: none;\n",
              "      fill: #1967D2;\n",
              "      height: 32px;\n",
              "      padding: 0 0 0 0;\n",
              "      width: 32px;\n",
              "    }\n",
              "\n",
              "    .colab-df-convert:hover {\n",
              "      background-color: #E2EBFA;\n",
              "      box-shadow: 0px 1px 2px rgba(60, 64, 67, 0.3), 0px 1px 3px 1px rgba(60, 64, 67, 0.15);\n",
              "      fill: #174EA6;\n",
              "    }\n",
              "\n",
              "    [theme=dark] .colab-df-convert {\n",
              "      background-color: #3B4455;\n",
              "      fill: #D2E3FC;\n",
              "    }\n",
              "\n",
              "    [theme=dark] .colab-df-convert:hover {\n",
              "      background-color: #434B5C;\n",
              "      box-shadow: 0px 1px 3px 1px rgba(0, 0, 0, 0.15);\n",
              "      filter: drop-shadow(0px 1px 2px rgba(0, 0, 0, 0.3));\n",
              "      fill: #FFFFFF;\n",
              "    }\n",
              "  </style>\n",
              "\n",
              "      <script>\n",
              "        const buttonEl =\n",
              "          document.querySelector('#df-6e6f3d81-0c6a-4e48-9e24-2eff63ca5b2a button.colab-df-convert');\n",
              "        buttonEl.style.display =\n",
              "          google.colab.kernel.accessAllowed ? 'block' : 'none';\n",
              "\n",
              "        async function convertToInteractive(key) {\n",
              "          const element = document.querySelector('#df-6e6f3d81-0c6a-4e48-9e24-2eff63ca5b2a');\n",
              "          const dataTable =\n",
              "            await google.colab.kernel.invokeFunction('convertToInteractive',\n",
              "                                                     [key], {});\n",
              "          if (!dataTable) return;\n",
              "\n",
              "          const docLinkHtml = 'Like what you see? Visit the ' +\n",
              "            '<a target=\"_blank\" href=https://colab.research.google.com/notebooks/data_table.ipynb>data table notebook</a>'\n",
              "            + ' to learn more about interactive tables.';\n",
              "          element.innerHTML = '';\n",
              "          dataTable['output_type'] = 'display_data';\n",
              "          await google.colab.output.renderOutput(dataTable, element);\n",
              "          const docLink = document.createElement('div');\n",
              "          docLink.innerHTML = docLinkHtml;\n",
              "          element.appendChild(docLink);\n",
              "        }\n",
              "      </script>\n",
              "    </div>\n",
              "  </div>\n",
              "  "
            ],
            "text/plain": [
              "   Tenure  ChargesDaily  ChargesMonthly  ChargesTotal  Contract_encoded  \\\n",
              "0       9          2.19            65.6        593.30                 1   \n",
              "1       9          2.00            59.9        542.40                 0   \n",
              "2       4          2.46            73.9        280.85                 0   \n",
              "3      13          3.27            98.0       1237.85                 0   \n",
              "4       3          2.80            83.9        267.40                 0   \n",
              "\n",
              "   Gender_Female  Gender_Male  SeniorCitizen_No  SeniorCitizen_Yes  \\\n",
              "0              1            0                 1                  0   \n",
              "1              0            1                 1                  0   \n",
              "2              0            1                 1                  0   \n",
              "3              0            1                 0                  1   \n",
              "4              1            0                 0                  1   \n",
              "\n",
              "   MultipleLines_No  MultipleLines_No phone service  ...  TechSupport_Yes  \\\n",
              "0                 1                               0  ...                1   \n",
              "1                 0                               0  ...                0   \n",
              "2                 1                               0  ...                0   \n",
              "3                 1                               0  ...                0   \n",
              "4                 1                               0  ...                1   \n",
              "\n",
              "   StreamingTV_No  StreamingTV_No internet service  StreamingTV_Yes  \\\n",
              "0               0                                0                1   \n",
              "1               1                                0                0   \n",
              "2               1                                0                0   \n",
              "3               0                                0                1   \n",
              "4               0                                0                1   \n",
              "\n",
              "   StreamingMovies_No  StreamingMovies_No internet service  \\\n",
              "0                   1                                    0   \n",
              "1                   0                                    0   \n",
              "2                   1                                    0   \n",
              "3                   0                                    0   \n",
              "4                   1                                    0   \n",
              "\n",
              "   StreamingMovies_Yes  PaymentMethod_Bank transfer (automatic)  \\\n",
              "0                    0                                        0   \n",
              "1                    1                                        0   \n",
              "2                    0                                        0   \n",
              "3                    1                                        0   \n",
              "4                    0                                        0   \n",
              "\n",
              "   PaymentMethod_Credit card (automatic)  PaymentMethod_Electronic check  \\\n",
              "0                                      0                               0   \n",
              "1                                      0                               0   \n",
              "2                                      0                               1   \n",
              "3                                      0                               1   \n",
              "4                                      0                               0   \n",
              "\n",
              "   PaymentMethod_Mailed check  \n",
              "0                           1  \n",
              "1                           1  \n",
              "2                           0  \n",
              "3                           0  \n",
              "4                           1  \n",
              "\n",
              "[5 rows x 37 columns]"
            ]
          },
          "execution_count": 276,
          "metadata": {},
          "output_type": "execute_result"
        }
      ]
    },
    {
      "cell_type": "code",
      "source": [
        "df_final = pd.concat([df_modify,dummies_df], axis=1)\n",
        "df_final.head()"
      ],
      "metadata": {
        "colab": {
          "base_uri": "https://localhost:8080/",
          "height": 334
        },
        "id": "yiNctjYgYigy",
        "outputId": "dab97a9e-6c6f-4942-8012-449e0c27faa4"
      },
      "id": "yiNctjYgYigy",
      "execution_count": null,
      "outputs": [
        {
          "data": {
            "text/html": [
              "\n",
              "  <div id=\"df-5a5a916a-1ad5-4ee7-baf3-2fd1fefb60c9\">\n",
              "    <div class=\"colab-df-container\">\n",
              "      <div>\n",
              "<style scoped>\n",
              "    .dataframe tbody tr th:only-of-type {\n",
              "        vertical-align: middle;\n",
              "    }\n",
              "\n",
              "    .dataframe tbody tr th {\n",
              "        vertical-align: top;\n",
              "    }\n",
              "\n",
              "    .dataframe thead th {\n",
              "        text-align: right;\n",
              "    }\n",
              "</style>\n",
              "<table border=\"1\" class=\"dataframe\">\n",
              "  <thead>\n",
              "    <tr style=\"text-align: right;\">\n",
              "      <th></th>\n",
              "      <th>Partner</th>\n",
              "      <th>Dependents</th>\n",
              "      <th>PhoneService</th>\n",
              "      <th>PaperlessBilling</th>\n",
              "      <th>Churn</th>\n",
              "      <th>Tenure</th>\n",
              "      <th>ChargesDaily</th>\n",
              "      <th>ChargesMonthly</th>\n",
              "      <th>ChargesTotal</th>\n",
              "      <th>Contract_encoded</th>\n",
              "      <th>Gender_Female</th>\n",
              "      <th>...</th>\n",
              "      <th>TechSupport_Yes</th>\n",
              "      <th>StreamingTV_No</th>\n",
              "      <th>StreamingTV_No internet service</th>\n",
              "      <th>StreamingTV_Yes</th>\n",
              "      <th>StreamingMovies_No</th>\n",
              "      <th>StreamingMovies_No internet service</th>\n",
              "      <th>StreamingMovies_Yes</th>\n",
              "      <th>PaymentMethod_Bank transfer (automatic)</th>\n",
              "      <th>PaymentMethod_Credit card (automatic)</th>\n",
              "      <th>PaymentMethod_Electronic check</th>\n",
              "      <th>PaymentMethod_Mailed check</th>\n",
              "    </tr>\n",
              "  </thead>\n",
              "  <tbody>\n",
              "    <tr>\n",
              "      <th>0</th>\n",
              "      <td>1</td>\n",
              "      <td>1</td>\n",
              "      <td>1</td>\n",
              "      <td>1</td>\n",
              "      <td>0</td>\n",
              "      <td>9</td>\n",
              "      <td>2.19</td>\n",
              "      <td>65.6</td>\n",
              "      <td>593.30</td>\n",
              "      <td>1</td>\n",
              "      <td>1</td>\n",
              "      <td>...</td>\n",
              "      <td>1</td>\n",
              "      <td>0</td>\n",
              "      <td>0</td>\n",
              "      <td>1</td>\n",
              "      <td>1</td>\n",
              "      <td>0</td>\n",
              "      <td>0</td>\n",
              "      <td>0</td>\n",
              "      <td>0</td>\n",
              "      <td>0</td>\n",
              "      <td>1</td>\n",
              "    </tr>\n",
              "    <tr>\n",
              "      <th>1</th>\n",
              "      <td>0</td>\n",
              "      <td>0</td>\n",
              "      <td>1</td>\n",
              "      <td>0</td>\n",
              "      <td>0</td>\n",
              "      <td>9</td>\n",
              "      <td>2.00</td>\n",
              "      <td>59.9</td>\n",
              "      <td>542.40</td>\n",
              "      <td>0</td>\n",
              "      <td>0</td>\n",
              "      <td>...</td>\n",
              "      <td>0</td>\n",
              "      <td>1</td>\n",
              "      <td>0</td>\n",
              "      <td>0</td>\n",
              "      <td>0</td>\n",
              "      <td>0</td>\n",
              "      <td>1</td>\n",
              "      <td>0</td>\n",
              "      <td>0</td>\n",
              "      <td>0</td>\n",
              "      <td>1</td>\n",
              "    </tr>\n",
              "    <tr>\n",
              "      <th>2</th>\n",
              "      <td>0</td>\n",
              "      <td>0</td>\n",
              "      <td>1</td>\n",
              "      <td>1</td>\n",
              "      <td>1</td>\n",
              "      <td>4</td>\n",
              "      <td>2.46</td>\n",
              "      <td>73.9</td>\n",
              "      <td>280.85</td>\n",
              "      <td>0</td>\n",
              "      <td>0</td>\n",
              "      <td>...</td>\n",
              "      <td>0</td>\n",
              "      <td>1</td>\n",
              "      <td>0</td>\n",
              "      <td>0</td>\n",
              "      <td>1</td>\n",
              "      <td>0</td>\n",
              "      <td>0</td>\n",
              "      <td>0</td>\n",
              "      <td>0</td>\n",
              "      <td>1</td>\n",
              "      <td>0</td>\n",
              "    </tr>\n",
              "    <tr>\n",
              "      <th>3</th>\n",
              "      <td>1</td>\n",
              "      <td>0</td>\n",
              "      <td>1</td>\n",
              "      <td>1</td>\n",
              "      <td>1</td>\n",
              "      <td>13</td>\n",
              "      <td>3.27</td>\n",
              "      <td>98.0</td>\n",
              "      <td>1237.85</td>\n",
              "      <td>0</td>\n",
              "      <td>0</td>\n",
              "      <td>...</td>\n",
              "      <td>0</td>\n",
              "      <td>0</td>\n",
              "      <td>0</td>\n",
              "      <td>1</td>\n",
              "      <td>0</td>\n",
              "      <td>0</td>\n",
              "      <td>1</td>\n",
              "      <td>0</td>\n",
              "      <td>0</td>\n",
              "      <td>1</td>\n",
              "      <td>0</td>\n",
              "    </tr>\n",
              "    <tr>\n",
              "      <th>4</th>\n",
              "      <td>1</td>\n",
              "      <td>0</td>\n",
              "      <td>1</td>\n",
              "      <td>1</td>\n",
              "      <td>1</td>\n",
              "      <td>3</td>\n",
              "      <td>2.80</td>\n",
              "      <td>83.9</td>\n",
              "      <td>267.40</td>\n",
              "      <td>0</td>\n",
              "      <td>1</td>\n",
              "      <td>...</td>\n",
              "      <td>1</td>\n",
              "      <td>0</td>\n",
              "      <td>0</td>\n",
              "      <td>1</td>\n",
              "      <td>1</td>\n",
              "      <td>0</td>\n",
              "      <td>0</td>\n",
              "      <td>0</td>\n",
              "      <td>0</td>\n",
              "      <td>0</td>\n",
              "      <td>1</td>\n",
              "    </tr>\n",
              "  </tbody>\n",
              "</table>\n",
              "<p>5 rows × 42 columns</p>\n",
              "</div>\n",
              "      <button class=\"colab-df-convert\" onclick=\"convertToInteractive('df-5a5a916a-1ad5-4ee7-baf3-2fd1fefb60c9')\"\n",
              "              title=\"Convert this dataframe to an interactive table.\"\n",
              "              style=\"display:none;\">\n",
              "        \n",
              "  <svg xmlns=\"http://www.w3.org/2000/svg\" height=\"24px\"viewBox=\"0 0 24 24\"\n",
              "       width=\"24px\">\n",
              "    <path d=\"M0 0h24v24H0V0z\" fill=\"none\"/>\n",
              "    <path d=\"M18.56 5.44l.94 2.06.94-2.06 2.06-.94-2.06-.94-.94-2.06-.94 2.06-2.06.94zm-11 1L8.5 8.5l.94-2.06 2.06-.94-2.06-.94L8.5 2.5l-.94 2.06-2.06.94zm10 10l.94 2.06.94-2.06 2.06-.94-2.06-.94-.94-2.06-.94 2.06-2.06.94z\"/><path d=\"M17.41 7.96l-1.37-1.37c-.4-.4-.92-.59-1.43-.59-.52 0-1.04.2-1.43.59L10.3 9.45l-7.72 7.72c-.78.78-.78 2.05 0 2.83L4 21.41c.39.39.9.59 1.41.59.51 0 1.02-.2 1.41-.59l7.78-7.78 2.81-2.81c.8-.78.8-2.07 0-2.86zM5.41 20L4 18.59l7.72-7.72 1.47 1.35L5.41 20z\"/>\n",
              "  </svg>\n",
              "      </button>\n",
              "      \n",
              "  <style>\n",
              "    .colab-df-container {\n",
              "      display:flex;\n",
              "      flex-wrap:wrap;\n",
              "      gap: 12px;\n",
              "    }\n",
              "\n",
              "    .colab-df-convert {\n",
              "      background-color: #E8F0FE;\n",
              "      border: none;\n",
              "      border-radius: 50%;\n",
              "      cursor: pointer;\n",
              "      display: none;\n",
              "      fill: #1967D2;\n",
              "      height: 32px;\n",
              "      padding: 0 0 0 0;\n",
              "      width: 32px;\n",
              "    }\n",
              "\n",
              "    .colab-df-convert:hover {\n",
              "      background-color: #E2EBFA;\n",
              "      box-shadow: 0px 1px 2px rgba(60, 64, 67, 0.3), 0px 1px 3px 1px rgba(60, 64, 67, 0.15);\n",
              "      fill: #174EA6;\n",
              "    }\n",
              "\n",
              "    [theme=dark] .colab-df-convert {\n",
              "      background-color: #3B4455;\n",
              "      fill: #D2E3FC;\n",
              "    }\n",
              "\n",
              "    [theme=dark] .colab-df-convert:hover {\n",
              "      background-color: #434B5C;\n",
              "      box-shadow: 0px 1px 3px 1px rgba(0, 0, 0, 0.15);\n",
              "      filter: drop-shadow(0px 1px 2px rgba(0, 0, 0, 0.3));\n",
              "      fill: #FFFFFF;\n",
              "    }\n",
              "  </style>\n",
              "\n",
              "      <script>\n",
              "        const buttonEl =\n",
              "          document.querySelector('#df-5a5a916a-1ad5-4ee7-baf3-2fd1fefb60c9 button.colab-df-convert');\n",
              "        buttonEl.style.display =\n",
              "          google.colab.kernel.accessAllowed ? 'block' : 'none';\n",
              "\n",
              "        async function convertToInteractive(key) {\n",
              "          const element = document.querySelector('#df-5a5a916a-1ad5-4ee7-baf3-2fd1fefb60c9');\n",
              "          const dataTable =\n",
              "            await google.colab.kernel.invokeFunction('convertToInteractive',\n",
              "                                                     [key], {});\n",
              "          if (!dataTable) return;\n",
              "\n",
              "          const docLinkHtml = 'Like what you see? Visit the ' +\n",
              "            '<a target=\"_blank\" href=https://colab.research.google.com/notebooks/data_table.ipynb>data table notebook</a>'\n",
              "            + ' to learn more about interactive tables.';\n",
              "          element.innerHTML = '';\n",
              "          dataTable['output_type'] = 'display_data';\n",
              "          await google.colab.output.renderOutput(dataTable, element);\n",
              "          const docLink = document.createElement('div');\n",
              "          docLink.innerHTML = docLinkHtml;\n",
              "          element.appendChild(docLink);\n",
              "        }\n",
              "      </script>\n",
              "    </div>\n",
              "  </div>\n",
              "  "
            ],
            "text/plain": [
              "   Partner  Dependents  PhoneService  PaperlessBilling  Churn  Tenure  \\\n",
              "0        1           1             1                 1      0       9   \n",
              "1        0           0             1                 0      0       9   \n",
              "2        0           0             1                 1      1       4   \n",
              "3        1           0             1                 1      1      13   \n",
              "4        1           0             1                 1      1       3   \n",
              "\n",
              "   ChargesDaily  ChargesMonthly  ChargesTotal  Contract_encoded  \\\n",
              "0          2.19            65.6        593.30                 1   \n",
              "1          2.00            59.9        542.40                 0   \n",
              "2          2.46            73.9        280.85                 0   \n",
              "3          3.27            98.0       1237.85                 0   \n",
              "4          2.80            83.9        267.40                 0   \n",
              "\n",
              "   Gender_Female  ...  TechSupport_Yes  StreamingTV_No  \\\n",
              "0              1  ...                1               0   \n",
              "1              0  ...                0               1   \n",
              "2              0  ...                0               1   \n",
              "3              0  ...                0               0   \n",
              "4              1  ...                1               0   \n",
              "\n",
              "   StreamingTV_No internet service  StreamingTV_Yes  StreamingMovies_No  \\\n",
              "0                                0                1                   1   \n",
              "1                                0                0                   0   \n",
              "2                                0                0                   1   \n",
              "3                                0                1                   0   \n",
              "4                                0                1                   1   \n",
              "\n",
              "   StreamingMovies_No internet service  StreamingMovies_Yes  \\\n",
              "0                                    0                    0   \n",
              "1                                    0                    1   \n",
              "2                                    0                    0   \n",
              "3                                    0                    1   \n",
              "4                                    0                    0   \n",
              "\n",
              "   PaymentMethod_Bank transfer (automatic)  \\\n",
              "0                                        0   \n",
              "1                                        0   \n",
              "2                                        0   \n",
              "3                                        0   \n",
              "4                                        0   \n",
              "\n",
              "   PaymentMethod_Credit card (automatic)  PaymentMethod_Electronic check  \\\n",
              "0                                      0                               0   \n",
              "1                                      0                               0   \n",
              "2                                      0                               1   \n",
              "3                                      0                               1   \n",
              "4                                      0                               0   \n",
              "\n",
              "   PaymentMethod_Mailed check  \n",
              "0                           1  \n",
              "1                           1  \n",
              "2                           0  \n",
              "3                           0  \n",
              "4                           1  \n",
              "\n",
              "[5 rows x 42 columns]"
            ]
          },
          "execution_count": 277,
          "metadata": {},
          "output_type": "execute_result"
        }
      ]
    },
    {
      "cell_type": "markdown",
      "source": [
        "For balance Churn we'll use **oversampling** technique, which is randomly duplicate the minority class until equalize, that's avoid Bias on majority class"
      ],
      "metadata": {
        "id": "-cwiChwwpg8I"
      },
      "id": "-cwiChwwpg8I"
    },
    {
      "cell_type": "code",
      "source": [
        "df_final['Churn'].value_counts()"
      ],
      "metadata": {
        "id": "guD131U7YijS",
        "colab": {
          "base_uri": "https://localhost:8080/"
        },
        "outputId": "00892a5e-ee28-45de-e7b8-0fc9fef767b1"
      },
      "id": "guD131U7YijS",
      "execution_count": null,
      "outputs": [
        {
          "data": {
            "text/plain": [
              "0    5174\n",
              "1    1869\n",
              "Name: Churn, dtype: int64"
            ]
          },
          "execution_count": 278,
          "metadata": {},
          "output_type": "execute_result"
        }
      ]
    },
    {
      "cell_type": "code",
      "source": [
        "x = df_final.drop('Churn', axis=1)\n",
        "y = df_final['Churn']\n",
        "from imblearn.over_sampling import SMOTE\n",
        "SEED=42\n",
        "smt = SMOTE(random_state=SEED)  \n",
        "x, y = smt.fit_resample(x, y)\n",
        "df_ready = pd.concat([x,y], axis=1)\n",
        "df_ready.head()"
      ],
      "metadata": {
        "id": "CBQe-FLSYiln",
        "colab": {
          "base_uri": "https://localhost:8080/",
          "height": 334
        },
        "outputId": "e19bc7c1-03f9-44d7-ae7c-997d9fa12c07"
      },
      "id": "CBQe-FLSYiln",
      "execution_count": null,
      "outputs": [
        {
          "data": {
            "text/html": [
              "\n",
              "  <div id=\"df-183c0a26-991c-4247-84c6-587b163fea5d\">\n",
              "    <div class=\"colab-df-container\">\n",
              "      <div>\n",
              "<style scoped>\n",
              "    .dataframe tbody tr th:only-of-type {\n",
              "        vertical-align: middle;\n",
              "    }\n",
              "\n",
              "    .dataframe tbody tr th {\n",
              "        vertical-align: top;\n",
              "    }\n",
              "\n",
              "    .dataframe thead th {\n",
              "        text-align: right;\n",
              "    }\n",
              "</style>\n",
              "<table border=\"1\" class=\"dataframe\">\n",
              "  <thead>\n",
              "    <tr style=\"text-align: right;\">\n",
              "      <th></th>\n",
              "      <th>Partner</th>\n",
              "      <th>Dependents</th>\n",
              "      <th>PhoneService</th>\n",
              "      <th>PaperlessBilling</th>\n",
              "      <th>Tenure</th>\n",
              "      <th>ChargesDaily</th>\n",
              "      <th>ChargesMonthly</th>\n",
              "      <th>ChargesTotal</th>\n",
              "      <th>Contract_encoded</th>\n",
              "      <th>Gender_Female</th>\n",
              "      <th>Gender_Male</th>\n",
              "      <th>...</th>\n",
              "      <th>StreamingTV_No</th>\n",
              "      <th>StreamingTV_No internet service</th>\n",
              "      <th>StreamingTV_Yes</th>\n",
              "      <th>StreamingMovies_No</th>\n",
              "      <th>StreamingMovies_No internet service</th>\n",
              "      <th>StreamingMovies_Yes</th>\n",
              "      <th>PaymentMethod_Bank transfer (automatic)</th>\n",
              "      <th>PaymentMethod_Credit card (automatic)</th>\n",
              "      <th>PaymentMethod_Electronic check</th>\n",
              "      <th>PaymentMethod_Mailed check</th>\n",
              "      <th>Churn</th>\n",
              "    </tr>\n",
              "  </thead>\n",
              "  <tbody>\n",
              "    <tr>\n",
              "      <th>0</th>\n",
              "      <td>1</td>\n",
              "      <td>1</td>\n",
              "      <td>1</td>\n",
              "      <td>1</td>\n",
              "      <td>9</td>\n",
              "      <td>2.19</td>\n",
              "      <td>65.6</td>\n",
              "      <td>593.30</td>\n",
              "      <td>1</td>\n",
              "      <td>1</td>\n",
              "      <td>0</td>\n",
              "      <td>...</td>\n",
              "      <td>0</td>\n",
              "      <td>0</td>\n",
              "      <td>1</td>\n",
              "      <td>1</td>\n",
              "      <td>0</td>\n",
              "      <td>0</td>\n",
              "      <td>0</td>\n",
              "      <td>0</td>\n",
              "      <td>0</td>\n",
              "      <td>1</td>\n",
              "      <td>0</td>\n",
              "    </tr>\n",
              "    <tr>\n",
              "      <th>1</th>\n",
              "      <td>0</td>\n",
              "      <td>0</td>\n",
              "      <td>1</td>\n",
              "      <td>0</td>\n",
              "      <td>9</td>\n",
              "      <td>2.00</td>\n",
              "      <td>59.9</td>\n",
              "      <td>542.40</td>\n",
              "      <td>0</td>\n",
              "      <td>0</td>\n",
              "      <td>1</td>\n",
              "      <td>...</td>\n",
              "      <td>1</td>\n",
              "      <td>0</td>\n",
              "      <td>0</td>\n",
              "      <td>0</td>\n",
              "      <td>0</td>\n",
              "      <td>1</td>\n",
              "      <td>0</td>\n",
              "      <td>0</td>\n",
              "      <td>0</td>\n",
              "      <td>1</td>\n",
              "      <td>0</td>\n",
              "    </tr>\n",
              "    <tr>\n",
              "      <th>2</th>\n",
              "      <td>0</td>\n",
              "      <td>0</td>\n",
              "      <td>1</td>\n",
              "      <td>1</td>\n",
              "      <td>4</td>\n",
              "      <td>2.46</td>\n",
              "      <td>73.9</td>\n",
              "      <td>280.85</td>\n",
              "      <td>0</td>\n",
              "      <td>0</td>\n",
              "      <td>1</td>\n",
              "      <td>...</td>\n",
              "      <td>1</td>\n",
              "      <td>0</td>\n",
              "      <td>0</td>\n",
              "      <td>1</td>\n",
              "      <td>0</td>\n",
              "      <td>0</td>\n",
              "      <td>0</td>\n",
              "      <td>0</td>\n",
              "      <td>1</td>\n",
              "      <td>0</td>\n",
              "      <td>1</td>\n",
              "    </tr>\n",
              "    <tr>\n",
              "      <th>3</th>\n",
              "      <td>1</td>\n",
              "      <td>0</td>\n",
              "      <td>1</td>\n",
              "      <td>1</td>\n",
              "      <td>13</td>\n",
              "      <td>3.27</td>\n",
              "      <td>98.0</td>\n",
              "      <td>1237.85</td>\n",
              "      <td>0</td>\n",
              "      <td>0</td>\n",
              "      <td>1</td>\n",
              "      <td>...</td>\n",
              "      <td>0</td>\n",
              "      <td>0</td>\n",
              "      <td>1</td>\n",
              "      <td>0</td>\n",
              "      <td>0</td>\n",
              "      <td>1</td>\n",
              "      <td>0</td>\n",
              "      <td>0</td>\n",
              "      <td>1</td>\n",
              "      <td>0</td>\n",
              "      <td>1</td>\n",
              "    </tr>\n",
              "    <tr>\n",
              "      <th>4</th>\n",
              "      <td>1</td>\n",
              "      <td>0</td>\n",
              "      <td>1</td>\n",
              "      <td>1</td>\n",
              "      <td>3</td>\n",
              "      <td>2.80</td>\n",
              "      <td>83.9</td>\n",
              "      <td>267.40</td>\n",
              "      <td>0</td>\n",
              "      <td>1</td>\n",
              "      <td>0</td>\n",
              "      <td>...</td>\n",
              "      <td>0</td>\n",
              "      <td>0</td>\n",
              "      <td>1</td>\n",
              "      <td>1</td>\n",
              "      <td>0</td>\n",
              "      <td>0</td>\n",
              "      <td>0</td>\n",
              "      <td>0</td>\n",
              "      <td>0</td>\n",
              "      <td>1</td>\n",
              "      <td>1</td>\n",
              "    </tr>\n",
              "  </tbody>\n",
              "</table>\n",
              "<p>5 rows × 42 columns</p>\n",
              "</div>\n",
              "      <button class=\"colab-df-convert\" onclick=\"convertToInteractive('df-183c0a26-991c-4247-84c6-587b163fea5d')\"\n",
              "              title=\"Convert this dataframe to an interactive table.\"\n",
              "              style=\"display:none;\">\n",
              "        \n",
              "  <svg xmlns=\"http://www.w3.org/2000/svg\" height=\"24px\"viewBox=\"0 0 24 24\"\n",
              "       width=\"24px\">\n",
              "    <path d=\"M0 0h24v24H0V0z\" fill=\"none\"/>\n",
              "    <path d=\"M18.56 5.44l.94 2.06.94-2.06 2.06-.94-2.06-.94-.94-2.06-.94 2.06-2.06.94zm-11 1L8.5 8.5l.94-2.06 2.06-.94-2.06-.94L8.5 2.5l-.94 2.06-2.06.94zm10 10l.94 2.06.94-2.06 2.06-.94-2.06-.94-.94-2.06-.94 2.06-2.06.94z\"/><path d=\"M17.41 7.96l-1.37-1.37c-.4-.4-.92-.59-1.43-.59-.52 0-1.04.2-1.43.59L10.3 9.45l-7.72 7.72c-.78.78-.78 2.05 0 2.83L4 21.41c.39.39.9.59 1.41.59.51 0 1.02-.2 1.41-.59l7.78-7.78 2.81-2.81c.8-.78.8-2.07 0-2.86zM5.41 20L4 18.59l7.72-7.72 1.47 1.35L5.41 20z\"/>\n",
              "  </svg>\n",
              "      </button>\n",
              "      \n",
              "  <style>\n",
              "    .colab-df-container {\n",
              "      display:flex;\n",
              "      flex-wrap:wrap;\n",
              "      gap: 12px;\n",
              "    }\n",
              "\n",
              "    .colab-df-convert {\n",
              "      background-color: #E8F0FE;\n",
              "      border: none;\n",
              "      border-radius: 50%;\n",
              "      cursor: pointer;\n",
              "      display: none;\n",
              "      fill: #1967D2;\n",
              "      height: 32px;\n",
              "      padding: 0 0 0 0;\n",
              "      width: 32px;\n",
              "    }\n",
              "\n",
              "    .colab-df-convert:hover {\n",
              "      background-color: #E2EBFA;\n",
              "      box-shadow: 0px 1px 2px rgba(60, 64, 67, 0.3), 0px 1px 3px 1px rgba(60, 64, 67, 0.15);\n",
              "      fill: #174EA6;\n",
              "    }\n",
              "\n",
              "    [theme=dark] .colab-df-convert {\n",
              "      background-color: #3B4455;\n",
              "      fill: #D2E3FC;\n",
              "    }\n",
              "\n",
              "    [theme=dark] .colab-df-convert:hover {\n",
              "      background-color: #434B5C;\n",
              "      box-shadow: 0px 1px 3px 1px rgba(0, 0, 0, 0.15);\n",
              "      filter: drop-shadow(0px 1px 2px rgba(0, 0, 0, 0.3));\n",
              "      fill: #FFFFFF;\n",
              "    }\n",
              "  </style>\n",
              "\n",
              "      <script>\n",
              "        const buttonEl =\n",
              "          document.querySelector('#df-183c0a26-991c-4247-84c6-587b163fea5d button.colab-df-convert');\n",
              "        buttonEl.style.display =\n",
              "          google.colab.kernel.accessAllowed ? 'block' : 'none';\n",
              "\n",
              "        async function convertToInteractive(key) {\n",
              "          const element = document.querySelector('#df-183c0a26-991c-4247-84c6-587b163fea5d');\n",
              "          const dataTable =\n",
              "            await google.colab.kernel.invokeFunction('convertToInteractive',\n",
              "                                                     [key], {});\n",
              "          if (!dataTable) return;\n",
              "\n",
              "          const docLinkHtml = 'Like what you see? Visit the ' +\n",
              "            '<a target=\"_blank\" href=https://colab.research.google.com/notebooks/data_table.ipynb>data table notebook</a>'\n",
              "            + ' to learn more about interactive tables.';\n",
              "          element.innerHTML = '';\n",
              "          dataTable['output_type'] = 'display_data';\n",
              "          await google.colab.output.renderOutput(dataTable, element);\n",
              "          const docLink = document.createElement('div');\n",
              "          docLink.innerHTML = docLinkHtml;\n",
              "          element.appendChild(docLink);\n",
              "        }\n",
              "      </script>\n",
              "    </div>\n",
              "  </div>\n",
              "  "
            ],
            "text/plain": [
              "   Partner  Dependents  PhoneService  PaperlessBilling  Tenure  ChargesDaily  \\\n",
              "0        1           1             1                 1       9          2.19   \n",
              "1        0           0             1                 0       9          2.00   \n",
              "2        0           0             1                 1       4          2.46   \n",
              "3        1           0             1                 1      13          3.27   \n",
              "4        1           0             1                 1       3          2.80   \n",
              "\n",
              "   ChargesMonthly  ChargesTotal  Contract_encoded  Gender_Female  Gender_Male  \\\n",
              "0            65.6        593.30                 1              1            0   \n",
              "1            59.9        542.40                 0              0            1   \n",
              "2            73.9        280.85                 0              0            1   \n",
              "3            98.0       1237.85                 0              0            1   \n",
              "4            83.9        267.40                 0              1            0   \n",
              "\n",
              "   ...  StreamingTV_No  StreamingTV_No internet service  StreamingTV_Yes  \\\n",
              "0  ...               0                                0                1   \n",
              "1  ...               1                                0                0   \n",
              "2  ...               1                                0                0   \n",
              "3  ...               0                                0                1   \n",
              "4  ...               0                                0                1   \n",
              "\n",
              "   StreamingMovies_No  StreamingMovies_No internet service  \\\n",
              "0                   1                                    0   \n",
              "1                   0                                    0   \n",
              "2                   1                                    0   \n",
              "3                   0                                    0   \n",
              "4                   1                                    0   \n",
              "\n",
              "   StreamingMovies_Yes  PaymentMethod_Bank transfer (automatic)  \\\n",
              "0                    0                                        0   \n",
              "1                    1                                        0   \n",
              "2                    0                                        0   \n",
              "3                    1                                        0   \n",
              "4                    0                                        0   \n",
              "\n",
              "   PaymentMethod_Credit card (automatic)  PaymentMethod_Electronic check  \\\n",
              "0                                      0                               0   \n",
              "1                                      0                               0   \n",
              "2                                      0                               1   \n",
              "3                                      0                               1   \n",
              "4                                      0                               0   \n",
              "\n",
              "   PaymentMethod_Mailed check  Churn  \n",
              "0                           1      0  \n",
              "1                           1      0  \n",
              "2                           0      1  \n",
              "3                           0      1  \n",
              "4                           1      1  \n",
              "\n",
              "[5 rows x 42 columns]"
            ]
          },
          "execution_count": 279,
          "metadata": {},
          "output_type": "execute_result"
        }
      ]
    },
    {
      "cell_type": "code",
      "source": [
        "df_ready['Churn'].value_counts()"
      ],
      "metadata": {
        "colab": {
          "base_uri": "https://localhost:8080/"
        },
        "id": "IUUgyN6ALKvA",
        "outputId": "08f3dceb-4937-4b04-be0a-a1c4fda0639c"
      },
      "id": "IUUgyN6ALKvA",
      "execution_count": null,
      "outputs": [
        {
          "data": {
            "text/plain": [
              "0    5174\n",
              "1    5174\n",
              "Name: Churn, dtype: int64"
            ]
          },
          "execution_count": 280,
          "metadata": {},
          "output_type": "execute_result"
        }
      ]
    },
    {
      "cell_type": "markdown",
      "source": [
        "Data is encoded and balanced, but it's important to mentioned one-hot encoding leads to the problem known as multicollinearity. Multicollinearity occurs where there is a dependency between the independent features. That's a problem when it comes to use Linear and Logistic Regressions models.\n",
        "\n",
        "One technique to identify Multicollinearity is Variance Inflation Factor (VIF)"
      ],
      "metadata": {
        "id": "Bt2OFlPA5VlB"
      },
      "id": "Bt2OFlPA5VlB"
    },
    {
      "cell_type": "code",
      "source": [
        "df_ready.info()"
      ],
      "metadata": {
        "colab": {
          "base_uri": "https://localhost:8080/"
        },
        "id": "W1uPQZAr5TY5",
        "outputId": "f607522b-0461-4bd6-bc9b-6b6f405fe61c"
      },
      "id": "W1uPQZAr5TY5",
      "execution_count": null,
      "outputs": [
        {
          "metadata": {
            "tags": null
          },
          "name": "stdout",
          "output_type": "stream",
          "text": [
            "<class 'pandas.core.frame.DataFrame'>\n",
            "RangeIndex: 10348 entries, 0 to 10347\n",
            "Data columns (total 42 columns):\n",
            " #   Column                                   Non-Null Count  Dtype  \n",
            "---  ------                                   --------------  -----  \n",
            " 0   Partner                                  10348 non-null  int64  \n",
            " 1   Dependents                               10348 non-null  int64  \n",
            " 2   PhoneService                             10348 non-null  int64  \n",
            " 3   PaperlessBilling                         10348 non-null  int64  \n",
            " 4   Tenure                                   10348 non-null  int64  \n",
            " 5   ChargesDaily                             10348 non-null  float64\n",
            " 6   ChargesMonthly                           10348 non-null  float64\n",
            " 7   ChargesTotal                             10348 non-null  float64\n",
            " 8   Contract_encoded                         10348 non-null  int64  \n",
            " 9   Gender_Female                            10348 non-null  uint8  \n",
            " 10  Gender_Male                              10348 non-null  uint8  \n",
            " 11  SeniorCitizen_No                         10348 non-null  uint8  \n",
            " 12  SeniorCitizen_Yes                        10348 non-null  uint8  \n",
            " 13  MultipleLines_No                         10348 non-null  uint8  \n",
            " 14  MultipleLines_No phone service           10348 non-null  uint8  \n",
            " 15  MultipleLines_Yes                        10348 non-null  uint8  \n",
            " 16  InternetService_DSL                      10348 non-null  uint8  \n",
            " 17  InternetService_Fiber optic              10348 non-null  uint8  \n",
            " 18  InternetService_No                       10348 non-null  uint8  \n",
            " 19  OnlineSecurity_No                        10348 non-null  uint8  \n",
            " 20  OnlineSecurity_No internet service       10348 non-null  uint8  \n",
            " 21  OnlineSecurity_Yes                       10348 non-null  uint8  \n",
            " 22  OnlineBackup_No                          10348 non-null  uint8  \n",
            " 23  OnlineBackup_No internet service         10348 non-null  uint8  \n",
            " 24  OnlineBackup_Yes                         10348 non-null  uint8  \n",
            " 25  DeviceProtection_No                      10348 non-null  uint8  \n",
            " 26  DeviceProtection_No internet service     10348 non-null  uint8  \n",
            " 27  DeviceProtection_Yes                     10348 non-null  uint8  \n",
            " 28  TechSupport_No                           10348 non-null  uint8  \n",
            " 29  TechSupport_No internet service          10348 non-null  uint8  \n",
            " 30  TechSupport_Yes                          10348 non-null  uint8  \n",
            " 31  StreamingTV_No                           10348 non-null  uint8  \n",
            " 32  StreamingTV_No internet service          10348 non-null  uint8  \n",
            " 33  StreamingTV_Yes                          10348 non-null  uint8  \n",
            " 34  StreamingMovies_No                       10348 non-null  uint8  \n",
            " 35  StreamingMovies_No internet service      10348 non-null  uint8  \n",
            " 36  StreamingMovies_Yes                      10348 non-null  uint8  \n",
            " 37  PaymentMethod_Bank transfer (automatic)  10348 non-null  uint8  \n",
            " 38  PaymentMethod_Credit card (automatic)    10348 non-null  uint8  \n",
            " 39  PaymentMethod_Electronic check           10348 non-null  uint8  \n",
            " 40  PaymentMethod_Mailed check               10348 non-null  uint8  \n",
            " 41  Churn                                    10348 non-null  int64  \n",
            "dtypes: float64(3), int64(7), uint8(32)\n",
            "memory usage: 1.1 MB\n"
          ]
        }
      ]
    },
    {
      "cell_type": "markdown",
      "source": [
        "Our data is already numeric, so don't need to be modified, let's import library moving on with VIF calculation"
      ],
      "metadata": {
        "id": "WjFNV-zGEc2b"
      },
      "id": "WjFNV-zGEc2b"
    },
    {
      "cell_type": "code",
      "source": [
        "from statsmodels.stats.outliers_influence import variance_inflation_factor\n",
        "\n",
        "# the independent variables set\n",
        "x = df_ready.drop(columns = 'Churn')\n",
        "  \n",
        "# VIF dataframe\n",
        "vif_df = pd.DataFrame()\n",
        "vif_df[\"feature\"] = x.columns\n",
        "  \n",
        "# calculating VIF for each feature\n",
        "vif_df[\"VIF\"] = [variance_inflation_factor(x.values, i)\n",
        "                          for i in range(len(x.columns))]\n",
        "  \n",
        "print(vif_df)"
      ],
      "metadata": {
        "colab": {
          "base_uri": "https://localhost:8080/"
        },
        "id": "v5LkERcDLmAk",
        "outputId": "2913efc2-5ec9-4ebd-aad0-0cb18447fabc"
      },
      "id": "v5LkERcDLmAk",
      "execution_count": null,
      "outputs": [
        {
          "metadata": {
            "tags": null
          },
          "name": "stderr",
          "output_type": "stream",
          "text": [
            "/usr/local/lib/python3.7/dist-packages/statsmodels/stats/outliers_influence.py:193: RuntimeWarning: divide by zero encountered in double_scalars\n",
            "  vif = 1. / (1. - r_squared_i)\n"
          ]
        },
        {
          "metadata": {
            "tags": null
          },
          "name": "stdout",
          "output_type": "stream",
          "text": [
            "                                    feature           VIF\n",
            "0                                   Partner  2.493108e+00\n",
            "1                                Dependents  1.846928e+00\n",
            "2                              PhoneService  8.476855e+01\n",
            "3                          PaperlessBilling  2.932044e+00\n",
            "4                                    Tenure  2.046124e+01\n",
            "5                              ChargesDaily  7.728862e+05\n",
            "6                            ChargesMonthly  7.732629e+05\n",
            "7                              ChargesTotal  2.081789e+01\n",
            "8                          Contract_encoded  3.722170e+00\n",
            "9                             Gender_Female  5.521001e+00\n",
            "10                              Gender_Male  5.710724e+00\n",
            "11                         SeniorCitizen_No  1.025981e+01\n",
            "12                        SeniorCitizen_Yes  2.728717e+00\n",
            "13                         MultipleLines_No  8.310799e+00\n",
            "14           MultipleLines_No phone service  5.443357e+00\n",
            "15                        MultipleLines_Yes  6.866280e+00\n",
            "16                      InternetService_DSL  1.291528e+01\n",
            "17              InternetService_Fiber optic  3.218111e+01\n",
            "18                       InternetService_No           inf\n",
            "19                        OnlineSecurity_No  1.049085e+01\n",
            "20       OnlineSecurity_No internet service           inf\n",
            "21                       OnlineSecurity_Yes  5.437040e+00\n",
            "22                          OnlineBackup_No  7.520114e+00\n",
            "23         OnlineBackup_No internet service           inf\n",
            "24                         OnlineBackup_Yes  5.553539e+00\n",
            "25                      DeviceProtection_No  7.490346e+00\n",
            "26     DeviceProtection_No internet service           inf\n",
            "27                     DeviceProtection_Yes  5.525075e+00\n",
            "28                           TechSupport_No  1.004628e+01\n",
            "29          TechSupport_No internet service           inf\n",
            "30                          TechSupport_Yes  5.432157e+00\n",
            "31                           StreamingTV_No  7.611189e+00\n",
            "32          StreamingTV_No internet service           inf\n",
            "33                          StreamingTV_Yes  7.252231e+00\n",
            "34                       StreamingMovies_No  7.884460e+00\n",
            "35      StreamingMovies_No internet service           inf\n",
            "36                      StreamingMovies_Yes  7.380059e+00\n",
            "37  PaymentMethod_Bank transfer (automatic)  3.124048e+00\n",
            "38    PaymentMethod_Credit card (automatic)  3.089508e+00\n",
            "39           PaymentMethod_Electronic check  4.480744e+00\n",
            "40               PaymentMethod_Mailed check  3.452916e+00\n"
          ]
        }
      ]
    },
    {
      "cell_type": "markdown",
      "source": [
        "According to The Cambridge Dictionary of Statistics, VIF factors () can be understood by the following ways:\n",
        "\n",
        "**VIF = 1**, Very Less Multicollinearity (or correlated);\n",
        "\n",
        "**VIF < 5**, Moderate Multicollinearity;\n",
        "\n",
        "**VIF > 5**, Highly Multicollinearity;\n",
        "\n",
        "To solve this issue, let's drop a few dummy columns so we can reduce VIF"
      ],
      "metadata": {
        "id": "Yg6TNI5NLFDr"
      },
      "id": "Yg6TNI5NLFDr"
    },
    {
      "cell_type": "code",
      "source": [
        "df_original = df_ready.copy()"
      ],
      "metadata": {
        "id": "aL9JZwJNORra"
      },
      "id": "aL9JZwJNORra",
      "execution_count": null,
      "outputs": []
    },
    {
      "cell_type": "code",
      "source": [
        "df_drop = df_ready.drop(columns=['MultipleLines_No','TechSupport_No','OnlineBackup_No'])"
      ],
      "metadata": {
        "id": "NejPOgPfORzW"
      },
      "id": "NejPOgPfORzW",
      "execution_count": null,
      "outputs": []
    },
    {
      "cell_type": "code",
      "source": [
        "# the independent variables set\n",
        "x = df_drop.drop(columns = 'Churn')\n",
        "  \n",
        "# VIF dataframe\n",
        "vif_df = pd.DataFrame()\n",
        "vif_df[\"feature\"] = x.columns\n",
        "  \n",
        "# calculating VIF for each feature\n",
        "vif_df[\"VIF\"] = [variance_inflation_factor(x.values, i)\n",
        "                          for i in range(len(x.columns))]\n",
        "  \n",
        "print(vif_df)"
      ],
      "metadata": {
        "colab": {
          "base_uri": "https://localhost:8080/"
        },
        "id": "SOk_GR1UOR37",
        "outputId": "75fe31e6-d8c7-410f-b507-9cb6851560a4"
      },
      "id": "SOk_GR1UOR37",
      "execution_count": null,
      "outputs": [
        {
          "metadata": {
            "tags": null
          },
          "name": "stderr",
          "output_type": "stream",
          "text": [
            "/usr/local/lib/python3.7/dist-packages/statsmodels/stats/outliers_influence.py:193: RuntimeWarning: divide by zero encountered in double_scalars\n",
            "  vif = 1. / (1. - r_squared_i)\n"
          ]
        },
        {
          "metadata": {
            "tags": null
          },
          "name": "stdout",
          "output_type": "stream",
          "text": [
            "                                    feature           VIF\n",
            "0                                   Partner  2.492217e+00\n",
            "1                                Dependents  1.846767e+00\n",
            "2                              PhoneService  7.461404e+01\n",
            "3                          PaperlessBilling  2.928130e+00\n",
            "4                                    Tenure  2.039408e+01\n",
            "5                              ChargesDaily  7.727397e+05\n",
            "6                            ChargesMonthly  7.731405e+05\n",
            "7                              ChargesTotal  2.064768e+01\n",
            "8                          Contract_encoded  3.719525e+00\n",
            "9                             Gender_Female  5.404666e+00\n",
            "10                              Gender_Male  5.593695e+00\n",
            "11                         SeniorCitizen_No  1.003586e+01\n",
            "12                        SeniorCitizen_Yes  2.678642e+00\n",
            "13           MultipleLines_No phone service  5.259738e+00\n",
            "14                        MultipleLines_Yes  2.446505e+00\n",
            "15                      InternetService_DSL  1.226423e+01\n",
            "16              InternetService_Fiber optic  3.078134e+01\n",
            "17                       InternetService_No           inf\n",
            "18                        OnlineSecurity_No  1.018935e+01\n",
            "19       OnlineSecurity_No internet service           inf\n",
            "20                       OnlineSecurity_Yes  5.292511e+00\n",
            "21         OnlineBackup_No internet service           inf\n",
            "22                         OnlineBackup_Yes  2.098246e+00\n",
            "23                      DeviceProtection_No  7.277720e+00\n",
            "24     DeviceProtection_No internet service           inf\n",
            "25                     DeviceProtection_Yes  5.378154e+00\n",
            "26          TechSupport_No internet service           inf\n",
            "27                          TechSupport_Yes  2.059398e+00\n",
            "28                           StreamingTV_No  7.542361e+00\n",
            "29          StreamingTV_No internet service           inf\n",
            "30                          StreamingTV_Yes  7.145176e+00\n",
            "31                       StreamingMovies_No  7.806372e+00\n",
            "32      StreamingMovies_No internet service           inf\n",
            "33                      StreamingMovies_Yes  7.277317e+00\n",
            "34  PaymentMethod_Bank transfer (automatic)  3.069502e+00\n",
            "35    PaymentMethod_Credit card (automatic)  3.031874e+00\n",
            "36           PaymentMethod_Electronic check  4.376960e+00\n",
            "37               PaymentMethod_Mailed check  3.388594e+00\n"
          ]
        }
      ]
    },
    {
      "cell_type": "code",
      "source": [
        "df = df_drop.copy()\n",
        "df.head()"
      ],
      "metadata": {
        "colab": {
          "base_uri": "https://localhost:8080/",
          "height": 334
        },
        "id": "LDOAiYGaVUZv",
        "outputId": "57c8866f-1e44-49a5-93ea-3bfca591d794"
      },
      "id": "LDOAiYGaVUZv",
      "execution_count": null,
      "outputs": [
        {
          "data": {
            "text/html": [
              "\n",
              "  <div id=\"df-639ba35e-ef0b-4f53-957c-4be32beab8e1\">\n",
              "    <div class=\"colab-df-container\">\n",
              "      <div>\n",
              "<style scoped>\n",
              "    .dataframe tbody tr th:only-of-type {\n",
              "        vertical-align: middle;\n",
              "    }\n",
              "\n",
              "    .dataframe tbody tr th {\n",
              "        vertical-align: top;\n",
              "    }\n",
              "\n",
              "    .dataframe thead th {\n",
              "        text-align: right;\n",
              "    }\n",
              "</style>\n",
              "<table border=\"1\" class=\"dataframe\">\n",
              "  <thead>\n",
              "    <tr style=\"text-align: right;\">\n",
              "      <th></th>\n",
              "      <th>Partner</th>\n",
              "      <th>Dependents</th>\n",
              "      <th>PhoneService</th>\n",
              "      <th>PaperlessBilling</th>\n",
              "      <th>Tenure</th>\n",
              "      <th>ChargesDaily</th>\n",
              "      <th>ChargesMonthly</th>\n",
              "      <th>ChargesTotal</th>\n",
              "      <th>Contract_encoded</th>\n",
              "      <th>Gender_Female</th>\n",
              "      <th>Gender_Male</th>\n",
              "      <th>...</th>\n",
              "      <th>StreamingTV_No</th>\n",
              "      <th>StreamingTV_No internet service</th>\n",
              "      <th>StreamingTV_Yes</th>\n",
              "      <th>StreamingMovies_No</th>\n",
              "      <th>StreamingMovies_No internet service</th>\n",
              "      <th>StreamingMovies_Yes</th>\n",
              "      <th>PaymentMethod_Bank transfer (automatic)</th>\n",
              "      <th>PaymentMethod_Credit card (automatic)</th>\n",
              "      <th>PaymentMethod_Electronic check</th>\n",
              "      <th>PaymentMethod_Mailed check</th>\n",
              "      <th>Churn</th>\n",
              "    </tr>\n",
              "  </thead>\n",
              "  <tbody>\n",
              "    <tr>\n",
              "      <th>0</th>\n",
              "      <td>1</td>\n",
              "      <td>1</td>\n",
              "      <td>1</td>\n",
              "      <td>1</td>\n",
              "      <td>9</td>\n",
              "      <td>2.19</td>\n",
              "      <td>65.6</td>\n",
              "      <td>593.30</td>\n",
              "      <td>1</td>\n",
              "      <td>1</td>\n",
              "      <td>0</td>\n",
              "      <td>...</td>\n",
              "      <td>0</td>\n",
              "      <td>0</td>\n",
              "      <td>1</td>\n",
              "      <td>1</td>\n",
              "      <td>0</td>\n",
              "      <td>0</td>\n",
              "      <td>0</td>\n",
              "      <td>0</td>\n",
              "      <td>0</td>\n",
              "      <td>1</td>\n",
              "      <td>0</td>\n",
              "    </tr>\n",
              "    <tr>\n",
              "      <th>1</th>\n",
              "      <td>0</td>\n",
              "      <td>0</td>\n",
              "      <td>1</td>\n",
              "      <td>0</td>\n",
              "      <td>9</td>\n",
              "      <td>2.00</td>\n",
              "      <td>59.9</td>\n",
              "      <td>542.40</td>\n",
              "      <td>0</td>\n",
              "      <td>0</td>\n",
              "      <td>1</td>\n",
              "      <td>...</td>\n",
              "      <td>1</td>\n",
              "      <td>0</td>\n",
              "      <td>0</td>\n",
              "      <td>0</td>\n",
              "      <td>0</td>\n",
              "      <td>1</td>\n",
              "      <td>0</td>\n",
              "      <td>0</td>\n",
              "      <td>0</td>\n",
              "      <td>1</td>\n",
              "      <td>0</td>\n",
              "    </tr>\n",
              "    <tr>\n",
              "      <th>2</th>\n",
              "      <td>0</td>\n",
              "      <td>0</td>\n",
              "      <td>1</td>\n",
              "      <td>1</td>\n",
              "      <td>4</td>\n",
              "      <td>2.46</td>\n",
              "      <td>73.9</td>\n",
              "      <td>280.85</td>\n",
              "      <td>0</td>\n",
              "      <td>0</td>\n",
              "      <td>1</td>\n",
              "      <td>...</td>\n",
              "      <td>1</td>\n",
              "      <td>0</td>\n",
              "      <td>0</td>\n",
              "      <td>1</td>\n",
              "      <td>0</td>\n",
              "      <td>0</td>\n",
              "      <td>0</td>\n",
              "      <td>0</td>\n",
              "      <td>1</td>\n",
              "      <td>0</td>\n",
              "      <td>1</td>\n",
              "    </tr>\n",
              "    <tr>\n",
              "      <th>3</th>\n",
              "      <td>1</td>\n",
              "      <td>0</td>\n",
              "      <td>1</td>\n",
              "      <td>1</td>\n",
              "      <td>13</td>\n",
              "      <td>3.27</td>\n",
              "      <td>98.0</td>\n",
              "      <td>1237.85</td>\n",
              "      <td>0</td>\n",
              "      <td>0</td>\n",
              "      <td>1</td>\n",
              "      <td>...</td>\n",
              "      <td>0</td>\n",
              "      <td>0</td>\n",
              "      <td>1</td>\n",
              "      <td>0</td>\n",
              "      <td>0</td>\n",
              "      <td>1</td>\n",
              "      <td>0</td>\n",
              "      <td>0</td>\n",
              "      <td>1</td>\n",
              "      <td>0</td>\n",
              "      <td>1</td>\n",
              "    </tr>\n",
              "    <tr>\n",
              "      <th>4</th>\n",
              "      <td>1</td>\n",
              "      <td>0</td>\n",
              "      <td>1</td>\n",
              "      <td>1</td>\n",
              "      <td>3</td>\n",
              "      <td>2.80</td>\n",
              "      <td>83.9</td>\n",
              "      <td>267.40</td>\n",
              "      <td>0</td>\n",
              "      <td>1</td>\n",
              "      <td>0</td>\n",
              "      <td>...</td>\n",
              "      <td>0</td>\n",
              "      <td>0</td>\n",
              "      <td>1</td>\n",
              "      <td>1</td>\n",
              "      <td>0</td>\n",
              "      <td>0</td>\n",
              "      <td>0</td>\n",
              "      <td>0</td>\n",
              "      <td>0</td>\n",
              "      <td>1</td>\n",
              "      <td>1</td>\n",
              "    </tr>\n",
              "  </tbody>\n",
              "</table>\n",
              "<p>5 rows × 39 columns</p>\n",
              "</div>\n",
              "      <button class=\"colab-df-convert\" onclick=\"convertToInteractive('df-639ba35e-ef0b-4f53-957c-4be32beab8e1')\"\n",
              "              title=\"Convert this dataframe to an interactive table.\"\n",
              "              style=\"display:none;\">\n",
              "        \n",
              "  <svg xmlns=\"http://www.w3.org/2000/svg\" height=\"24px\"viewBox=\"0 0 24 24\"\n",
              "       width=\"24px\">\n",
              "    <path d=\"M0 0h24v24H0V0z\" fill=\"none\"/>\n",
              "    <path d=\"M18.56 5.44l.94 2.06.94-2.06 2.06-.94-2.06-.94-.94-2.06-.94 2.06-2.06.94zm-11 1L8.5 8.5l.94-2.06 2.06-.94-2.06-.94L8.5 2.5l-.94 2.06-2.06.94zm10 10l.94 2.06.94-2.06 2.06-.94-2.06-.94-.94-2.06-.94 2.06-2.06.94z\"/><path d=\"M17.41 7.96l-1.37-1.37c-.4-.4-.92-.59-1.43-.59-.52 0-1.04.2-1.43.59L10.3 9.45l-7.72 7.72c-.78.78-.78 2.05 0 2.83L4 21.41c.39.39.9.59 1.41.59.51 0 1.02-.2 1.41-.59l7.78-7.78 2.81-2.81c.8-.78.8-2.07 0-2.86zM5.41 20L4 18.59l7.72-7.72 1.47 1.35L5.41 20z\"/>\n",
              "  </svg>\n",
              "      </button>\n",
              "      \n",
              "  <style>\n",
              "    .colab-df-container {\n",
              "      display:flex;\n",
              "      flex-wrap:wrap;\n",
              "      gap: 12px;\n",
              "    }\n",
              "\n",
              "    .colab-df-convert {\n",
              "      background-color: #E8F0FE;\n",
              "      border: none;\n",
              "      border-radius: 50%;\n",
              "      cursor: pointer;\n",
              "      display: none;\n",
              "      fill: #1967D2;\n",
              "      height: 32px;\n",
              "      padding: 0 0 0 0;\n",
              "      width: 32px;\n",
              "    }\n",
              "\n",
              "    .colab-df-convert:hover {\n",
              "      background-color: #E2EBFA;\n",
              "      box-shadow: 0px 1px 2px rgba(60, 64, 67, 0.3), 0px 1px 3px 1px rgba(60, 64, 67, 0.15);\n",
              "      fill: #174EA6;\n",
              "    }\n",
              "\n",
              "    [theme=dark] .colab-df-convert {\n",
              "      background-color: #3B4455;\n",
              "      fill: #D2E3FC;\n",
              "    }\n",
              "\n",
              "    [theme=dark] .colab-df-convert:hover {\n",
              "      background-color: #434B5C;\n",
              "      box-shadow: 0px 1px 3px 1px rgba(0, 0, 0, 0.15);\n",
              "      filter: drop-shadow(0px 1px 2px rgba(0, 0, 0, 0.3));\n",
              "      fill: #FFFFFF;\n",
              "    }\n",
              "  </style>\n",
              "\n",
              "      <script>\n",
              "        const buttonEl =\n",
              "          document.querySelector('#df-639ba35e-ef0b-4f53-957c-4be32beab8e1 button.colab-df-convert');\n",
              "        buttonEl.style.display =\n",
              "          google.colab.kernel.accessAllowed ? 'block' : 'none';\n",
              "\n",
              "        async function convertToInteractive(key) {\n",
              "          const element = document.querySelector('#df-639ba35e-ef0b-4f53-957c-4be32beab8e1');\n",
              "          const dataTable =\n",
              "            await google.colab.kernel.invokeFunction('convertToInteractive',\n",
              "                                                     [key], {});\n",
              "          if (!dataTable) return;\n",
              "\n",
              "          const docLinkHtml = 'Like what you see? Visit the ' +\n",
              "            '<a target=\"_blank\" href=https://colab.research.google.com/notebooks/data_table.ipynb>data table notebook</a>'\n",
              "            + ' to learn more about interactive tables.';\n",
              "          element.innerHTML = '';\n",
              "          dataTable['output_type'] = 'display_data';\n",
              "          await google.colab.output.renderOutput(dataTable, element);\n",
              "          const docLink = document.createElement('div');\n",
              "          docLink.innerHTML = docLinkHtml;\n",
              "          element.appendChild(docLink);\n",
              "        }\n",
              "      </script>\n",
              "    </div>\n",
              "  </div>\n",
              "  "
            ],
            "text/plain": [
              "   Partner  Dependents  PhoneService  PaperlessBilling  Tenure  ChargesDaily  \\\n",
              "0        1           1             1                 1       9          2.19   \n",
              "1        0           0             1                 0       9          2.00   \n",
              "2        0           0             1                 1       4          2.46   \n",
              "3        1           0             1                 1      13          3.27   \n",
              "4        1           0             1                 1       3          2.80   \n",
              "\n",
              "   ChargesMonthly  ChargesTotal  Contract_encoded  Gender_Female  Gender_Male  \\\n",
              "0            65.6        593.30                 1              1            0   \n",
              "1            59.9        542.40                 0              0            1   \n",
              "2            73.9        280.85                 0              0            1   \n",
              "3            98.0       1237.85                 0              0            1   \n",
              "4            83.9        267.40                 0              1            0   \n",
              "\n",
              "   ...  StreamingTV_No  StreamingTV_No internet service  StreamingTV_Yes  \\\n",
              "0  ...               0                                0                1   \n",
              "1  ...               1                                0                0   \n",
              "2  ...               1                                0                0   \n",
              "3  ...               0                                0                1   \n",
              "4  ...               0                                0                1   \n",
              "\n",
              "   StreamingMovies_No  StreamingMovies_No internet service  \\\n",
              "0                   1                                    0   \n",
              "1                   0                                    0   \n",
              "2                   1                                    0   \n",
              "3                   0                                    0   \n",
              "4                   1                                    0   \n",
              "\n",
              "   StreamingMovies_Yes  PaymentMethod_Bank transfer (automatic)  \\\n",
              "0                    0                                        0   \n",
              "1                    1                                        0   \n",
              "2                    0                                        0   \n",
              "3                    1                                        0   \n",
              "4                    0                                        0   \n",
              "\n",
              "   PaymentMethod_Credit card (automatic)  PaymentMethod_Electronic check  \\\n",
              "0                                      0                               0   \n",
              "1                                      0                               0   \n",
              "2                                      0                               1   \n",
              "3                                      0                               1   \n",
              "4                                      0                               0   \n",
              "\n",
              "   PaymentMethod_Mailed check  Churn  \n",
              "0                           1      0  \n",
              "1                           1      0  \n",
              "2                           0      1  \n",
              "3                           0      1  \n",
              "4                           1      1  \n",
              "\n",
              "[5 rows x 39 columns]"
            ]
          },
          "execution_count": 286,
          "metadata": {},
          "output_type": "execute_result"
        }
      ]
    },
    {
      "cell_type": "markdown",
      "source": [
        "From exploratory data analysis, let's remove a few information that won't impact on Churn rate models. Some were already remove but just to be clear:  ChargesDaily, ChargesMonthly, ChargesTotal. After remove, we'll adjust scaling range of Tenure information"
      ],
      "metadata": {
        "id": "efPcisAhXAdh"
      },
      "id": "efPcisAhXAdh"
    },
    {
      "cell_type": "code",
      "source": [
        "df.drop(columns=['ChargesDaily','ChargesMonthly','ChargesTotal'],  inplace=True)"
      ],
      "metadata": {
        "id": "iMpm4pGpXam-"
      },
      "id": "iMpm4pGpXam-",
      "execution_count": null,
      "outputs": []
    },
    {
      "cell_type": "code",
      "source": [
        "tenure_scaling = ['Tenure']\n",
        "\n",
        "for column in tenure_scaling:\n",
        "\n",
        "    min = df[column].min()\n",
        "    max = df[column].max()\n",
        "\n",
        "    df[column] = (df[column] - min)/(max-min)\n",
        "\n",
        "df.head()"
      ],
      "metadata": {
        "colab": {
          "base_uri": "https://localhost:8080/",
          "height": 840
        },
        "id": "GZBq_qLei7mq",
        "outputId": "ed7c9e81-91f2-49a2-931a-f1a6c0efb1a9"
      },
      "id": "GZBq_qLei7mq",
      "execution_count": null,
      "outputs": [
        {
          "output_type": "execute_result",
          "data": {
            "text/plain": [
              "   Partner  Dependents  PhoneService  PaperlessBilling    Tenure  \\\n",
              "0        1           1             1                 1  0.125000   \n",
              "1        0           0             1                 0  0.125000   \n",
              "2        0           0             1                 1  0.055556   \n",
              "3        1           0             1                 1  0.180556   \n",
              "4        1           0             1                 1  0.041667   \n",
              "\n",
              "   Contract_encoded  Gender_Female  Gender_Male  SeniorCitizen_No  \\\n",
              "0                 1              1            0                 1   \n",
              "1                 0              0            1                 1   \n",
              "2                 0              0            1                 1   \n",
              "3                 0              0            1                 0   \n",
              "4                 0              1            0                 0   \n",
              "\n",
              "   SeniorCitizen_Yes  MultipleLines_No phone service  ...  StreamingTV_No  \\\n",
              "0                  0                               0  ...               0   \n",
              "1                  0                               0  ...               1   \n",
              "2                  0                               0  ...               1   \n",
              "3                  1                               0  ...               0   \n",
              "4                  1                               0  ...               0   \n",
              "\n",
              "   StreamingTV_No internet service  StreamingTV_Yes  StreamingMovies_No  \\\n",
              "0                                0                1                   1   \n",
              "1                                0                0                   0   \n",
              "2                                0                0                   1   \n",
              "3                                0                1                   0   \n",
              "4                                0                1                   1   \n",
              "\n",
              "   StreamingMovies_No internet service  StreamingMovies_Yes  \\\n",
              "0                                    0                    0   \n",
              "1                                    0                    1   \n",
              "2                                    0                    0   \n",
              "3                                    0                    1   \n",
              "4                                    0                    0   \n",
              "\n",
              "   PaymentMethod_Bank transfer (automatic)  \\\n",
              "0                                        0   \n",
              "1                                        0   \n",
              "2                                        0   \n",
              "3                                        0   \n",
              "4                                        0   \n",
              "\n",
              "   PaymentMethod_Credit card (automatic)  PaymentMethod_Electronic check  \\\n",
              "0                                      0                               0   \n",
              "1                                      0                               0   \n",
              "2                                      0                               1   \n",
              "3                                      0                               1   \n",
              "4                                      0                               0   \n",
              "\n",
              "   PaymentMethod_Mailed check  Churn  \n",
              "0                           1      0  \n",
              "1                           1      0  \n",
              "2                           0      1  \n",
              "3                           0      1  \n",
              "4                           1      1  \n",
              "\n",
              "[5 rows x 36 columns]"
            ],
            "text/html": [
              "\n",
              "  <div id=\"df-0c9b428c-37ad-43e0-8f38-e2015bcf90c1\">\n",
              "    <div class=\"colab-df-container\">\n",
              "      <div>\n",
              "<style scoped>\n",
              "    .dataframe tbody tr th:only-of-type {\n",
              "        vertical-align: middle;\n",
              "    }\n",
              "\n",
              "    .dataframe tbody tr th {\n",
              "        vertical-align: top;\n",
              "    }\n",
              "\n",
              "    .dataframe thead th {\n",
              "        text-align: right;\n",
              "    }\n",
              "</style>\n",
              "<table border=\"1\" class=\"dataframe\">\n",
              "  <thead>\n",
              "    <tr style=\"text-align: right;\">\n",
              "      <th></th>\n",
              "      <th>Partner</th>\n",
              "      <th>Dependents</th>\n",
              "      <th>PhoneService</th>\n",
              "      <th>PaperlessBilling</th>\n",
              "      <th>Tenure</th>\n",
              "      <th>Contract_encoded</th>\n",
              "      <th>Gender_Female</th>\n",
              "      <th>Gender_Male</th>\n",
              "      <th>SeniorCitizen_No</th>\n",
              "      <th>SeniorCitizen_Yes</th>\n",
              "      <th>MultipleLines_No phone service</th>\n",
              "      <th>...</th>\n",
              "      <th>StreamingTV_No</th>\n",
              "      <th>StreamingTV_No internet service</th>\n",
              "      <th>StreamingTV_Yes</th>\n",
              "      <th>StreamingMovies_No</th>\n",
              "      <th>StreamingMovies_No internet service</th>\n",
              "      <th>StreamingMovies_Yes</th>\n",
              "      <th>PaymentMethod_Bank transfer (automatic)</th>\n",
              "      <th>PaymentMethod_Credit card (automatic)</th>\n",
              "      <th>PaymentMethod_Electronic check</th>\n",
              "      <th>PaymentMethod_Mailed check</th>\n",
              "      <th>Churn</th>\n",
              "    </tr>\n",
              "  </thead>\n",
              "  <tbody>\n",
              "    <tr>\n",
              "      <th>0</th>\n",
              "      <td>1</td>\n",
              "      <td>1</td>\n",
              "      <td>1</td>\n",
              "      <td>1</td>\n",
              "      <td>0.125000</td>\n",
              "      <td>1</td>\n",
              "      <td>1</td>\n",
              "      <td>0</td>\n",
              "      <td>1</td>\n",
              "      <td>0</td>\n",
              "      <td>0</td>\n",
              "      <td>...</td>\n",
              "      <td>0</td>\n",
              "      <td>0</td>\n",
              "      <td>1</td>\n",
              "      <td>1</td>\n",
              "      <td>0</td>\n",
              "      <td>0</td>\n",
              "      <td>0</td>\n",
              "      <td>0</td>\n",
              "      <td>0</td>\n",
              "      <td>1</td>\n",
              "      <td>0</td>\n",
              "    </tr>\n",
              "    <tr>\n",
              "      <th>1</th>\n",
              "      <td>0</td>\n",
              "      <td>0</td>\n",
              "      <td>1</td>\n",
              "      <td>0</td>\n",
              "      <td>0.125000</td>\n",
              "      <td>0</td>\n",
              "      <td>0</td>\n",
              "      <td>1</td>\n",
              "      <td>1</td>\n",
              "      <td>0</td>\n",
              "      <td>0</td>\n",
              "      <td>...</td>\n",
              "      <td>1</td>\n",
              "      <td>0</td>\n",
              "      <td>0</td>\n",
              "      <td>0</td>\n",
              "      <td>0</td>\n",
              "      <td>1</td>\n",
              "      <td>0</td>\n",
              "      <td>0</td>\n",
              "      <td>0</td>\n",
              "      <td>1</td>\n",
              "      <td>0</td>\n",
              "    </tr>\n",
              "    <tr>\n",
              "      <th>2</th>\n",
              "      <td>0</td>\n",
              "      <td>0</td>\n",
              "      <td>1</td>\n",
              "      <td>1</td>\n",
              "      <td>0.055556</td>\n",
              "      <td>0</td>\n",
              "      <td>0</td>\n",
              "      <td>1</td>\n",
              "      <td>1</td>\n",
              "      <td>0</td>\n",
              "      <td>0</td>\n",
              "      <td>...</td>\n",
              "      <td>1</td>\n",
              "      <td>0</td>\n",
              "      <td>0</td>\n",
              "      <td>1</td>\n",
              "      <td>0</td>\n",
              "      <td>0</td>\n",
              "      <td>0</td>\n",
              "      <td>0</td>\n",
              "      <td>1</td>\n",
              "      <td>0</td>\n",
              "      <td>1</td>\n",
              "    </tr>\n",
              "    <tr>\n",
              "      <th>3</th>\n",
              "      <td>1</td>\n",
              "      <td>0</td>\n",
              "      <td>1</td>\n",
              "      <td>1</td>\n",
              "      <td>0.180556</td>\n",
              "      <td>0</td>\n",
              "      <td>0</td>\n",
              "      <td>1</td>\n",
              "      <td>0</td>\n",
              "      <td>1</td>\n",
              "      <td>0</td>\n",
              "      <td>...</td>\n",
              "      <td>0</td>\n",
              "      <td>0</td>\n",
              "      <td>1</td>\n",
              "      <td>0</td>\n",
              "      <td>0</td>\n",
              "      <td>1</td>\n",
              "      <td>0</td>\n",
              "      <td>0</td>\n",
              "      <td>1</td>\n",
              "      <td>0</td>\n",
              "      <td>1</td>\n",
              "    </tr>\n",
              "    <tr>\n",
              "      <th>4</th>\n",
              "      <td>1</td>\n",
              "      <td>0</td>\n",
              "      <td>1</td>\n",
              "      <td>1</td>\n",
              "      <td>0.041667</td>\n",
              "      <td>0</td>\n",
              "      <td>1</td>\n",
              "      <td>0</td>\n",
              "      <td>0</td>\n",
              "      <td>1</td>\n",
              "      <td>0</td>\n",
              "      <td>...</td>\n",
              "      <td>0</td>\n",
              "      <td>0</td>\n",
              "      <td>1</td>\n",
              "      <td>1</td>\n",
              "      <td>0</td>\n",
              "      <td>0</td>\n",
              "      <td>0</td>\n",
              "      <td>0</td>\n",
              "      <td>0</td>\n",
              "      <td>1</td>\n",
              "      <td>1</td>\n",
              "    </tr>\n",
              "  </tbody>\n",
              "</table>\n",
              "<p>5 rows × 36 columns</p>\n",
              "</div>\n",
              "      <button class=\"colab-df-convert\" onclick=\"convertToInteractive('df-0c9b428c-37ad-43e0-8f38-e2015bcf90c1')\"\n",
              "              title=\"Convert this dataframe to an interactive table.\"\n",
              "              style=\"display:none;\">\n",
              "        \n",
              "  <svg xmlns=\"http://www.w3.org/2000/svg\" height=\"24px\"viewBox=\"0 0 24 24\"\n",
              "       width=\"24px\">\n",
              "    <path d=\"M0 0h24v24H0V0z\" fill=\"none\"/>\n",
              "    <path d=\"M18.56 5.44l.94 2.06.94-2.06 2.06-.94-2.06-.94-.94-2.06-.94 2.06-2.06.94zm-11 1L8.5 8.5l.94-2.06 2.06-.94-2.06-.94L8.5 2.5l-.94 2.06-2.06.94zm10 10l.94 2.06.94-2.06 2.06-.94-2.06-.94-.94-2.06-.94 2.06-2.06.94z\"/><path d=\"M17.41 7.96l-1.37-1.37c-.4-.4-.92-.59-1.43-.59-.52 0-1.04.2-1.43.59L10.3 9.45l-7.72 7.72c-.78.78-.78 2.05 0 2.83L4 21.41c.39.39.9.59 1.41.59.51 0 1.02-.2 1.41-.59l7.78-7.78 2.81-2.81c.8-.78.8-2.07 0-2.86zM5.41 20L4 18.59l7.72-7.72 1.47 1.35L5.41 20z\"/>\n",
              "  </svg>\n",
              "      </button>\n",
              "      \n",
              "  <style>\n",
              "    .colab-df-container {\n",
              "      display:flex;\n",
              "      flex-wrap:wrap;\n",
              "      gap: 12px;\n",
              "    }\n",
              "\n",
              "    .colab-df-convert {\n",
              "      background-color: #E8F0FE;\n",
              "      border: none;\n",
              "      border-radius: 50%;\n",
              "      cursor: pointer;\n",
              "      display: none;\n",
              "      fill: #1967D2;\n",
              "      height: 32px;\n",
              "      padding: 0 0 0 0;\n",
              "      width: 32px;\n",
              "    }\n",
              "\n",
              "    .colab-df-convert:hover {\n",
              "      background-color: #E2EBFA;\n",
              "      box-shadow: 0px 1px 2px rgba(60, 64, 67, 0.3), 0px 1px 3px 1px rgba(60, 64, 67, 0.15);\n",
              "      fill: #174EA6;\n",
              "    }\n",
              "\n",
              "    [theme=dark] .colab-df-convert {\n",
              "      background-color: #3B4455;\n",
              "      fill: #D2E3FC;\n",
              "    }\n",
              "\n",
              "    [theme=dark] .colab-df-convert:hover {\n",
              "      background-color: #434B5C;\n",
              "      box-shadow: 0px 1px 3px 1px rgba(0, 0, 0, 0.15);\n",
              "      filter: drop-shadow(0px 1px 2px rgba(0, 0, 0, 0.3));\n",
              "      fill: #FFFFFF;\n",
              "    }\n",
              "  </style>\n",
              "\n",
              "      <script>\n",
              "        const buttonEl =\n",
              "          document.querySelector('#df-0c9b428c-37ad-43e0-8f38-e2015bcf90c1 button.colab-df-convert');\n",
              "        buttonEl.style.display =\n",
              "          google.colab.kernel.accessAllowed ? 'block' : 'none';\n",
              "\n",
              "        async function convertToInteractive(key) {\n",
              "          const element = document.querySelector('#df-0c9b428c-37ad-43e0-8f38-e2015bcf90c1');\n",
              "          const dataTable =\n",
              "            await google.colab.kernel.invokeFunction('convertToInteractive',\n",
              "                                                     [key], {});\n",
              "          if (!dataTable) return;\n",
              "\n",
              "          const docLinkHtml = 'Like what you see? Visit the ' +\n",
              "            '<a target=\"_blank\" href=https://colab.research.google.com/notebooks/data_table.ipynb>data table notebook</a>'\n",
              "            + ' to learn more about interactive tables.';\n",
              "          element.innerHTML = '';\n",
              "          dataTable['output_type'] = 'display_data';\n",
              "          await google.colab.output.renderOutput(dataTable, element);\n",
              "          const docLink = document.createElement('div');\n",
              "          docLink.innerHTML = docLinkHtml;\n",
              "          element.appendChild(docLink);\n",
              "        }\n",
              "      </script>\n",
              "    </div>\n",
              "  </div>\n",
              "  "
            ]
          },
          "metadata": {},
          "execution_count": 289
        },
        {
          "output_type": "execute_result",
          "data": {
            "text/plain": [
              "   Partner  Dependents  PhoneService  PaperlessBilling    Tenure  \\\n",
              "0        1           1             1                 1  0.125000   \n",
              "1        0           0             1                 0  0.125000   \n",
              "2        0           0             1                 1  0.055556   \n",
              "3        1           0             1                 1  0.180556   \n",
              "4        1           0             1                 1  0.041667   \n",
              "\n",
              "   Contract_encoded  Gender_Female  Gender_Male  SeniorCitizen_No  \\\n",
              "0                 1              1            0                 1   \n",
              "1                 0              0            1                 1   \n",
              "2                 0              0            1                 1   \n",
              "3                 0              0            1                 0   \n",
              "4                 0              1            0                 0   \n",
              "\n",
              "   SeniorCitizen_Yes  MultipleLines_No phone service  ...  StreamingTV_No  \\\n",
              "0                  0                               0  ...               0   \n",
              "1                  0                               0  ...               1   \n",
              "2                  0                               0  ...               1   \n",
              "3                  1                               0  ...               0   \n",
              "4                  1                               0  ...               0   \n",
              "\n",
              "   StreamingTV_No internet service  StreamingTV_Yes  StreamingMovies_No  \\\n",
              "0                                0                1                   1   \n",
              "1                                0                0                   0   \n",
              "2                                0                0                   1   \n",
              "3                                0                1                   0   \n",
              "4                                0                1                   1   \n",
              "\n",
              "   StreamingMovies_No internet service  StreamingMovies_Yes  \\\n",
              "0                                    0                    0   \n",
              "1                                    0                    1   \n",
              "2                                    0                    0   \n",
              "3                                    0                    1   \n",
              "4                                    0                    0   \n",
              "\n",
              "   PaymentMethod_Bank transfer (automatic)  \\\n",
              "0                                        0   \n",
              "1                                        0   \n",
              "2                                        0   \n",
              "3                                        0   \n",
              "4                                        0   \n",
              "\n",
              "   PaymentMethod_Credit card (automatic)  PaymentMethod_Electronic check  \\\n",
              "0                                      0                               0   \n",
              "1                                      0                               0   \n",
              "2                                      0                               1   \n",
              "3                                      0                               1   \n",
              "4                                      0                               0   \n",
              "\n",
              "   PaymentMethod_Mailed check  Churn  \n",
              "0                           1      0  \n",
              "1                           1      0  \n",
              "2                           0      1  \n",
              "3                           0      1  \n",
              "4                           1      1  \n",
              "\n",
              "[5 rows x 36 columns]"
            ],
            "text/html": [
              "\n",
              "  <div id=\"df-eb139f5a-2ff3-4a58-948b-5865b2d1ed36\">\n",
              "    <div class=\"colab-df-container\">\n",
              "      <div>\n",
              "<style scoped>\n",
              "    .dataframe tbody tr th:only-of-type {\n",
              "        vertical-align: middle;\n",
              "    }\n",
              "\n",
              "    .dataframe tbody tr th {\n",
              "        vertical-align: top;\n",
              "    }\n",
              "\n",
              "    .dataframe thead th {\n",
              "        text-align: right;\n",
              "    }\n",
              "</style>\n",
              "<table border=\"1\" class=\"dataframe\">\n",
              "  <thead>\n",
              "    <tr style=\"text-align: right;\">\n",
              "      <th></th>\n",
              "      <th>Partner</th>\n",
              "      <th>Dependents</th>\n",
              "      <th>PhoneService</th>\n",
              "      <th>PaperlessBilling</th>\n",
              "      <th>Tenure</th>\n",
              "      <th>Contract_encoded</th>\n",
              "      <th>Gender_Female</th>\n",
              "      <th>Gender_Male</th>\n",
              "      <th>SeniorCitizen_No</th>\n",
              "      <th>SeniorCitizen_Yes</th>\n",
              "      <th>MultipleLines_No phone service</th>\n",
              "      <th>...</th>\n",
              "      <th>StreamingTV_No</th>\n",
              "      <th>StreamingTV_No internet service</th>\n",
              "      <th>StreamingTV_Yes</th>\n",
              "      <th>StreamingMovies_No</th>\n",
              "      <th>StreamingMovies_No internet service</th>\n",
              "      <th>StreamingMovies_Yes</th>\n",
              "      <th>PaymentMethod_Bank transfer (automatic)</th>\n",
              "      <th>PaymentMethod_Credit card (automatic)</th>\n",
              "      <th>PaymentMethod_Electronic check</th>\n",
              "      <th>PaymentMethod_Mailed check</th>\n",
              "      <th>Churn</th>\n",
              "    </tr>\n",
              "  </thead>\n",
              "  <tbody>\n",
              "    <tr>\n",
              "      <th>0</th>\n",
              "      <td>1</td>\n",
              "      <td>1</td>\n",
              "      <td>1</td>\n",
              "      <td>1</td>\n",
              "      <td>0.125000</td>\n",
              "      <td>1</td>\n",
              "      <td>1</td>\n",
              "      <td>0</td>\n",
              "      <td>1</td>\n",
              "      <td>0</td>\n",
              "      <td>0</td>\n",
              "      <td>...</td>\n",
              "      <td>0</td>\n",
              "      <td>0</td>\n",
              "      <td>1</td>\n",
              "      <td>1</td>\n",
              "      <td>0</td>\n",
              "      <td>0</td>\n",
              "      <td>0</td>\n",
              "      <td>0</td>\n",
              "      <td>0</td>\n",
              "      <td>1</td>\n",
              "      <td>0</td>\n",
              "    </tr>\n",
              "    <tr>\n",
              "      <th>1</th>\n",
              "      <td>0</td>\n",
              "      <td>0</td>\n",
              "      <td>1</td>\n",
              "      <td>0</td>\n",
              "      <td>0.125000</td>\n",
              "      <td>0</td>\n",
              "      <td>0</td>\n",
              "      <td>1</td>\n",
              "      <td>1</td>\n",
              "      <td>0</td>\n",
              "      <td>0</td>\n",
              "      <td>...</td>\n",
              "      <td>1</td>\n",
              "      <td>0</td>\n",
              "      <td>0</td>\n",
              "      <td>0</td>\n",
              "      <td>0</td>\n",
              "      <td>1</td>\n",
              "      <td>0</td>\n",
              "      <td>0</td>\n",
              "      <td>0</td>\n",
              "      <td>1</td>\n",
              "      <td>0</td>\n",
              "    </tr>\n",
              "    <tr>\n",
              "      <th>2</th>\n",
              "      <td>0</td>\n",
              "      <td>0</td>\n",
              "      <td>1</td>\n",
              "      <td>1</td>\n",
              "      <td>0.055556</td>\n",
              "      <td>0</td>\n",
              "      <td>0</td>\n",
              "      <td>1</td>\n",
              "      <td>1</td>\n",
              "      <td>0</td>\n",
              "      <td>0</td>\n",
              "      <td>...</td>\n",
              "      <td>1</td>\n",
              "      <td>0</td>\n",
              "      <td>0</td>\n",
              "      <td>1</td>\n",
              "      <td>0</td>\n",
              "      <td>0</td>\n",
              "      <td>0</td>\n",
              "      <td>0</td>\n",
              "      <td>1</td>\n",
              "      <td>0</td>\n",
              "      <td>1</td>\n",
              "    </tr>\n",
              "    <tr>\n",
              "      <th>3</th>\n",
              "      <td>1</td>\n",
              "      <td>0</td>\n",
              "      <td>1</td>\n",
              "      <td>1</td>\n",
              "      <td>0.180556</td>\n",
              "      <td>0</td>\n",
              "      <td>0</td>\n",
              "      <td>1</td>\n",
              "      <td>0</td>\n",
              "      <td>1</td>\n",
              "      <td>0</td>\n",
              "      <td>...</td>\n",
              "      <td>0</td>\n",
              "      <td>0</td>\n",
              "      <td>1</td>\n",
              "      <td>0</td>\n",
              "      <td>0</td>\n",
              "      <td>1</td>\n",
              "      <td>0</td>\n",
              "      <td>0</td>\n",
              "      <td>1</td>\n",
              "      <td>0</td>\n",
              "      <td>1</td>\n",
              "    </tr>\n",
              "    <tr>\n",
              "      <th>4</th>\n",
              "      <td>1</td>\n",
              "      <td>0</td>\n",
              "      <td>1</td>\n",
              "      <td>1</td>\n",
              "      <td>0.041667</td>\n",
              "      <td>0</td>\n",
              "      <td>1</td>\n",
              "      <td>0</td>\n",
              "      <td>0</td>\n",
              "      <td>1</td>\n",
              "      <td>0</td>\n",
              "      <td>...</td>\n",
              "      <td>0</td>\n",
              "      <td>0</td>\n",
              "      <td>1</td>\n",
              "      <td>1</td>\n",
              "      <td>0</td>\n",
              "      <td>0</td>\n",
              "      <td>0</td>\n",
              "      <td>0</td>\n",
              "      <td>0</td>\n",
              "      <td>1</td>\n",
              "      <td>1</td>\n",
              "    </tr>\n",
              "  </tbody>\n",
              "</table>\n",
              "<p>5 rows × 36 columns</p>\n",
              "</div>\n",
              "      <button class=\"colab-df-convert\" onclick=\"convertToInteractive('df-eb139f5a-2ff3-4a58-948b-5865b2d1ed36')\"\n",
              "              title=\"Convert this dataframe to an interactive table.\"\n",
              "              style=\"display:none;\">\n",
              "        \n",
              "  <svg xmlns=\"http://www.w3.org/2000/svg\" height=\"24px\"viewBox=\"0 0 24 24\"\n",
              "       width=\"24px\">\n",
              "    <path d=\"M0 0h24v24H0V0z\" fill=\"none\"/>\n",
              "    <path d=\"M18.56 5.44l.94 2.06.94-2.06 2.06-.94-2.06-.94-.94-2.06-.94 2.06-2.06.94zm-11 1L8.5 8.5l.94-2.06 2.06-.94-2.06-.94L8.5 2.5l-.94 2.06-2.06.94zm10 10l.94 2.06.94-2.06 2.06-.94-2.06-.94-.94-2.06-.94 2.06-2.06.94z\"/><path d=\"M17.41 7.96l-1.37-1.37c-.4-.4-.92-.59-1.43-.59-.52 0-1.04.2-1.43.59L10.3 9.45l-7.72 7.72c-.78.78-.78 2.05 0 2.83L4 21.41c.39.39.9.59 1.41.59.51 0 1.02-.2 1.41-.59l7.78-7.78 2.81-2.81c.8-.78.8-2.07 0-2.86zM5.41 20L4 18.59l7.72-7.72 1.47 1.35L5.41 20z\"/>\n",
              "  </svg>\n",
              "      </button>\n",
              "      \n",
              "  <style>\n",
              "    .colab-df-container {\n",
              "      display:flex;\n",
              "      flex-wrap:wrap;\n",
              "      gap: 12px;\n",
              "    }\n",
              "\n",
              "    .colab-df-convert {\n",
              "      background-color: #E8F0FE;\n",
              "      border: none;\n",
              "      border-radius: 50%;\n",
              "      cursor: pointer;\n",
              "      display: none;\n",
              "      fill: #1967D2;\n",
              "      height: 32px;\n",
              "      padding: 0 0 0 0;\n",
              "      width: 32px;\n",
              "    }\n",
              "\n",
              "    .colab-df-convert:hover {\n",
              "      background-color: #E2EBFA;\n",
              "      box-shadow: 0px 1px 2px rgba(60, 64, 67, 0.3), 0px 1px 3px 1px rgba(60, 64, 67, 0.15);\n",
              "      fill: #174EA6;\n",
              "    }\n",
              "\n",
              "    [theme=dark] .colab-df-convert {\n",
              "      background-color: #3B4455;\n",
              "      fill: #D2E3FC;\n",
              "    }\n",
              "\n",
              "    [theme=dark] .colab-df-convert:hover {\n",
              "      background-color: #434B5C;\n",
              "      box-shadow: 0px 1px 3px 1px rgba(0, 0, 0, 0.15);\n",
              "      filter: drop-shadow(0px 1px 2px rgba(0, 0, 0, 0.3));\n",
              "      fill: #FFFFFF;\n",
              "    }\n",
              "  </style>\n",
              "\n",
              "      <script>\n",
              "        const buttonEl =\n",
              "          document.querySelector('#df-eb139f5a-2ff3-4a58-948b-5865b2d1ed36 button.colab-df-convert');\n",
              "        buttonEl.style.display =\n",
              "          google.colab.kernel.accessAllowed ? 'block' : 'none';\n",
              "\n",
              "        async function convertToInteractive(key) {\n",
              "          const element = document.querySelector('#df-eb139f5a-2ff3-4a58-948b-5865b2d1ed36');\n",
              "          const dataTable =\n",
              "            await google.colab.kernel.invokeFunction('convertToInteractive',\n",
              "                                                     [key], {});\n",
              "          if (!dataTable) return;\n",
              "\n",
              "          const docLinkHtml = 'Like what you see? Visit the ' +\n",
              "            '<a target=\"_blank\" href=https://colab.research.google.com/notebooks/data_table.ipynb>data table notebook</a>'\n",
              "            + ' to learn more about interactive tables.';\n",
              "          element.innerHTML = '';\n",
              "          dataTable['output_type'] = 'display_data';\n",
              "          await google.colab.output.renderOutput(dataTable, element);\n",
              "          const docLink = document.createElement('div');\n",
              "          docLink.innerHTML = docLinkHtml;\n",
              "          element.appendChild(docLink);\n",
              "        }\n",
              "      </script>\n",
              "    </div>\n",
              "  </div>\n",
              "  "
            ]
          },
          "metadata": {},
          "execution_count": 290
        },
        {
          "output_type": "execute_result",
          "data": {
            "text/plain": [
              "   Partner  Dependents  PhoneService  PaperlessBilling    Tenure  \\\n",
              "0        1           1             1                 1  0.125000   \n",
              "1        0           0             1                 0  0.125000   \n",
              "2        0           0             1                 1  0.055556   \n",
              "3        1           0             1                 1  0.180556   \n",
              "4        1           0             1                 1  0.041667   \n",
              "\n",
              "   Contract_encoded  Gender_Female  Gender_Male  SeniorCitizen_No  \\\n",
              "0                 1              1            0                 1   \n",
              "1                 0              0            1                 1   \n",
              "2                 0              0            1                 1   \n",
              "3                 0              0            1                 0   \n",
              "4                 0              1            0                 0   \n",
              "\n",
              "   SeniorCitizen_Yes  MultipleLines_No phone service  ...  StreamingTV_No  \\\n",
              "0                  0                               0  ...               0   \n",
              "1                  0                               0  ...               1   \n",
              "2                  0                               0  ...               1   \n",
              "3                  1                               0  ...               0   \n",
              "4                  1                               0  ...               0   \n",
              "\n",
              "   StreamingTV_No internet service  StreamingTV_Yes  StreamingMovies_No  \\\n",
              "0                                0                1                   1   \n",
              "1                                0                0                   0   \n",
              "2                                0                0                   1   \n",
              "3                                0                1                   0   \n",
              "4                                0                1                   1   \n",
              "\n",
              "   StreamingMovies_No internet service  StreamingMovies_Yes  \\\n",
              "0                                    0                    0   \n",
              "1                                    0                    1   \n",
              "2                                    0                    0   \n",
              "3                                    0                    1   \n",
              "4                                    0                    0   \n",
              "\n",
              "   PaymentMethod_Bank transfer (automatic)  \\\n",
              "0                                        0   \n",
              "1                                        0   \n",
              "2                                        0   \n",
              "3                                        0   \n",
              "4                                        0   \n",
              "\n",
              "   PaymentMethod_Credit card (automatic)  PaymentMethod_Electronic check  \\\n",
              "0                                      0                               0   \n",
              "1                                      0                               0   \n",
              "2                                      0                               1   \n",
              "3                                      0                               1   \n",
              "4                                      0                               0   \n",
              "\n",
              "   PaymentMethod_Mailed check  Churn  \n",
              "0                           1      0  \n",
              "1                           1      0  \n",
              "2                           0      1  \n",
              "3                           0      1  \n",
              "4                           1      1  \n",
              "\n",
              "[5 rows x 36 columns]"
            ],
            "text/html": [
              "\n",
              "  <div id=\"df-384841ed-863f-4d7a-ba46-7061a29b6bb7\">\n",
              "    <div class=\"colab-df-container\">\n",
              "      <div>\n",
              "<style scoped>\n",
              "    .dataframe tbody tr th:only-of-type {\n",
              "        vertical-align: middle;\n",
              "    }\n",
              "\n",
              "    .dataframe tbody tr th {\n",
              "        vertical-align: top;\n",
              "    }\n",
              "\n",
              "    .dataframe thead th {\n",
              "        text-align: right;\n",
              "    }\n",
              "</style>\n",
              "<table border=\"1\" class=\"dataframe\">\n",
              "  <thead>\n",
              "    <tr style=\"text-align: right;\">\n",
              "      <th></th>\n",
              "      <th>Partner</th>\n",
              "      <th>Dependents</th>\n",
              "      <th>PhoneService</th>\n",
              "      <th>PaperlessBilling</th>\n",
              "      <th>Tenure</th>\n",
              "      <th>Contract_encoded</th>\n",
              "      <th>Gender_Female</th>\n",
              "      <th>Gender_Male</th>\n",
              "      <th>SeniorCitizen_No</th>\n",
              "      <th>SeniorCitizen_Yes</th>\n",
              "      <th>MultipleLines_No phone service</th>\n",
              "      <th>...</th>\n",
              "      <th>StreamingTV_No</th>\n",
              "      <th>StreamingTV_No internet service</th>\n",
              "      <th>StreamingTV_Yes</th>\n",
              "      <th>StreamingMovies_No</th>\n",
              "      <th>StreamingMovies_No internet service</th>\n",
              "      <th>StreamingMovies_Yes</th>\n",
              "      <th>PaymentMethod_Bank transfer (automatic)</th>\n",
              "      <th>PaymentMethod_Credit card (automatic)</th>\n",
              "      <th>PaymentMethod_Electronic check</th>\n",
              "      <th>PaymentMethod_Mailed check</th>\n",
              "      <th>Churn</th>\n",
              "    </tr>\n",
              "  </thead>\n",
              "  <tbody>\n",
              "    <tr>\n",
              "      <th>0</th>\n",
              "      <td>1</td>\n",
              "      <td>1</td>\n",
              "      <td>1</td>\n",
              "      <td>1</td>\n",
              "      <td>0.125000</td>\n",
              "      <td>1</td>\n",
              "      <td>1</td>\n",
              "      <td>0</td>\n",
              "      <td>1</td>\n",
              "      <td>0</td>\n",
              "      <td>0</td>\n",
              "      <td>...</td>\n",
              "      <td>0</td>\n",
              "      <td>0</td>\n",
              "      <td>1</td>\n",
              "      <td>1</td>\n",
              "      <td>0</td>\n",
              "      <td>0</td>\n",
              "      <td>0</td>\n",
              "      <td>0</td>\n",
              "      <td>0</td>\n",
              "      <td>1</td>\n",
              "      <td>0</td>\n",
              "    </tr>\n",
              "    <tr>\n",
              "      <th>1</th>\n",
              "      <td>0</td>\n",
              "      <td>0</td>\n",
              "      <td>1</td>\n",
              "      <td>0</td>\n",
              "      <td>0.125000</td>\n",
              "      <td>0</td>\n",
              "      <td>0</td>\n",
              "      <td>1</td>\n",
              "      <td>1</td>\n",
              "      <td>0</td>\n",
              "      <td>0</td>\n",
              "      <td>...</td>\n",
              "      <td>1</td>\n",
              "      <td>0</td>\n",
              "      <td>0</td>\n",
              "      <td>0</td>\n",
              "      <td>0</td>\n",
              "      <td>1</td>\n",
              "      <td>0</td>\n",
              "      <td>0</td>\n",
              "      <td>0</td>\n",
              "      <td>1</td>\n",
              "      <td>0</td>\n",
              "    </tr>\n",
              "    <tr>\n",
              "      <th>2</th>\n",
              "      <td>0</td>\n",
              "      <td>0</td>\n",
              "      <td>1</td>\n",
              "      <td>1</td>\n",
              "      <td>0.055556</td>\n",
              "      <td>0</td>\n",
              "      <td>0</td>\n",
              "      <td>1</td>\n",
              "      <td>1</td>\n",
              "      <td>0</td>\n",
              "      <td>0</td>\n",
              "      <td>...</td>\n",
              "      <td>1</td>\n",
              "      <td>0</td>\n",
              "      <td>0</td>\n",
              "      <td>1</td>\n",
              "      <td>0</td>\n",
              "      <td>0</td>\n",
              "      <td>0</td>\n",
              "      <td>0</td>\n",
              "      <td>1</td>\n",
              "      <td>0</td>\n",
              "      <td>1</td>\n",
              "    </tr>\n",
              "    <tr>\n",
              "      <th>3</th>\n",
              "      <td>1</td>\n",
              "      <td>0</td>\n",
              "      <td>1</td>\n",
              "      <td>1</td>\n",
              "      <td>0.180556</td>\n",
              "      <td>0</td>\n",
              "      <td>0</td>\n",
              "      <td>1</td>\n",
              "      <td>0</td>\n",
              "      <td>1</td>\n",
              "      <td>0</td>\n",
              "      <td>...</td>\n",
              "      <td>0</td>\n",
              "      <td>0</td>\n",
              "      <td>1</td>\n",
              "      <td>0</td>\n",
              "      <td>0</td>\n",
              "      <td>1</td>\n",
              "      <td>0</td>\n",
              "      <td>0</td>\n",
              "      <td>1</td>\n",
              "      <td>0</td>\n",
              "      <td>1</td>\n",
              "    </tr>\n",
              "    <tr>\n",
              "      <th>4</th>\n",
              "      <td>1</td>\n",
              "      <td>0</td>\n",
              "      <td>1</td>\n",
              "      <td>1</td>\n",
              "      <td>0.041667</td>\n",
              "      <td>0</td>\n",
              "      <td>1</td>\n",
              "      <td>0</td>\n",
              "      <td>0</td>\n",
              "      <td>1</td>\n",
              "      <td>0</td>\n",
              "      <td>...</td>\n",
              "      <td>0</td>\n",
              "      <td>0</td>\n",
              "      <td>1</td>\n",
              "      <td>1</td>\n",
              "      <td>0</td>\n",
              "      <td>0</td>\n",
              "      <td>0</td>\n",
              "      <td>0</td>\n",
              "      <td>0</td>\n",
              "      <td>1</td>\n",
              "      <td>1</td>\n",
              "    </tr>\n",
              "  </tbody>\n",
              "</table>\n",
              "<p>5 rows × 36 columns</p>\n",
              "</div>\n",
              "      <button class=\"colab-df-convert\" onclick=\"convertToInteractive('df-384841ed-863f-4d7a-ba46-7061a29b6bb7')\"\n",
              "              title=\"Convert this dataframe to an interactive table.\"\n",
              "              style=\"display:none;\">\n",
              "        \n",
              "  <svg xmlns=\"http://www.w3.org/2000/svg\" height=\"24px\"viewBox=\"0 0 24 24\"\n",
              "       width=\"24px\">\n",
              "    <path d=\"M0 0h24v24H0V0z\" fill=\"none\"/>\n",
              "    <path d=\"M18.56 5.44l.94 2.06.94-2.06 2.06-.94-2.06-.94-.94-2.06-.94 2.06-2.06.94zm-11 1L8.5 8.5l.94-2.06 2.06-.94-2.06-.94L8.5 2.5l-.94 2.06-2.06.94zm10 10l.94 2.06.94-2.06 2.06-.94-2.06-.94-.94-2.06-.94 2.06-2.06.94z\"/><path d=\"M17.41 7.96l-1.37-1.37c-.4-.4-.92-.59-1.43-.59-.52 0-1.04.2-1.43.59L10.3 9.45l-7.72 7.72c-.78.78-.78 2.05 0 2.83L4 21.41c.39.39.9.59 1.41.59.51 0 1.02-.2 1.41-.59l7.78-7.78 2.81-2.81c.8-.78.8-2.07 0-2.86zM5.41 20L4 18.59l7.72-7.72 1.47 1.35L5.41 20z\"/>\n",
              "  </svg>\n",
              "      </button>\n",
              "      \n",
              "  <style>\n",
              "    .colab-df-container {\n",
              "      display:flex;\n",
              "      flex-wrap:wrap;\n",
              "      gap: 12px;\n",
              "    }\n",
              "\n",
              "    .colab-df-convert {\n",
              "      background-color: #E8F0FE;\n",
              "      border: none;\n",
              "      border-radius: 50%;\n",
              "      cursor: pointer;\n",
              "      display: none;\n",
              "      fill: #1967D2;\n",
              "      height: 32px;\n",
              "      padding: 0 0 0 0;\n",
              "      width: 32px;\n",
              "    }\n",
              "\n",
              "    .colab-df-convert:hover {\n",
              "      background-color: #E2EBFA;\n",
              "      box-shadow: 0px 1px 2px rgba(60, 64, 67, 0.3), 0px 1px 3px 1px rgba(60, 64, 67, 0.15);\n",
              "      fill: #174EA6;\n",
              "    }\n",
              "\n",
              "    [theme=dark] .colab-df-convert {\n",
              "      background-color: #3B4455;\n",
              "      fill: #D2E3FC;\n",
              "    }\n",
              "\n",
              "    [theme=dark] .colab-df-convert:hover {\n",
              "      background-color: #434B5C;\n",
              "      box-shadow: 0px 1px 3px 1px rgba(0, 0, 0, 0.15);\n",
              "      filter: drop-shadow(0px 1px 2px rgba(0, 0, 0, 0.3));\n",
              "      fill: #FFFFFF;\n",
              "    }\n",
              "  </style>\n",
              "\n",
              "      <script>\n",
              "        const buttonEl =\n",
              "          document.querySelector('#df-384841ed-863f-4d7a-ba46-7061a29b6bb7 button.colab-df-convert');\n",
              "        buttonEl.style.display =\n",
              "          google.colab.kernel.accessAllowed ? 'block' : 'none';\n",
              "\n",
              "        async function convertToInteractive(key) {\n",
              "          const element = document.querySelector('#df-384841ed-863f-4d7a-ba46-7061a29b6bb7');\n",
              "          const dataTable =\n",
              "            await google.colab.kernel.invokeFunction('convertToInteractive',\n",
              "                                                     [key], {});\n",
              "          if (!dataTable) return;\n",
              "\n",
              "          const docLinkHtml = 'Like what you see? Visit the ' +\n",
              "            '<a target=\"_blank\" href=https://colab.research.google.com/notebooks/data_table.ipynb>data table notebook</a>'\n",
              "            + ' to learn more about interactive tables.';\n",
              "          element.innerHTML = '';\n",
              "          dataTable['output_type'] = 'display_data';\n",
              "          await google.colab.output.renderOutput(dataTable, element);\n",
              "          const docLink = document.createElement('div');\n",
              "          docLink.innerHTML = docLinkHtml;\n",
              "          element.appendChild(docLink);\n",
              "        }\n",
              "      </script>\n",
              "    </div>\n",
              "  </div>\n",
              "  "
            ]
          },
          "metadata": {},
          "execution_count": 291
        }
      ]
    },
    {
      "cell_type": "markdown",
      "source": [
        "## Testing Machine Learning Models"
      ],
      "metadata": {
        "id": "w8jStDK6JYgd"
      },
      "id": "w8jStDK6JYgd"
    },
    {
      "cell_type": "markdown",
      "source": [
        "### K-Nearest Neightbors (KNN) Model"
      ],
      "metadata": {
        "id": "IVhVR_4oS2rY"
      },
      "id": "IVhVR_4oS2rY"
    },
    {
      "cell_type": "markdown",
      "source": [
        "Dividing  inputs and outputs and standardize the scale of our dataset"
      ],
      "metadata": {
        "id": "9zteeGP9HZj2"
      },
      "id": "9zteeGP9HZj2"
    },
    {
      "cell_type": "code",
      "source": [
        "x = df.drop('Churn', axis=1)\n",
        "y = df['Churn']"
      ],
      "metadata": {
        "id": "WBTvB1alYg7o"
      },
      "id": "WBTvB1alYg7o",
      "execution_count": null,
      "outputs": []
    },
    {
      "cell_type": "code",
      "source": [
        "from sklearn.preprocessing import StandardScaler"
      ],
      "metadata": {
        "id": "UYgIMnA3Uy-3"
      },
      "id": "UYgIMnA3Uy-3",
      "execution_count": null,
      "outputs": []
    },
    {
      "cell_type": "code",
      "source": [
        "norm = StandardScaler()\n",
        "x_normalize = norm.fit_transform(x)\n",
        "x_normalize"
      ],
      "metadata": {
        "id": "x29G2Eh-VDZI",
        "colab": {
          "base_uri": "https://localhost:8080/"
        },
        "outputId": "06b2cccc-1f32-4a6f-b901-311c68c23628"
      },
      "id": "x29G2Eh-VDZI",
      "execution_count": null,
      "outputs": [
        {
          "output_type": "execute_result",
          "data": {
            "text/plain": [
              "array([[ 1.29139377,  1.89983002,  0.33693666, ..., -0.42307274,\n",
              "        -0.73601381,  2.13133331],\n",
              "       [-0.77435715, -0.52636288,  0.33693666, ..., -0.42307274,\n",
              "        -0.73601381,  2.13133331],\n",
              "       [-0.77435715, -0.52636288,  0.33693666, ..., -0.42307274,\n",
              "         1.35867016, -0.46918987],\n",
              "       ...,\n",
              "       [-0.77435715, -0.52636288,  0.33693666, ..., -0.42307274,\n",
              "        -0.73601381, -0.46918987],\n",
              "       [-0.77435715, -0.52636288,  0.33693666, ..., -0.42307274,\n",
              "         1.35867016, -0.46918987],\n",
              "       [-0.77435715, -0.52636288,  0.33693666, ..., -0.42307274,\n",
              "         1.35867016, -0.46918987]])"
            ]
          },
          "metadata": {},
          "execution_count": 81
        }
      ]
    },
    {
      "cell_type": "code",
      "source": [
        "from sklearn.preprocessing import LabelEncoder"
      ],
      "metadata": {
        "id": "GBbtUHf4fbwW"
      },
      "id": "GBbtUHf4fbwW",
      "execution_count": null,
      "outputs": []
    },
    {
      "cell_type": "markdown",
      "source": [
        "Implement, train and test KNN model"
      ],
      "metadata": {
        "id": "P3wrIfeBObH7"
      },
      "id": "P3wrIfeBObH7"
    },
    {
      "cell_type": "code",
      "source": [
        "from sklearn.model_selection import train_test_split\n",
        "x_train, x_test, y_train, y_test = train_test_split(x_normalize, y, test_size=0.3, random_state=42)"
      ],
      "metadata": {
        "id": "XeKlmdbcgZca"
      },
      "id": "XeKlmdbcgZca",
      "execution_count": null,
      "outputs": []
    },
    {
      "cell_type": "code",
      "source": [
        "from sklearn.neighbors import KNeighborsClassifier"
      ],
      "metadata": {
        "id": "YZCH1o1UOVhb"
      },
      "id": "YZCH1o1UOVhb",
      "execution_count": null,
      "outputs": []
    },
    {
      "cell_type": "code",
      "source": [
        "knn = KNeighborsClassifier(metric='euclidean')"
      ],
      "metadata": {
        "id": "jlieMXUFOVpY"
      },
      "id": "jlieMXUFOVpY",
      "execution_count": null,
      "outputs": []
    },
    {
      "cell_type": "code",
      "source": [
        "knn.fit(x_train, y_train)"
      ],
      "metadata": {
        "colab": {
          "base_uri": "https://localhost:8080/"
        },
        "id": "OZIBkHVVOVwZ",
        "outputId": "ea947f0c-1f86-471d-ce44-5a16c735aca7"
      },
      "id": "OZIBkHVVOVwZ",
      "execution_count": null,
      "outputs": [
        {
          "output_type": "execute_result",
          "data": {
            "text/plain": [
              "KNeighborsClassifier(metric='euclidean')"
            ]
          },
          "metadata": {},
          "execution_count": 91
        }
      ]
    },
    {
      "cell_type": "code",
      "source": [
        "predict_knn = knn.predict(x_test)\n",
        "predict_knn"
      ],
      "metadata": {
        "colab": {
          "base_uri": "https://localhost:8080/"
        },
        "id": "GzaXhcYzPX3l",
        "outputId": "c36f7128-20da-4ff5-f7a9-39b5b3f76169"
      },
      "id": "GzaXhcYzPX3l",
      "execution_count": null,
      "outputs": [
        {
          "output_type": "execute_result",
          "data": {
            "text/plain": [
              "array([1, 0, 1, ..., 1, 0, 0])"
            ]
          },
          "metadata": {},
          "execution_count": 92
        }
      ]
    },
    {
      "cell_type": "code",
      "source": [
        "K-Nearest Neightbors (KNN) Model"
      ],
      "metadata": {
        "id": "yMf4IDA2PX6C"
      },
      "id": "yMf4IDA2PX6C",
      "execution_count": null,
      "outputs": []
    },
    {
      "cell_type": "markdown",
      "source": [
        "###Bernoulli Naive Bayes Model"
      ],
      "metadata": {
        "id": "qd0rik4Xa30y"
      },
      "id": "qd0rik4Xa30y"
    },
    {
      "cell_type": "code",
      "source": [
        "np.mean(x_train)"
      ],
      "metadata": {
        "colab": {
          "base_uri": "https://localhost:8080/"
        },
        "id": "VMlQKLs7PX9N",
        "outputId": "92b534b5-ac1f-49be-f68c-dfe8c1608fcf"
      },
      "id": "VMlQKLs7PX9N",
      "execution_count": null,
      "outputs": [
        {
          "output_type": "execute_result",
          "data": {
            "text/plain": [
              "-0.001706849767715143"
            ]
          },
          "metadata": {},
          "execution_count": 102
        }
      ]
    },
    {
      "cell_type": "code",
      "source": [
        "from sklearn.naive_bayes import BernoulliNB"
      ],
      "metadata": {
        "id": "1yTHxSQkPYBA"
      },
      "id": "1yTHxSQkPYBA",
      "execution_count": null,
      "outputs": []
    },
    {
      "cell_type": "code",
      "source": [
        "bnb = BernoulliNB(binarize=-0.0017) # by doing this, everything before and after -0.0017 will be binarize to 0 and 1"
      ],
      "metadata": {
        "id": "kZg5l1jwg_ql"
      },
      "id": "kZg5l1jwg_ql",
      "execution_count": null,
      "outputs": []
    },
    {
      "cell_type": "code",
      "source": [
        "bnb.fit(x_train, y_train)"
      ],
      "metadata": {
        "id": "Y0ppcqeQfmOw",
        "colab": {
          "base_uri": "https://localhost:8080/"
        },
        "outputId": "6aa5611e-0a30-4045-93ec-3325387c0d64"
      },
      "id": "Y0ppcqeQfmOw",
      "execution_count": null,
      "outputs": [
        {
          "output_type": "execute_result",
          "data": {
            "text/plain": [
              "BernoulliNB(binarize=-0.0017)"
            ]
          },
          "metadata": {},
          "execution_count": 100
        }
      ]
    },
    {
      "cell_type": "code",
      "source": [
        "predict_bnb = bnb.predict(x_test)"
      ],
      "metadata": {
        "id": "A05AJ05tcBw6"
      },
      "id": "A05AJ05tcBw6",
      "execution_count": null,
      "outputs": []
    },
    {
      "cell_type": "code",
      "source": [
        "predict_bnb"
      ],
      "metadata": {
        "colab": {
          "base_uri": "https://localhost:8080/"
        },
        "id": "lPV6_BOVcBzm",
        "outputId": "e118010c-c3d3-49d6-8fd0-e92854ced702"
      },
      "id": "lPV6_BOVcBzm",
      "execution_count": null,
      "outputs": [
        {
          "output_type": "execute_result",
          "data": {
            "text/plain": [
              "array([1, 0, 1, ..., 1, 0, 0])"
            ]
          },
          "metadata": {},
          "execution_count": 104
        }
      ]
    },
    {
      "cell_type": "markdown",
      "source": [
        "### Decision Tree"
      ],
      "metadata": {
        "id": "LngnfT_rlQCQ"
      },
      "id": "LngnfT_rlQCQ"
    },
    {
      "cell_type": "code",
      "source": [
        "from sklearn.tree import DecisionTreeClassifier"
      ],
      "metadata": {
        "id": "Y2b_4yyYlSJI"
      },
      "id": "Y2b_4yyYlSJI",
      "execution_count": null,
      "outputs": []
    },
    {
      "cell_type": "code",
      "source": [
        "dtc = DecisionTreeClassifier(criterion='entropy', random_state=42)"
      ],
      "metadata": {
        "id": "wzNIboiHlSMD"
      },
      "id": "wzNIboiHlSMD",
      "execution_count": null,
      "outputs": []
    },
    {
      "cell_type": "code",
      "source": [
        "dtc.fit(x_train, y_train)"
      ],
      "metadata": {
        "colab": {
          "base_uri": "https://localhost:8080/"
        },
        "id": "u1kl8lqGlSPL",
        "outputId": "50babdea-4630-42ff-cb9d-3fbc5f2dc30d"
      },
      "id": "u1kl8lqGlSPL",
      "execution_count": null,
      "outputs": [
        {
          "output_type": "execute_result",
          "data": {
            "text/plain": [
              "DecisionTreeClassifier(criterion='entropy', random_state=42)"
            ]
          },
          "metadata": {},
          "execution_count": 109
        }
      ]
    },
    {
      "cell_type": "code",
      "source": [
        "dtc.feature_importances_"
      ],
      "metadata": {
        "colab": {
          "base_uri": "https://localhost:8080/"
        },
        "id": "KGSfDn1TlSRy",
        "outputId": "0a297140-3bb6-484f-8f90-f2c0d6b485d5"
      },
      "id": "KGSfDn1TlSRy",
      "execution_count": null,
      "outputs": [
        {
          "output_type": "execute_result",
          "data": {
            "text/plain": [
              "array([0.01402036, 0.01086372, 0.        , 0.01861792, 0.09853785,\n",
              "       0.06523803, 0.08613153, 0.12502342, 0.01019709, 0.01720863,\n",
              "       0.01051407, 0.00772638, 0.01776027, 0.00797414, 0.01900959,\n",
              "       0.00529438, 0.02780374, 0.        , 0.01337269, 0.        ,\n",
              "       0.01445243, 0.00477951, 0.        , 0.01038531, 0.0069172 ,\n",
              "       0.        , 0.00401126, 0.00801974, 0.01168583, 0.01190184,\n",
              "       0.00306423, 0.        , 0.00294134, 0.00734852, 0.00027689,\n",
              "       0.00908883, 0.02701052, 0.11222512, 0.14853429, 0.01522142,\n",
              "       0.01202259, 0.01552103, 0.01929825])"
            ]
          },
          "metadata": {},
          "execution_count": 110
        }
      ]
    },
    {
      "cell_type": "code",
      "source": [
        "predict_DecTree = dtc.predict(x_test)"
      ],
      "metadata": {
        "id": "I7n9p5dxlSUS"
      },
      "id": "I7n9p5dxlSUS",
      "execution_count": null,
      "outputs": []
    },
    {
      "cell_type": "code",
      "source": [
        "predict_DecTree"
      ],
      "metadata": {
        "colab": {
          "base_uri": "https://localhost:8080/"
        },
        "id": "0ZZPVYxqlSW8",
        "outputId": "a5cbd4ac-1d70-4f01-d66e-fe5a710dde90"
      },
      "id": "0ZZPVYxqlSW8",
      "execution_count": null,
      "outputs": [
        {
          "output_type": "execute_result",
          "data": {
            "text/plain": [
              "array([1, 0, 1, ..., 1, 0, 0])"
            ]
          },
          "metadata": {},
          "execution_count": 112
        }
      ]
    },
    {
      "cell_type": "markdown",
      "source": [
        "###Evaluate KNN, Naive Bayers and Decision Tree Models"
      ],
      "metadata": {
        "id": "RhZSFl8kqj2b"
      },
      "id": "RhZSFl8kqj2b"
    },
    {
      "cell_type": "markdown",
      "source": [
        "There are many metrics to evaluate each models, but for this case we choose Precision and another one under development"
      ],
      "metadata": {
        "id": "ephibP1EhOjp"
      },
      "id": "ephibP1EhOjp"
    },
    {
      "cell_type": "code",
      "source": [
        "import matplotlib.pyplot as plt\n",
        "from sklearn.cluster import KMeans\n",
        "wcss = []\n",
        "for i in range (1,11):\n",
        "  kmeans = KMeans(n_clusters = i, init = 'k.means++', random_state=42)\n",
        "  kmeans.fit(categ_cols)\n",
        "  wcss.append(kmeans.inertia_)\n",
        "plt.plot(range(1,11), wcss)\n",
        "plt.title('The Elbow Method')\n",
        "plt.xlabel('Number of Clusters')\n",
        "plt.ylabel('WCSS')\n",
        "plt.show()"
      ],
      "metadata": {
        "id": "v3qwsVKyqsuF"
      },
      "id": "v3qwsVKyqsuF",
      "execution_count": null,
      "outputs": []
    },
    {
      "cell_type": "code",
      "source": [],
      "metadata": {
        "id": "QJROXzeja53V"
      },
      "id": "QJROXzeja53V",
      "execution_count": null,
      "outputs": []
    }
  ],
  "metadata": {
    "colab": {
      "provenance": [],
      "collapsed_sections": [],
      "toc_visible": true
    },
    "kernelspec": {
      "display_name": "Python 3 (ipykernel)",
      "language": "python",
      "name": "python3"
    },
    "language_info": {
      "codemirror_mode": {
        "name": "ipython",
        "version": 3
      },
      "file_extension": ".py",
      "mimetype": "text/x-python",
      "name": "python",
      "nbconvert_exporter": "python",
      "pygments_lexer": "ipython3",
      "version": "3.9.7"
    }
  },
  "nbformat": 4,
  "nbformat_minor": 5
}