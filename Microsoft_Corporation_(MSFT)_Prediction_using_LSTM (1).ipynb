{
  "cells": [
    {
      "cell_type": "markdown",
      "metadata": {
        "id": "3l_hJMw6NrWN"
      },
      "source": [
        "# Microsoft Corpotarion (MSFT) Prediction using LSTM"
      ]
    },
    {
      "cell_type": "markdown",
      "metadata": {
        "id": "ebkLVw1bODfV"
      },
      "source": [
        "## Context\n",
        "I'm going to use quote history since they release in Mar 12th of 1986 until Oct 24th of 2022 and use Long-short term memory model (LSTM Model) to predict future quote prices. Dataset can be found on Yahoo Finance where you can access through the following link: https://finance.yahoo.com/quote/MSFT/history/\n",
        "\n",
        "Long-short term memory is a special kind of recurrent neural network that is capable of learning long term dependencies in data, you can find an article explaining in easy and summary way on Analytcs Vidhya written by Shipra Saxena. \n",
        "\n",
        "https://www.analyticsvidhya.com/blog/2021/03/introduction-to-long-short-term-memory-lstm/\n",
        "\n"
      ]
    },
    {
      "cell_type": "markdown",
      "metadata": {
        "id": "Maq6YtJnQzAU"
      },
      "source": [
        "## Objective:\n",
        "Examine/clean the dataset;\n",
        "\n",
        "Explore dataset distributions features using statistics and plots;\n",
        "\n",
        "Apply LSTM Neural Networks to forecast next few days"
      ]
    },
    {
      "cell_type": "markdown",
      "metadata": {
        "id": "l2NZ5vu7TgR5"
      },
      "source": [
        "### Import Dependencies"
      ]
    },
    {
      "cell_type": "code",
      "execution_count": null,
      "metadata": {
        "colab": {
          "base_uri": "https://localhost:8080/",
          "height": 35
        },
        "id": "CgBGEh3kO_P9",
        "outputId": "1c986d5c-4523-4d4a-8dc1-49961496585d"
      },
      "outputs": [
        {
          "data": {
            "text/plain": [
              "'2.10.0'"
            ]
          },
          "execution_count": 4,
          "metadata": {},
          "output_type": "execute_result"
        }
      ],
      "source": [
        " import numpy as np\n",
        " import pandas as pd\n",
        " import matplotlib.pyplot as plt\n",
        " %matplotlib inline\n",
        " from sklearn.preprocessing import MinMaxScaler\n",
        " from tensorflow.keras.models import Sequential, load_model\n",
        " from tensorflow.keras.layers import LSTM, Dense, Dropout\n",
        " import os\n",
        " import tensorflow as tf\n",
        " tf.__version__"
      ]
    },
    {
      "cell_type": "code",
      "execution_count": null,
      "metadata": {
        "colab": {
          "base_uri": "https://localhost:8080/",
          "height": 424
        },
        "id": "ZRHjzzzCRYsN",
        "outputId": "f4a300f3-68ab-48c3-9ecf-871c58227476"
      },
      "outputs": [
        {
          "data": {
            "text/html": [
              "<div>\n",
              "<style scoped>\n",
              "    .dataframe tbody tr th:only-of-type {\n",
              "        vertical-align: middle;\n",
              "    }\n",
              "\n",
              "    .dataframe tbody tr th {\n",
              "        vertical-align: top;\n",
              "    }\n",
              "\n",
              "    .dataframe thead th {\n",
              "        text-align: right;\n",
              "    }\n",
              "</style>\n",
              "<table border=\"1\" class=\"dataframe\">\n",
              "  <thead>\n",
              "    <tr style=\"text-align: right;\">\n",
              "      <th></th>\n",
              "      <th>Date</th>\n",
              "      <th>Open</th>\n",
              "      <th>High</th>\n",
              "      <th>Low</th>\n",
              "      <th>Close</th>\n",
              "      <th>Adj Close</th>\n",
              "      <th>Volume</th>\n",
              "      <th>Name</th>\n",
              "    </tr>\n",
              "  </thead>\n",
              "  <tbody>\n",
              "    <tr>\n",
              "      <th>0</th>\n",
              "      <td>3/13/1986</td>\n",
              "      <td>0.088542</td>\n",
              "      <td>0.101563</td>\n",
              "      <td>0.088542</td>\n",
              "      <td>0.097222</td>\n",
              "      <td>0.060980</td>\n",
              "      <td>1031788800</td>\n",
              "      <td>MFST</td>\n",
              "    </tr>\n",
              "    <tr>\n",
              "      <th>1</th>\n",
              "      <td>3/14/1986</td>\n",
              "      <td>0.097222</td>\n",
              "      <td>0.102431</td>\n",
              "      <td>0.097222</td>\n",
              "      <td>0.100694</td>\n",
              "      <td>0.063158</td>\n",
              "      <td>308160000</td>\n",
              "      <td>MFST</td>\n",
              "    </tr>\n",
              "    <tr>\n",
              "      <th>2</th>\n",
              "      <td>3/17/1986</td>\n",
              "      <td>0.100694</td>\n",
              "      <td>0.103299</td>\n",
              "      <td>0.100694</td>\n",
              "      <td>0.102431</td>\n",
              "      <td>0.064247</td>\n",
              "      <td>133171200</td>\n",
              "      <td>MFST</td>\n",
              "    </tr>\n",
              "    <tr>\n",
              "      <th>3</th>\n",
              "      <td>3/18/1986</td>\n",
              "      <td>0.102431</td>\n",
              "      <td>0.103299</td>\n",
              "      <td>0.098958</td>\n",
              "      <td>0.099826</td>\n",
              "      <td>0.062613</td>\n",
              "      <td>67766400</td>\n",
              "      <td>MFST</td>\n",
              "    </tr>\n",
              "    <tr>\n",
              "      <th>4</th>\n",
              "      <td>3/19/1986</td>\n",
              "      <td>0.099826</td>\n",
              "      <td>0.100694</td>\n",
              "      <td>0.097222</td>\n",
              "      <td>0.098090</td>\n",
              "      <td>0.061524</td>\n",
              "      <td>47894400</td>\n",
              "      <td>MFST</td>\n",
              "    </tr>\n",
              "    <tr>\n",
              "      <th>...</th>\n",
              "      <td>...</td>\n",
              "      <td>...</td>\n",
              "      <td>...</td>\n",
              "      <td>...</td>\n",
              "      <td>...</td>\n",
              "      <td>...</td>\n",
              "      <td>...</td>\n",
              "      <td>...</td>\n",
              "    </tr>\n",
              "    <tr>\n",
              "      <th>9225</th>\n",
              "      <td>10/18/2022</td>\n",
              "      <td>243.240005</td>\n",
              "      <td>243.929993</td>\n",
              "      <td>235.369995</td>\n",
              "      <td>238.500000</td>\n",
              "      <td>238.500000</td>\n",
              "      <td>26329600</td>\n",
              "      <td>MFST</td>\n",
              "    </tr>\n",
              "    <tr>\n",
              "      <th>9226</th>\n",
              "      <td>10/19/2022</td>\n",
              "      <td>237.039993</td>\n",
              "      <td>239.610001</td>\n",
              "      <td>234.289993</td>\n",
              "      <td>236.479996</td>\n",
              "      <td>236.479996</td>\n",
              "      <td>19985700</td>\n",
              "      <td>MFST</td>\n",
              "    </tr>\n",
              "    <tr>\n",
              "      <th>9227</th>\n",
              "      <td>10/20/2022</td>\n",
              "      <td>235.770004</td>\n",
              "      <td>241.309998</td>\n",
              "      <td>234.869995</td>\n",
              "      <td>236.149994</td>\n",
              "      <td>236.149994</td>\n",
              "      <td>21811000</td>\n",
              "      <td>MFST</td>\n",
              "    </tr>\n",
              "    <tr>\n",
              "      <th>9228</th>\n",
              "      <td>10/21/2022</td>\n",
              "      <td>234.740005</td>\n",
              "      <td>243.000000</td>\n",
              "      <td>234.500000</td>\n",
              "      <td>242.119995</td>\n",
              "      <td>242.119995</td>\n",
              "      <td>26280900</td>\n",
              "      <td>MFST</td>\n",
              "    </tr>\n",
              "    <tr>\n",
              "      <th>9229</th>\n",
              "      <td>10/24/2022</td>\n",
              "      <td>243.759995</td>\n",
              "      <td>247.839996</td>\n",
              "      <td>241.300003</td>\n",
              "      <td>247.250000</td>\n",
              "      <td>247.250000</td>\n",
              "      <td>24865800</td>\n",
              "      <td>MFST</td>\n",
              "    </tr>\n",
              "  </tbody>\n",
              "</table>\n",
              "<p>9230 rows × 8 columns</p>\n",
              "</div>"
            ],
            "text/plain": [
              "            Date        Open        High         Low       Close   Adj Close  \\\n",
              "0      3/13/1986    0.088542    0.101563    0.088542    0.097222    0.060980   \n",
              "1      3/14/1986    0.097222    0.102431    0.097222    0.100694    0.063158   \n",
              "2      3/17/1986    0.100694    0.103299    0.100694    0.102431    0.064247   \n",
              "3      3/18/1986    0.102431    0.103299    0.098958    0.099826    0.062613   \n",
              "4      3/19/1986    0.099826    0.100694    0.097222    0.098090    0.061524   \n",
              "...          ...         ...         ...         ...         ...         ...   \n",
              "9225  10/18/2022  243.240005  243.929993  235.369995  238.500000  238.500000   \n",
              "9226  10/19/2022  237.039993  239.610001  234.289993  236.479996  236.479996   \n",
              "9227  10/20/2022  235.770004  241.309998  234.869995  236.149994  236.149994   \n",
              "9228  10/21/2022  234.740005  243.000000  234.500000  242.119995  242.119995   \n",
              "9229  10/24/2022  243.759995  247.839996  241.300003  247.250000  247.250000   \n",
              "\n",
              "          Volume  Name  \n",
              "0     1031788800  MFST  \n",
              "1      308160000  MFST  \n",
              "2      133171200  MFST  \n",
              "3       67766400  MFST  \n",
              "4       47894400  MFST  \n",
              "...          ...   ...  \n",
              "9225    26329600  MFST  \n",
              "9226    19985700  MFST  \n",
              "9227    21811000  MFST  \n",
              "9228    26280900  MFST  \n",
              "9229    24865800  MFST  \n",
              "\n",
              "[9230 rows x 8 columns]"
            ]
          },
          "execution_count": 5,
          "metadata": {},
          "output_type": "execute_result"
        }
      ],
      "source": [
        "df = pd.read_csv('MSFT.csv')\n",
        "df"
      ]
    },
    {
      "cell_type": "markdown",
      "metadata": {
        "id": "OjuBd-UfR4Jx"
      },
      "source": [
        "Let's only Close quote values and transform to array so we can work with it"
      ]
    },
    {
      "cell_type": "code",
      "execution_count": null,
      "metadata": {
        "colab": {
          "base_uri": "https://localhost:8080/"
        },
        "id": "PtA7n4zXRZLm",
        "outputId": "a58af55c-bd84-422d-e386-0f6e09fc1eaf"
      },
      "outputs": [
        {
          "name": "stdout",
          "output_type": "stream",
          "text": [
            "(9230, 1)\n"
          ]
        },
        {
          "data": {
            "text/plain": [
              "array([[0.097222],\n",
              "       [0.100694],\n",
              "       [0.102431],\n",
              "       [0.099826],\n",
              "       [0.09809 ]])"
            ]
          },
          "execution_count": 6,
          "metadata": {},
          "output_type": "execute_result"
        }
      ],
      "source": [
        "df = df['Close'].values\n",
        "df = df.reshape(-1,1)\n",
        "print(df.shape)\n",
        "df[:5]"
      ]
    },
    {
      "cell_type": "code",
      "execution_count": null,
      "metadata": {
        "id": "GRMb4HA3UT7g"
      },
      "outputs": [],
      "source": [
        "dataset_train = np.array(df[:int(df.shape[0]*0.8)])\n",
        "dataset_test = np.array(df[int(df.shape[0]*0.8)-50:]) #that 50 is overlap, a few more for prediction later"
      ]
    },
    {
      "cell_type": "code",
      "execution_count": null,
      "metadata": {
        "colab": {
          "base_uri": "https://localhost:8080/"
        },
        "id": "FLjsaZowUT-c",
        "outputId": "fab792de-3e29-4f19-e682-a9f3527b3247"
      },
      "outputs": [
        {
          "data": {
            "text/plain": [
              "(7384, 1)"
            ]
          },
          "execution_count": 8,
          "metadata": {},
          "output_type": "execute_result"
        }
      ],
      "source": [
        "dataset_train.shape"
      ]
    },
    {
      "cell_type": "code",
      "execution_count": null,
      "metadata": {
        "colab": {
          "base_uri": "https://localhost:8080/"
        },
        "id": "K9S7CSscUUBD",
        "outputId": "2f593fb9-6473-4715-c5c5-ce8b9af896e3"
      },
      "outputs": [
        {
          "data": {
            "text/plain": [
              "(1896, 1)"
            ]
          },
          "execution_count": 9,
          "metadata": {},
          "output_type": "execute_result"
        }
      ],
      "source": [
        "dataset_test.shape"
      ]
    },
    {
      "cell_type": "markdown",
      "metadata": {
        "id": "_1l7ZUfAZpAg"
      },
      "source": [
        "### Preprocessing the Dataset"
      ]
    },
    {
      "cell_type": "markdown",
      "metadata": {
        "id": "SOR9y8K3Xcq0"
      },
      "source": [
        "Now let's scale our dataset just to make sure our network will run properly. I'll scale quote values in a range between 0 and 1"
      ]
    },
    {
      "cell_type": "code",
      "execution_count": null,
      "metadata": {
        "colab": {
          "base_uri": "https://localhost:8080/"
        },
        "id": "WeT88wUaUUD_",
        "outputId": "e70f60ae-85e4-4af3-ffd3-c97249a13871"
      },
      "outputs": [
        {
          "data": {
            "text/plain": [
              "array([[0.00011676],\n",
              "       [0.00017514],\n",
              "       [0.00020435],\n",
              "       [0.00016055],\n",
              "       [0.00013136]])"
            ]
          },
          "execution_count": 10,
          "metadata": {},
          "output_type": "execute_result"
        }
      ],
      "source": [
        "scaler = MinMaxScaler(feature_range=(0,1))\n",
        "dataset_train = scaler.fit_transform(dataset_train)\n",
        "dataset_train[:5]"
      ]
    },
    {
      "cell_type": "code",
      "execution_count": null,
      "metadata": {
        "colab": {
          "base_uri": "https://localhost:8080/"
        },
        "id": "nB6dRaPeUUGh",
        "outputId": "e1d84bb2-48fc-42e5-b43c-5a759be01613"
      },
      "outputs": [
        {
          "data": {
            "text/plain": [
              "array([[0.7073844 ],\n",
              "       [0.69830451],\n",
              "       [0.71999533],\n",
              "       [0.71545538],\n",
              "       [0.72134053]])"
            ]
          },
          "execution_count": 11,
          "metadata": {},
          "output_type": "execute_result"
        }
      ],
      "source": [
        "dataset_test = scaler.transform(dataset_test) # it's interesting to noticed that for my network, dataset_test is unknown, that's why we don't use fit_transform\n",
        "dataset_test[:5]"
      ]
    },
    {
      "cell_type": "code",
      "execution_count": null,
      "metadata": {
        "id": "C5wgnaTFUUJN"
      },
      "outputs": [],
      "source": [
        "def create_my_dataset(df):\n",
        "  x = []\n",
        "  y = []\n",
        "  for i in range(50, df.shape[0]):\n",
        "      x.append(df[i-50:i,0]) # 50-50=0 then start with i\n",
        "      y.append(df[i,0])\n",
        "  x = np.array(x)\n",
        "  y = np.array(y)\n",
        "  return x,y"
      ]
    },
    {
      "cell_type": "code",
      "execution_count": null,
      "metadata": {
        "colab": {
          "base_uri": "https://localhost:8080/"
        },
        "id": "8e-OUKfEUUMD",
        "outputId": "68d41609-3220-402e-c809-71214ef8b2f2"
      },
      "outputs": [
        {
          "name": "stdout",
          "output_type": "stream",
          "text": [
            "[[1.16760393e-04 1.75140589e-04 2.04347502e-04 1.60545540e-04\n",
            "  1.31355442e-04 8.75702946e-05 4.37851473e-05 0.00000000e+00\n",
            "  2.91900982e-05 7.29752455e-05 1.02165344e-04 8.75702946e-05\n",
            "  7.29752455e-05 8.75702946e-05 1.02165344e-04 1.02165344e-04\n",
            "  7.29752455e-05 8.75702946e-05 1.16760393e-04 1.31355442e-04\n",
            "  1.60545540e-04 1.75140589e-04 1.75140589e-04 2.33537600e-04\n",
            "  2.48132649e-04 1.89752453e-04 1.89752453e-04 1.60545540e-04\n",
            "  1.67843065e-04 3.35702944e-04 4.52480151e-04 4.67075200e-04\n",
            "  4.08678189e-04 3.64893042e-04 3.35702944e-04 3.35702944e-04\n",
            "  3.21107895e-04 3.35702944e-04 3.35702944e-04 3.50297993e-04\n",
            "  3.35702944e-04 3.50297993e-04 3.64893042e-04 3.50297993e-04\n",
            "  3.50297993e-04 3.64893042e-04 3.35702944e-04 3.21107895e-04\n",
            "  2.91917797e-04 2.91917797e-04]]\n"
          ]
        },
        {
          "data": {
            "text/plain": [
              "(1, 50)"
            ]
          },
          "execution_count": 13,
          "metadata": {},
          "output_type": "execute_result"
        }
      ],
      "source": [
        "x_train, y_train = create_my_dataset(dataset_train)\n",
        "print(x_train[:1])\n",
        "x_train[:1].shape"
      ]
    },
    {
      "cell_type": "code",
      "execution_count": null,
      "metadata": {
        "colab": {
          "base_uri": "https://localhost:8080/"
        },
        "id": "L9-AffydUUO-",
        "outputId": "0e80ae70-57e9-4ac8-c3cd-fd28ad64e4c2"
      },
      "outputs": [
        {
          "name": "stdout",
          "output_type": "stream",
          "text": [
            "[[0.7073844  0.69830451 0.71999533 0.71545538 0.72134053 0.72722559\n",
            "  0.80339559 0.80608592 0.82508641 0.82340497 0.81634281 0.81667912\n",
            "  0.80961703 0.79885564 0.77666042 0.78372258 0.80137786 0.79498831\n",
            "  0.794652   0.79936013 0.81768801 0.81062586 0.80574962 0.79851942\n",
            "  0.79851942 0.79582902 0.78708551 0.78187296 0.79902384 0.79633351\n",
            "  0.78641291 0.79263428 0.78742173 0.78624471 0.77800562 0.77430638\n",
            "  0.76741242 0.76606729 0.78220926 0.77935075 0.77144794 0.76320878\n",
            "  0.76909391 0.77144794 0.78405887 0.77363378 0.77581971 0.77043905\n",
            "  0.76589909 0.76606729]]\n"
          ]
        },
        {
          "data": {
            "text/plain": [
              "(1, 50)"
            ]
          },
          "execution_count": 14,
          "metadata": {},
          "output_type": "execute_result"
        }
      ],
      "source": [
        "x_test, y_test = create_my_dataset(dataset_test)\n",
        "print(x_test[:1])\n",
        "x_test[:1].shape"
      ]
    },
    {
      "cell_type": "markdown",
      "metadata": {
        "id": "OtO9gepdcH_d"
      },
      "source": [
        "### Training LSTM Network"
      ]
    },
    {
      "cell_type": "markdown",
      "metadata": {
        "id": "WKlUeGZbhYmU"
      },
      "source": [
        "Let's prepare our model adding an amount of 126 neurons in this layers. We may think that the higher the numbers of neurons - layers, it's better, but we have to keep in mind that's is a tradeoff between the time we want to invest in creating the network and the performance of the network. Higher network means more investing time. That's not a rule, but in general this is what happen"
      ]
    },
    {
      "cell_type": "code",
      "execution_count": null,
      "metadata": {
        "colab": {
          "base_uri": "https://localhost:8080/"
        },
        "id": "WJWEF90myArl",
        "outputId": "3ff0cb0e-d126-454f-d246-ddafbc4f7061"
      },
      "outputs": [
        {
          "name": "stdout",
          "output_type": "stream",
          "text": [
            "(7334, 50, 1)\n",
            "(1846, 50, 1)\n"
          ]
        }
      ],
      "source": [
        "#x_train.shape\n",
        "#(7334,50,1)\n",
        "x_train = np.reshape(x_train,(x_train.shape[0], x_train.shape[1],1))\n",
        "x_test = np.reshape(x_test,(x_test.shape[0], x_test.shape[1],1))\n",
        "print(x_train.shape)\n",
        "print(x_test.shape)"
      ]
    },
    {
      "cell_type": "code",
      "execution_count": null,
      "metadata": {
        "id": "NlWcPVhpUURp"
      },
      "outputs": [],
      "source": [
        "model = Sequential()\n",
        "model.add(LSTM(units=126, return_sequences=True, input_shape=(x_train.shape[1],1))) #first argument is the shape, second is the feature\n",
        "model.add(Dropout(0.2)) # 20% of all neurons will cut off to avoid overfitting\n",
        "model.add(LSTM(units=126, return_sequences=True))\n",
        "model.add(Dropout(0.2))\n",
        "model.add(LSTM(units=126))\n",
        "model.add(Dropout(0.2))\n",
        "model.add(Dense(units=1))"
      ]
    },
    {
      "cell_type": "code",
      "execution_count": null,
      "metadata": {
        "colab": {
          "base_uri": "https://localhost:8080/"
        },
        "id": "nd3JrNuvd6Xu",
        "outputId": "d50d0a4f-e6ad-4d01-9ae9-db68ecfc4b45"
      },
      "outputs": [
        {
          "name": "stdout",
          "output_type": "stream",
          "text": [
            "Model: \"sequential\"\n",
            "_________________________________________________________________\n",
            " Layer (type)                Output Shape              Param #   \n",
            "=================================================================\n",
            " lstm (LSTM)                 (None, 50, 126)           64512     \n",
            "                                                                 \n",
            " dropout (Dropout)           (None, 50, 126)           0         \n",
            "                                                                 \n",
            " lstm_1 (LSTM)               (None, 50, 126)           127512    \n",
            "                                                                 \n",
            " dropout_1 (Dropout)         (None, 50, 126)           0         \n",
            "                                                                 \n",
            " lstm_2 (LSTM)               (None, 126)               127512    \n",
            "                                                                 \n",
            " dropout_2 (Dropout)         (None, 126)               0         \n",
            "                                                                 \n",
            " dense (Dense)               (None, 1)                 127       \n",
            "                                                                 \n",
            "=================================================================\n",
            "Total params: 319,663\n",
            "Trainable params: 319,663\n",
            "Non-trainable params: 0\n",
            "_________________________________________________________________\n"
          ]
        }
      ],
      "source": [
        "model.summary()"
      ]
    },
    {
      "cell_type": "markdown",
      "metadata": {
        "id": "_k03apVAsaVz"
      },
      "source": [
        "I'll define the loss and training from next steps, on loss we'll use mean square error because it's a numeric problem and for optmizer we'll use adam. Adam is a replacement optimization algorithm for stochastic gradient descent for training deep learning models."
      ]
    },
    {
      "cell_type": "code",
      "execution_count": null,
      "metadata": {
        "id": "hUIT9Ryjd6as"
      },
      "outputs": [],
      "source": [
        "model.compile(loss = 'mean_squared_error',optimizer='adam')"
      ]
    },
    {
      "cell_type": "code",
      "execution_count": null,
      "metadata": {
        "colab": {
          "base_uri": "https://localhost:8080/"
        },
        "id": "vo_Kz0v0d6dM",
        "outputId": "499f48e2-1c06-4823-f31a-e3ff24de272b"
      },
      "outputs": [
        {
          "name": "stdout",
          "output_type": "stream",
          "text": [
            "Epoch 1/50\n",
            "230/230 [==============================] - 21s 91ms/step - loss: 0.0011\n",
            "Epoch 2/50\n",
            "230/230 [==============================] - 22s 95ms/step - loss: 9.4819e-04\n",
            "Epoch 3/50\n",
            "230/230 [==============================] - 22s 97ms/step - loss: 8.7287e-04\n",
            "Epoch 4/50\n",
            "230/230 [==============================] - 23s 99ms/step - loss: 7.7153e-04\n",
            "Epoch 5/50\n",
            "230/230 [==============================] - 23s 98ms/step - loss: 6.7913e-04\n",
            "Epoch 6/50\n",
            "230/230 [==============================] - 24s 103ms/step - loss: 6.2772e-04\n",
            "Epoch 7/50\n",
            "230/230 [==============================] - 25s 107ms/step - loss: 6.4008e-04\n",
            "Epoch 8/50\n",
            "230/230 [==============================] - 24s 105ms/step - loss: 5.9784e-04\n",
            "Epoch 9/50\n",
            "230/230 [==============================] - 24s 105ms/step - loss: 5.9344e-04\n",
            "Epoch 10/50\n",
            "230/230 [==============================] - 25s 107ms/step - loss: 5.5178e-04\n",
            "Epoch 11/50\n",
            "230/230 [==============================] - 24s 104ms/step - loss: 5.2615e-04\n",
            "Epoch 12/50\n",
            "230/230 [==============================] - 27s 118ms/step - loss: 5.2554e-04\n",
            "Epoch 13/50\n",
            "230/230 [==============================] - 27s 116ms/step - loss: 4.7474e-04\n",
            "Epoch 14/50\n",
            "230/230 [==============================] - 26s 115ms/step - loss: 4.9363e-04\n",
            "Epoch 15/50\n",
            "230/230 [==============================] - 26s 111ms/step - loss: 4.8346e-04\n",
            "Epoch 16/50\n",
            "230/230 [==============================] - 25s 110ms/step - loss: 4.5449e-04\n",
            "Epoch 17/50\n",
            "230/230 [==============================] - 26s 112ms/step - loss: 4.7787e-04\n",
            "Epoch 18/50\n",
            "230/230 [==============================] - 26s 112ms/step - loss: 4.2271e-04\n",
            "Epoch 19/50\n",
            "230/230 [==============================] - 27s 115ms/step - loss: 4.3889e-04\n",
            "Epoch 20/50\n",
            "230/230 [==============================] - 27s 117ms/step - loss: 4.3044e-04\n",
            "Epoch 21/50\n",
            "230/230 [==============================] - 27s 119ms/step - loss: 3.8791e-04\n",
            "Epoch 22/50\n",
            "230/230 [==============================] - 25s 110ms/step - loss: 4.7799e-04\n",
            "Epoch 23/50\n",
            "230/230 [==============================] - 26s 112ms/step - loss: 4.5598e-04\n",
            "Epoch 24/50\n",
            "230/230 [==============================] - 25s 108ms/step - loss: 3.8760e-04\n",
            "Epoch 25/50\n",
            "230/230 [==============================] - 25s 109ms/step - loss: 3.9239e-04\n",
            "Epoch 26/50\n",
            "230/230 [==============================] - 26s 113ms/step - loss: 3.8685e-04\n",
            "Epoch 27/50\n",
            "230/230 [==============================] - 26s 113ms/step - loss: 4.1735e-04\n",
            "Epoch 28/50\n",
            "230/230 [==============================] - 27s 116ms/step - loss: 3.6720e-04\n",
            "Epoch 29/50\n",
            "230/230 [==============================] - 26s 115ms/step - loss: 4.1744e-04\n",
            "Epoch 30/50\n",
            "230/230 [==============================] - 26s 112ms/step - loss: 4.3990e-04\n",
            "Epoch 31/50\n",
            "230/230 [==============================] - 26s 111ms/step - loss: 3.6988e-04\n",
            "Epoch 32/50\n",
            "230/230 [==============================] - 26s 111ms/step - loss: 3.5508e-04\n",
            "Epoch 33/50\n",
            "230/230 [==============================] - 26s 114ms/step - loss: 3.6343e-04\n",
            "Epoch 34/50\n",
            "230/230 [==============================] - 27s 117ms/step - loss: 3.5036e-04\n",
            "Epoch 35/50\n",
            "230/230 [==============================] - 26s 114ms/step - loss: 3.5467e-04\n",
            "Epoch 36/50\n",
            "230/230 [==============================] - 27s 116ms/step - loss: 3.5893e-04\n",
            "Epoch 37/50\n",
            "230/230 [==============================] - 27s 116ms/step - loss: 3.7554e-04\n",
            "Epoch 38/50\n",
            "230/230 [==============================] - 25s 108ms/step - loss: 3.4557e-04\n",
            "Epoch 39/50\n",
            "230/230 [==============================] - 25s 110ms/step - loss: 3.6360e-04\n",
            "Epoch 40/50\n",
            "230/230 [==============================] - 25s 110ms/step - loss: 3.8306e-04\n",
            "Epoch 41/50\n",
            "230/230 [==============================] - 26s 112ms/step - loss: 3.3339e-04\n",
            "Epoch 42/50\n",
            "230/230 [==============================] - 25s 110ms/step - loss: 3.2965e-04\n",
            "Epoch 43/50\n",
            "230/230 [==============================] - 24s 104ms/step - loss: 3.2645e-04\n",
            "Epoch 44/50\n",
            "230/230 [==============================] - 25s 110ms/step - loss: 3.3460e-04\n",
            "Epoch 45/50\n",
            "230/230 [==============================] - 24s 105ms/step - loss: 3.4776e-04\n",
            "Epoch 46/50\n",
            "230/230 [==============================] - 24s 106ms/step - loss: 3.3345e-04\n",
            "Epoch 47/50\n",
            "230/230 [==============================] - 4280s 19s/step - loss: 3.5881e-04\n",
            "Epoch 48/50\n",
            "230/230 [==============================] - 25s 109ms/step - loss: 3.4098e-04\n",
            "Epoch 49/50\n",
            "230/230 [==============================] - 28s 123ms/step - loss: 3.3074e-04\n",
            "Epoch 50/50\n",
            "230/230 [==============================] - 28s 122ms/step - loss: 3.0568e-04\n"
          ]
        },
        {
          "name": "stderr",
          "output_type": "stream",
          "text": [
            "WARNING:absl:Found untraced functions such as lstm_cell_layer_call_fn, lstm_cell_layer_call_and_return_conditional_losses, lstm_cell_1_layer_call_fn, lstm_cell_1_layer_call_and_return_conditional_losses, lstm_cell_2_layer_call_fn while saving (showing 5 of 6). These functions will not be directly callable after loading.\n"
          ]
        },
        {
          "name": "stdout",
          "output_type": "stream",
          "text": [
            "INFO:tensorflow:Assets written to: C:\\Users\\f00480153\\Desktop\\LSTM MICROSOFT PREDICTION\\model_stock_prediction\\assets\n"
          ]
        },
        {
          "name": "stderr",
          "output_type": "stream",
          "text": [
            "INFO:tensorflow:Assets written to: C:\\Users\\f00480153\\Desktop\\LSTM MICROSOFT PREDICTION\\model_stock_prediction\\assets\n"
          ]
        }
      ],
      "source": [
        "if (not os.path.exists(r'C:\\Users\\f00480153\\Desktop\\LSTM MICROSOFT PREDICTION\\model_stock_prediction')):\n",
        "  model.fit(x_train,y_train, epochs=50, batch_size=32)\n",
        "  model.save(r'C:\\Users\\f00480153\\Desktop\\LSTM MICROSOFT PREDICTION\\model_stock_prediction')"
      ]
    },
    {
      "cell_type": "code",
      "execution_count": null,
      "metadata": {
        "id": "dx_UnDwQd6gE"
      },
      "outputs": [],
      "source": [
        "model = load_model(r'C:\\Users\\f00480153\\Desktop\\LSTM MICROSOFT PREDICTION\\model_stock_prediction')"
      ]
    },
    {
      "cell_type": "markdown",
      "metadata": {
        "id": "jWnlCtmjKaK7"
      },
      "source": [
        "Noticed that our model is scaled, so we need to reverse scaler so our values be the quote values"
      ]
    },
    {
      "cell_type": "code",
      "execution_count": null,
      "metadata": {
        "id": "pk6BCs1Gd6iq",
        "outputId": "dfa9c49c-065b-4d36-ab15-e170cd7f72e6"
      },
      "outputs": [
        {
          "name": "stdout",
          "output_type": "stream",
          "text": [
            "58/58 [==============================] - 3s 49ms/step\n"
          ]
        },
        {
          "data": {
            "text/plain": [
              "array([[ 45.537987],\n",
              "       [ 45.218376],\n",
              "       [ 44.351463],\n",
              "       ...,\n",
              "       [184.24132 ],\n",
              "       [227.02232 ],\n",
              "       [207.36847 ]], dtype=float32)"
            ]
          },
          "execution_count": 23,
          "metadata": {},
          "output_type": "execute_result"
        }
      ],
      "source": [
        "predictions = model.predict(x_test)\n",
        "predictions = scaler.inverse_transform(predictions)\n",
        "predictions"
      ]
    },
    {
      "cell_type": "code",
      "execution_count": null,
      "metadata": {
        "id": "YCP4sMDpd6lS",
        "outputId": "56c5f9c0-b8d8-4c42-c8aa-0aa0bc4a7b31"
      },
      "outputs": [
        {
          "name": "stdout",
          "output_type": "stream",
          "text": [
            "range(7384, 9230)\n"
          ]
        },
        {
          "data": {
            "image/png": "[encoded data removed]",
            "text/plain": [
              "<Figure size 1200x400 with 1 Axes>"
            ]
          },
          "metadata": {},
          "output_type": "display_data"
        }
      ],
      "source": [
        "fig,ax=plt.subplots(figsize=(12,4))\n",
        "plt.plot(df, color='orange',label='originak Stockprice')\n",
        "ax.plot(range(len(y_train)+50, len(y_train)+50+len(predictions)),predictions, color='cyan', label='Predictions')\n",
        "plt.legend()\n",
        "print(range(len(y_train)+50, len(y_train)+50+len(predictions)))"
      ]
    },
    {
      "cell_type": "code",
      "execution_count": null,
      "metadata": {
        "id": "fjfQ46Ild6oJ",
        "outputId": "c21d6b57-7236-4d73-8c70-0ad143e5397a"
      },
      "outputs": [
        {
          "data": {
            "text/plain": [
              "<matplotlib.legend.Legend at 0x1daa66e0940>"
            ]
          },
          "execution_count": 39,
          "metadata": {},
          "output_type": "execute_result"
        },
        {
          "data": {
            "image/png": "[encoded data removed]",
            "text/plain": [
              "<Figure size 800x400 with 1 Axes>"
            ]
          },
          "metadata": {},
          "output_type": "display_data"
        }
      ],
      "source": [
        "y_test_scaled = scaler.inverse_transform(y_test.reshape(-1,1))\n",
        "\n",
        "fig,ax = plt.subplots(figsize=(8,4))\n",
        "ax.plot(y_test_scaled, color='orange',label='True Prices')\n",
        "plt.plot(predictions,color=\"cyan\",label = 'Predicted Prices')\n",
        "plt.legend()"
      ]
    }
  ],
  "metadata": {
    "colab": {
      "collapsed_sections": [],
      "history_visible": true,
      "provenance": []
    },
    "kernelspec": {
      "display_name": "Python 3 (ipykernel)",
      "language": "python",
      "name": "python3"
    },
    "language_info": {
      "codemirror_mode": {
        "name": "ipython",
        "version": 3
      },
      "file_extension": ".py",
      "mimetype": "text/x-python",
      "name": "python",
      "nbconvert_exporter": "python",
      "pygments_lexer": "ipython3",
      "version": "3.9.13"
    }
  },
  "nbformat": 4,
  "nbformat_minor": 0
}